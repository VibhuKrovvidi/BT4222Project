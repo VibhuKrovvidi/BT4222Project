{
  "nbformat": 4,
  "nbformat_minor": 0,
  "metadata": {
    "kernelspec": {
      "display_name": "Python 3",
      "language": "python",
      "name": "python3"
    },
    "language_info": {
      "codemirror_mode": {
        "name": "ipython",
        "version": 3
      },
      "file_extension": ".py",
      "mimetype": "text/x-python",
      "name": "python",
      "nbconvert_exporter": "python",
      "pygments_lexer": "ipython3",
      "version": "3.7.4"
    },
    "colab": {
      "name": "Model_Comparison.ipynb",
      "provenance": [],
      "collapsed_sections": []
    }
  },
  "cells": [
    {
      "cell_type": "markdown",
      "metadata": {
        "id": "8TkfP9Slk_yF"
      },
      "source": [
        "## Initial LSTM Trials"
      ]
    },
    {
      "cell_type": "code",
      "metadata": {
        "colab": {
          "base_uri": "https://localhost:8080/"
        },
        "id": "P1Xw2RJck_yG",
        "outputId": "d28dfb6d-bc51-4e34-e816-a2b1e5118a82"
      },
      "source": [
        "import pandas as pd\n",
        "print(pd.__version__)\n",
        "import numpy as np\n",
        "import tensorflow as tf\n",
        "from tensorflow.keras.preprocessing.text import Tokenizer\n",
        "from tensorflow.keras.preprocessing.sequence import pad_sequences\n",
        "from tensorflow.keras.layers import Dense, Flatten, Embedding, LSTM, GRU\n",
        "from tensorflow.keras.models import Sequential"
      ],
      "execution_count": 2,
      "outputs": [
        {
          "output_type": "stream",
          "name": "stdout",
          "text": [
            "1.1.5\n"
          ]
        }
      ]
    },
    {
      "cell_type": "code",
      "metadata": {
        "colab": {
          "base_uri": "https://localhost:8080/"
        },
        "id": "qPVEFzVchVbg",
        "outputId": "6015bf6a-42c0-46ad-d242-73a675db2478"
      },
      "source": [
        "from google.colab import drive\n",
        "drive.mount('/content/drive')"
      ],
      "execution_count": 3,
      "outputs": [
        {
          "output_type": "stream",
          "name": "stdout",
          "text": [
            "Mounted at /content/drive\n"
          ]
        }
      ]
    },
    {
      "cell_type": "code",
      "metadata": {
        "colab": {
          "base_uri": "https://localhost:8080/",
          "height": 423
        },
        "id": "xlxGVzc5k_yH",
        "outputId": "420b1073-615b-4edf-d03f-d8d2cf9223c9"
      },
      "source": [
        "df_train = pd.read_pickle('/content/drive/MyDrive/Colab Notebooks/BT4222Project/sent_train.pkl')\n",
        "# df_train = df_train.drop_duplicates(subset=['raw_clause'])\n",
        "df_train"
      ],
      "execution_count": 3,
      "outputs": [
        {
          "output_type": "execute_result",
          "data": {
            "text/html": [
              "<div>\n",
              "<style scoped>\n",
              "    .dataframe tbody tr th:only-of-type {\n",
              "        vertical-align: middle;\n",
              "    }\n",
              "\n",
              "    .dataframe tbody tr th {\n",
              "        vertical-align: top;\n",
              "    }\n",
              "\n",
              "    .dataframe thead th {\n",
              "        text-align: right;\n",
              "    }\n",
              "</style>\n",
              "<table border=\"1\" class=\"dataframe\">\n",
              "  <thead>\n",
              "    <tr style=\"text-align: right;\">\n",
              "      <th></th>\n",
              "      <th>index</th>\n",
              "      <th>feature</th>\n",
              "      <th>raw_clause</th>\n",
              "      <th>clause_vector</th>\n",
              "      <th>clause_polarity</th>\n",
              "    </tr>\n",
              "  </thead>\n",
              "  <tbody>\n",
              "    <tr>\n",
              "      <th>0</th>\n",
              "      <td>154</td>\n",
              "      <td>review</td>\n",
              "      <td>Thank you for leaving a review</td>\n",
              "      <td>[[-0.49886, 0.76602, 0.89751, -0.78547, -0.685...</td>\n",
              "      <td>0.00</td>\n",
              "    </tr>\n",
              "    <tr>\n",
              "      <th>0</th>\n",
              "      <td>154</td>\n",
              "      <td>dinner</td>\n",
              "      <td>\\r\\n\\r\\n Restaurant Ibid is now re - opened fo...</td>\n",
              "      <td>[[-0.54264, 0.41476, 1.0322, -0.40244, 0.46691...</td>\n",
              "      <td>0.00</td>\n",
              "    </tr>\n",
              "    <tr>\n",
              "      <th>0</th>\n",
              "      <td>154</td>\n",
              "      <td>Mondays</td>\n",
              "      <td>\\r\\n\\r\\n Restaurant Ibid is now re - opened fo...</td>\n",
              "      <td>[[-0.54264, 0.41476, 1.0322, -0.40244, 0.46691...</td>\n",
              "      <td>0.00</td>\n",
              "    </tr>\n",
              "    <tr>\n",
              "      <th>0</th>\n",
              "      <td>154</td>\n",
              "      <td>forwards</td>\n",
              "      <td>\\r\\n\\r\\n Looking forwards to hosting you</td>\n",
              "      <td>[[0.29756, 0.70983, 0.65643, -1.3487, -0.41072...</td>\n",
              "      <td>0.00</td>\n",
              "    </tr>\n",
              "    <tr>\n",
              "      <th>0</th>\n",
              "      <td>154</td>\n",
              "      <td>reservations</td>\n",
              "      <td>reservations are highly recommended</td>\n",
              "      <td>[[-0.13411, -0.39639, 0.64715, 0.38583, -0.225...</td>\n",
              "      <td>0.16</td>\n",
              "    </tr>\n",
              "    <tr>\n",
              "      <th>...</th>\n",
              "      <td>...</td>\n",
              "      <td>...</td>\n",
              "      <td>...</td>\n",
              "      <td>...</td>\n",
              "      <td>...</td>\n",
              "    </tr>\n",
              "    <tr>\n",
              "      <th>0</th>\n",
              "      <td>83</td>\n",
              "      <td>vegetarian</td>\n",
              "      <td>Came in vegetarian</td>\n",
              "      <td>[[0.085703, -0.22201, 0.16569, 0.13373, 0.3823...</td>\n",
              "      <td>0.00</td>\n",
              "    </tr>\n",
              "    <tr>\n",
              "      <th>0</th>\n",
              "      <td>83</td>\n",
              "      <td>sauces</td>\n",
              "      <td>The sauces</td>\n",
              "      <td>[[-0.66793, 0.45105, -0.37039, -0.29082, 0.241...</td>\n",
              "      <td>0.00</td>\n",
              "    </tr>\n",
              "    <tr>\n",
              "      <th>0</th>\n",
              "      <td>83</td>\n",
              "      <td>steak</td>\n",
              "      <td>came out wanting to eat more steak</td>\n",
              "      <td>[[0.27455, -0.0093143, 0.50753, -0.43629, 0.24...</td>\n",
              "      <td>0.50</td>\n",
              "    </tr>\n",
              "    <tr>\n",
              "      <th>0</th>\n",
              "      <td>83</td>\n",
              "      <td>service</td>\n",
              "      <td>service and</td>\n",
              "      <td>[[-0.4224, -0.13313, -0.41418, -0.23677, 0.190...</td>\n",
              "      <td>0.00</td>\n",
              "    </tr>\n",
              "    <tr>\n",
              "      <th>0</th>\n",
              "      <td>83</td>\n",
              "      <td>sides</td>\n",
              "      <td>sides</td>\n",
              "      <td>[[-0.73389, -0.17295, -0.43495, 1.1117, -0.050...</td>\n",
              "      <td>0.00</td>\n",
              "    </tr>\n",
              "  </tbody>\n",
              "</table>\n",
              "<p>8909 rows × 5 columns</p>\n",
              "</div>"
            ],
            "text/plain": [
              "    index  ... clause_polarity\n",
              "0     154  ...            0.00\n",
              "0     154  ...            0.00\n",
              "0     154  ...            0.00\n",
              "0     154  ...            0.00\n",
              "0     154  ...            0.16\n",
              "..    ...  ...             ...\n",
              "0      83  ...            0.00\n",
              "0      83  ...            0.00\n",
              "0      83  ...            0.50\n",
              "0      83  ...            0.00\n",
              "0      83  ...            0.00\n",
              "\n",
              "[8909 rows x 5 columns]"
            ]
          },
          "metadata": {},
          "execution_count": 3
        }
      ]
    },
    {
      "cell_type": "code",
      "metadata": {
        "colab": {
          "base_uri": "https://localhost:8080/",
          "height": 423
        },
        "id": "OPA_5BE1pfJD",
        "outputId": "499a6684-eec1-4243-d557-9f1003a143ba"
      },
      "source": [
        "df_val = pd.read_pickle('/content/drive/MyDrive/Colab Notebooks/BT4222Project/sent_datasets/sent_validate.pkl')\n",
        "# df_val = df_val.drop_duplicates(subset=['raw_clause'])\n",
        "df_val"
      ],
      "execution_count": 4,
      "outputs": [
        {
          "output_type": "execute_result",
          "data": {
            "text/html": [
              "<div>\n",
              "<style scoped>\n",
              "    .dataframe tbody tr th:only-of-type {\n",
              "        vertical-align: middle;\n",
              "    }\n",
              "\n",
              "    .dataframe tbody tr th {\n",
              "        vertical-align: top;\n",
              "    }\n",
              "\n",
              "    .dataframe thead th {\n",
              "        text-align: right;\n",
              "    }\n",
              "</style>\n",
              "<table border=\"1\" class=\"dataframe\">\n",
              "  <thead>\n",
              "    <tr style=\"text-align: right;\">\n",
              "      <th></th>\n",
              "      <th>index</th>\n",
              "      <th>feature</th>\n",
              "      <th>raw_clause</th>\n",
              "      <th>clause_vector</th>\n",
              "      <th>clause_polarity</th>\n",
              "    </tr>\n",
              "  </thead>\n",
              "  <tbody>\n",
              "    <tr>\n",
              "      <th>0</th>\n",
              "      <td>296</td>\n",
              "      <td>friends</td>\n",
              "      <td>Outdoor is kinda hot to chill with friends</td>\n",
              "      <td>[[-0.54264, 0.41476, 1.0322, -0.40244, 0.46691...</td>\n",
              "      <td>0.25</td>\n",
              "    </tr>\n",
              "    <tr>\n",
              "      <th>0</th>\n",
              "      <td>296</td>\n",
              "      <td>Customer</td>\n",
              "      <td>Customer service good</td>\n",
              "      <td>[[-0.4224, -0.13313, -0.41418, -0.23677, 0.190...</td>\n",
              "      <td>0.70</td>\n",
              "    </tr>\n",
              "    <tr>\n",
              "      <th>0</th>\n",
              "      <td>296</td>\n",
              "      <td>service</td>\n",
              "      <td>Customer service good</td>\n",
              "      <td>[[-0.4224, -0.13313, -0.41418, -0.23677, 0.190...</td>\n",
              "      <td>0.70</td>\n",
              "    </tr>\n",
              "    <tr>\n",
              "      <th>0</th>\n",
              "      <td>112</td>\n",
              "      <td>review</td>\n",
              "      <td>Thank you for leaving a review</td>\n",
              "      <td>[[-0.49886, 0.76602, 0.89751, -0.78547, -0.685...</td>\n",
              "      <td>0.00</td>\n",
              "    </tr>\n",
              "    <tr>\n",
              "      <th>0</th>\n",
              "      <td>112</td>\n",
              "      <td>dinner</td>\n",
              "      <td>\\r\\n\\r\\n Restaurant Ibid is now re - opened fo...</td>\n",
              "      <td>[[-0.54264, 0.41476, 1.0322, -0.40244, 0.46691...</td>\n",
              "      <td>0.00</td>\n",
              "    </tr>\n",
              "    <tr>\n",
              "      <th>...</th>\n",
              "      <td>...</td>\n",
              "      <td>...</td>\n",
              "      <td>...</td>\n",
              "      <td>...</td>\n",
              "      <td>...</td>\n",
              "    </tr>\n",
              "    <tr>\n",
              "      <th>0</th>\n",
              "      <td>51</td>\n",
              "      <td>steak</td>\n",
              "      <td>this is steak heaven</td>\n",
              "      <td>[[-0.57058, 0.44183, 0.70102, -0.41713, -0.340...</td>\n",
              "      <td>0.00</td>\n",
              "    </tr>\n",
              "    <tr>\n",
              "      <th>0</th>\n",
              "      <td>51</td>\n",
              "      <td>experience</td>\n",
              "      <td>was whisked away to a unforgettable experience...</td>\n",
              "      <td>[[0.13717, -0.54287, 0.19419, -0.29953, 0.1754...</td>\n",
              "      <td>0.80</td>\n",
              "    </tr>\n",
              "    <tr>\n",
              "      <th>0</th>\n",
              "      <td>51</td>\n",
              "      <td>crusty</td>\n",
              "      <td>was whisked away to a unforgettable experience...</td>\n",
              "      <td>[[0.13717, -0.54287, 0.19419, -0.29953, 0.1754...</td>\n",
              "      <td>0.80</td>\n",
              "    </tr>\n",
              "    <tr>\n",
              "      <th>0</th>\n",
              "      <td>51</td>\n",
              "      <td>cut</td>\n",
              "      <td>go for the early cut menu</td>\n",
              "      <td>[[-0.078894, 0.4616, 0.57779, -0.71637, -0.131...</td>\n",
              "      <td>0.10</td>\n",
              "    </tr>\n",
              "    <tr>\n",
              "      <th>0</th>\n",
              "      <td>51</td>\n",
              "      <td>menu</td>\n",
              "      <td>go for the early cut menu</td>\n",
              "      <td>[[-0.078894, 0.4616, 0.57779, -0.71637, -0.131...</td>\n",
              "      <td>0.10</td>\n",
              "    </tr>\n",
              "  </tbody>\n",
              "</table>\n",
              "<p>2902 rows × 5 columns</p>\n",
              "</div>"
            ],
            "text/plain": [
              "    index  ... clause_polarity\n",
              "0     296  ...            0.25\n",
              "0     296  ...            0.70\n",
              "0     296  ...            0.70\n",
              "0     112  ...            0.00\n",
              "0     112  ...            0.00\n",
              "..    ...  ...             ...\n",
              "0      51  ...            0.00\n",
              "0      51  ...            0.80\n",
              "0      51  ...            0.80\n",
              "0      51  ...            0.10\n",
              "0      51  ...            0.10\n",
              "\n",
              "[2902 rows x 5 columns]"
            ]
          },
          "metadata": {},
          "execution_count": 4
        }
      ]
    },
    {
      "cell_type": "code",
      "metadata": {
        "colab": {
          "base_uri": "https://localhost:8080/",
          "height": 423
        },
        "id": "ad00J6dXmGQf",
        "outputId": "79943bd5-d06b-45c5-c4ad-0547f174d3c4"
      },
      "source": [
        "df_test = pd.read_pickle('/content/drive/MyDrive/Colab Notebooks/BT4222Project/sent_datasets/sent_test.pkl')\n",
        "# df_test = df_test.drop_duplicates(subset=['raw_clause'])\n",
        "df_test"
      ],
      "execution_count": 5,
      "outputs": [
        {
          "output_type": "execute_result",
          "data": {
            "text/html": [
              "<div>\n",
              "<style scoped>\n",
              "    .dataframe tbody tr th:only-of-type {\n",
              "        vertical-align: middle;\n",
              "    }\n",
              "\n",
              "    .dataframe tbody tr th {\n",
              "        vertical-align: top;\n",
              "    }\n",
              "\n",
              "    .dataframe thead th {\n",
              "        text-align: right;\n",
              "    }\n",
              "</style>\n",
              "<table border=\"1\" class=\"dataframe\">\n",
              "  <thead>\n",
              "    <tr style=\"text-align: right;\">\n",
              "      <th></th>\n",
              "      <th>index</th>\n",
              "      <th>feature</th>\n",
              "      <th>raw_clause</th>\n",
              "      <th>clause_vector</th>\n",
              "      <th>clause_polarity</th>\n",
              "    </tr>\n",
              "  </thead>\n",
              "  <tbody>\n",
              "    <tr>\n",
              "      <th>0</th>\n",
              "      <td>176</td>\n",
              "      <td>burger</td>\n",
              "      <td>I have nt had such a delicious burger is a while</td>\n",
              "      <td>[[0.15711, 0.65606, 0.0021149, -0.65144, -0.28...</td>\n",
              "      <td>0.5</td>\n",
              "    </tr>\n",
              "    <tr>\n",
              "      <th>0</th>\n",
              "      <td>176</td>\n",
              "      <td>while</td>\n",
              "      <td>I have nt had such a delicious burger is a while</td>\n",
              "      <td>[[0.15711, 0.65606, 0.0021149, -0.65144, -0.28...</td>\n",
              "      <td>0.5</td>\n",
              "    </tr>\n",
              "    <tr>\n",
              "      <th>0</th>\n",
              "      <td>176</td>\n",
              "      <td>burgers</td>\n",
              "      <td>Great burgers at reasonable prices</td>\n",
              "      <td>[[-0.42404, 0.0074403, -0.4665, -0.42496, -0.5...</td>\n",
              "      <td>0.5</td>\n",
              "    </tr>\n",
              "    <tr>\n",
              "      <th>0</th>\n",
              "      <td>176</td>\n",
              "      <td>prices</td>\n",
              "      <td>Great burgers at reasonable prices</td>\n",
              "      <td>[[-0.42404, 0.0074403, -0.4665, -0.42496, -0.5...</td>\n",
              "      <td>0.5</td>\n",
              "    </tr>\n",
              "    <tr>\n",
              "      <th>0</th>\n",
              "      <td>176</td>\n",
              "      <td>Onion</td>\n",
              "      <td>Onion rings are crispy awesome too</td>\n",
              "      <td>[[0.65609, 0.03754, -0.14359, -0.47495, 0.8703...</td>\n",
              "      <td>1.0</td>\n",
              "    </tr>\n",
              "    <tr>\n",
              "      <th>...</th>\n",
              "      <td>...</td>\n",
              "      <td>...</td>\n",
              "      <td>...</td>\n",
              "      <td>...</td>\n",
              "      <td>...</td>\n",
              "    </tr>\n",
              "    <tr>\n",
              "      <th>0</th>\n",
              "      <td>497</td>\n",
              "      <td>service</td>\n",
              "      <td>excellent service</td>\n",
              "      <td>[[-0.2816, 0.18427, -0.06755, 0.27694, -0.0667...</td>\n",
              "      <td>1.0</td>\n",
              "    </tr>\n",
              "    <tr>\n",
              "      <th>0</th>\n",
              "      <td>497</td>\n",
              "      <td>porterhouse</td>\n",
              "      <td>the porterhouse and</td>\n",
              "      <td>[[-0.038194, -0.24487, 0.72812, -0.39961, 0.08...</td>\n",
              "      <td>0.0</td>\n",
              "    </tr>\n",
              "    <tr>\n",
              "      <th>0</th>\n",
              "      <td>497</td>\n",
              "      <td>couple</td>\n",
              "      <td>a couple dozen oysters</td>\n",
              "      <td>[[-0.27086, 0.044006, -0.02026, -0.17395, 0.64...</td>\n",
              "      <td>0.0</td>\n",
              "    </tr>\n",
              "    <tr>\n",
              "      <th>0</th>\n",
              "      <td>497</td>\n",
              "      <td>dozen</td>\n",
              "      <td>a couple dozen oysters</td>\n",
              "      <td>[[-0.27086, 0.044006, -0.02026, -0.17395, 0.64...</td>\n",
              "      <td>0.0</td>\n",
              "    </tr>\n",
              "    <tr>\n",
              "      <th>0</th>\n",
              "      <td>497</td>\n",
              "      <td>oysters</td>\n",
              "      <td>a couple dozen oysters</td>\n",
              "      <td>[[-0.27086, 0.044006, -0.02026, -0.17395, 0.64...</td>\n",
              "      <td>0.0</td>\n",
              "    </tr>\n",
              "  </tbody>\n",
              "</table>\n",
              "<p>2978 rows × 5 columns</p>\n",
              "</div>"
            ],
            "text/plain": [
              "    index  ... clause_polarity\n",
              "0     176  ...             0.5\n",
              "0     176  ...             0.5\n",
              "0     176  ...             0.5\n",
              "0     176  ...             0.5\n",
              "0     176  ...             1.0\n",
              "..    ...  ...             ...\n",
              "0     497  ...             1.0\n",
              "0     497  ...             0.0\n",
              "0     497  ...             0.0\n",
              "0     497  ...             0.0\n",
              "0     497  ...             0.0\n",
              "\n",
              "[2978 rows x 5 columns]"
            ]
          },
          "metadata": {},
          "execution_count": 5
        }
      ]
    },
    {
      "cell_type": "code",
      "metadata": {
        "id": "Dn9ug-0BHYPF"
      },
      "source": [
        "def myfunc(polarity):\n",
        "    if polarity<=0.25:\n",
        "        age=0 # Really bad\n",
        "    elif polarity>0.25 and polarity<= 0.5:\n",
        "        age=1 # Okay\n",
        "    elif polarity>0.5 and polarity<= 0.75:\n",
        "        age=2 # Good\n",
        "    else:\n",
        "        age=3 # Really Good\n",
        "    return age"
      ],
      "execution_count": null,
      "outputs": []
    },
    {
      "cell_type": "code",
      "metadata": {
        "colab": {
          "base_uri": "https://localhost:8080/",
          "height": 205
        },
        "id": "_B94VAXwqPTi",
        "outputId": "80b3802a-5229-40ab-de39-67094dfd2144"
      },
      "source": [
        "df_train['sentiment'] = np.where(df_train['clause_polarity'] >= 0.0, 1, 0)\n",
        "# df_train['sentiment'] = df_train.apply(lambda x : myfunc(x['clause_polarity']),axis = 1)\n",
        "df_train.head()"
      ],
      "execution_count": null,
      "outputs": [
        {
          "output_type": "execute_result",
          "data": {
            "text/html": [
              "<div>\n",
              "<style scoped>\n",
              "    .dataframe tbody tr th:only-of-type {\n",
              "        vertical-align: middle;\n",
              "    }\n",
              "\n",
              "    .dataframe tbody tr th {\n",
              "        vertical-align: top;\n",
              "    }\n",
              "\n",
              "    .dataframe thead th {\n",
              "        text-align: right;\n",
              "    }\n",
              "</style>\n",
              "<table border=\"1\" class=\"dataframe\">\n",
              "  <thead>\n",
              "    <tr style=\"text-align: right;\">\n",
              "      <th></th>\n",
              "      <th>index</th>\n",
              "      <th>feature</th>\n",
              "      <th>raw_clause</th>\n",
              "      <th>clause_vector</th>\n",
              "      <th>clause_polarity</th>\n",
              "      <th>sentiment</th>\n",
              "    </tr>\n",
              "  </thead>\n",
              "  <tbody>\n",
              "    <tr>\n",
              "      <th>0</th>\n",
              "      <td>154</td>\n",
              "      <td>review</td>\n",
              "      <td>Thank you for leaving a review</td>\n",
              "      <td>[[-0.49886, 0.76602, 0.89751, -0.78547, -0.685...</td>\n",
              "      <td>0.00</td>\n",
              "      <td>1</td>\n",
              "    </tr>\n",
              "    <tr>\n",
              "      <th>0</th>\n",
              "      <td>154</td>\n",
              "      <td>dinner</td>\n",
              "      <td>\\r\\n\\r\\n Restaurant Ibid is now re - opened fo...</td>\n",
              "      <td>[[-0.54264, 0.41476, 1.0322, -0.40244, 0.46691...</td>\n",
              "      <td>0.00</td>\n",
              "      <td>1</td>\n",
              "    </tr>\n",
              "    <tr>\n",
              "      <th>0</th>\n",
              "      <td>154</td>\n",
              "      <td>Mondays</td>\n",
              "      <td>\\r\\n\\r\\n Restaurant Ibid is now re - opened fo...</td>\n",
              "      <td>[[-0.54264, 0.41476, 1.0322, -0.40244, 0.46691...</td>\n",
              "      <td>0.00</td>\n",
              "      <td>1</td>\n",
              "    </tr>\n",
              "    <tr>\n",
              "      <th>0</th>\n",
              "      <td>154</td>\n",
              "      <td>forwards</td>\n",
              "      <td>\\r\\n\\r\\n Looking forwards to hosting you</td>\n",
              "      <td>[[0.29756, 0.70983, 0.65643, -1.3487, -0.41072...</td>\n",
              "      <td>0.00</td>\n",
              "      <td>1</td>\n",
              "    </tr>\n",
              "    <tr>\n",
              "      <th>0</th>\n",
              "      <td>154</td>\n",
              "      <td>reservations</td>\n",
              "      <td>reservations are highly recommended</td>\n",
              "      <td>[[-0.13411, -0.39639, 0.64715, 0.38583, -0.225...</td>\n",
              "      <td>0.16</td>\n",
              "      <td>1</td>\n",
              "    </tr>\n",
              "  </tbody>\n",
              "</table>\n",
              "</div>"
            ],
            "text/plain": [
              "   index       feature  ... clause_polarity sentiment\n",
              "0    154        review  ...            0.00         1\n",
              "0    154        dinner  ...            0.00         1\n",
              "0    154       Mondays  ...            0.00         1\n",
              "0    154      forwards  ...            0.00         1\n",
              "0    154  reservations  ...            0.16         1\n",
              "\n",
              "[5 rows x 6 columns]"
            ]
          },
          "metadata": {},
          "execution_count": 9
        }
      ]
    },
    {
      "cell_type": "code",
      "metadata": {
        "colab": {
          "base_uri": "https://localhost:8080/",
          "height": 205
        },
        "id": "x09UQeLFrIsU",
        "outputId": "2a6e54f2-cf77-4025-9883-09df454e3af7"
      },
      "source": [
        "df_test['sentiment'] = np.where(df_test['clause_polarity'] >= 0.0, 1, 0)\n",
        "# df_test['sentiment'] = df_test.apply(lambda x : myfunc(x['clause_polarity']),axis = 1)\n",
        "df_test.head()"
      ],
      "execution_count": null,
      "outputs": [
        {
          "output_type": "execute_result",
          "data": {
            "text/html": [
              "<div>\n",
              "<style scoped>\n",
              "    .dataframe tbody tr th:only-of-type {\n",
              "        vertical-align: middle;\n",
              "    }\n",
              "\n",
              "    .dataframe tbody tr th {\n",
              "        vertical-align: top;\n",
              "    }\n",
              "\n",
              "    .dataframe thead th {\n",
              "        text-align: right;\n",
              "    }\n",
              "</style>\n",
              "<table border=\"1\" class=\"dataframe\">\n",
              "  <thead>\n",
              "    <tr style=\"text-align: right;\">\n",
              "      <th></th>\n",
              "      <th>index</th>\n",
              "      <th>feature</th>\n",
              "      <th>raw_clause</th>\n",
              "      <th>clause_vector</th>\n",
              "      <th>clause_polarity</th>\n",
              "      <th>sentiment</th>\n",
              "    </tr>\n",
              "  </thead>\n",
              "  <tbody>\n",
              "    <tr>\n",
              "      <th>0</th>\n",
              "      <td>176</td>\n",
              "      <td>burger</td>\n",
              "      <td>I have nt had such a delicious burger is a while</td>\n",
              "      <td>[[0.15711, 0.65606, 0.0021149, -0.65144, -0.28...</td>\n",
              "      <td>0.5</td>\n",
              "      <td>1</td>\n",
              "    </tr>\n",
              "    <tr>\n",
              "      <th>0</th>\n",
              "      <td>176</td>\n",
              "      <td>while</td>\n",
              "      <td>I have nt had such a delicious burger is a while</td>\n",
              "      <td>[[0.15711, 0.65606, 0.0021149, -0.65144, -0.28...</td>\n",
              "      <td>0.5</td>\n",
              "      <td>1</td>\n",
              "    </tr>\n",
              "    <tr>\n",
              "      <th>0</th>\n",
              "      <td>176</td>\n",
              "      <td>burgers</td>\n",
              "      <td>Great burgers at reasonable prices</td>\n",
              "      <td>[[-0.42404, 0.0074403, -0.4665, -0.42496, -0.5...</td>\n",
              "      <td>0.5</td>\n",
              "      <td>1</td>\n",
              "    </tr>\n",
              "    <tr>\n",
              "      <th>0</th>\n",
              "      <td>176</td>\n",
              "      <td>prices</td>\n",
              "      <td>Great burgers at reasonable prices</td>\n",
              "      <td>[[-0.42404, 0.0074403, -0.4665, -0.42496, -0.5...</td>\n",
              "      <td>0.5</td>\n",
              "      <td>1</td>\n",
              "    </tr>\n",
              "    <tr>\n",
              "      <th>0</th>\n",
              "      <td>176</td>\n",
              "      <td>Onion</td>\n",
              "      <td>Onion rings are crispy awesome too</td>\n",
              "      <td>[[0.65609, 0.03754, -0.14359, -0.47495, 0.8703...</td>\n",
              "      <td>1.0</td>\n",
              "      <td>1</td>\n",
              "    </tr>\n",
              "  </tbody>\n",
              "</table>\n",
              "</div>"
            ],
            "text/plain": [
              "   index  feature  ... clause_polarity sentiment\n",
              "0    176   burger  ...             0.5         1\n",
              "0    176    while  ...             0.5         1\n",
              "0    176  burgers  ...             0.5         1\n",
              "0    176   prices  ...             0.5         1\n",
              "0    176    Onion  ...             1.0         1\n",
              "\n",
              "[5 rows x 6 columns]"
            ]
          },
          "metadata": {},
          "execution_count": 10
        }
      ]
    },
    {
      "cell_type": "code",
      "metadata": {
        "colab": {
          "base_uri": "https://localhost:8080/",
          "height": 205
        },
        "id": "o4Tq07dFprZZ",
        "outputId": "11d5793e-5b10-4612-f92b-45bc9380beff"
      },
      "source": [
        "df_val['sentiment'] = np.where(df_val['clause_polarity'] >= 0.0, 1, 0)\n",
        "# df_val['sentiment'] = df_val.apply(lambda x : myfunc(x['clause_polarity']),axis = 1)\n",
        "df_val.head()"
      ],
      "execution_count": null,
      "outputs": [
        {
          "output_type": "execute_result",
          "data": {
            "text/html": [
              "<div>\n",
              "<style scoped>\n",
              "    .dataframe tbody tr th:only-of-type {\n",
              "        vertical-align: middle;\n",
              "    }\n",
              "\n",
              "    .dataframe tbody tr th {\n",
              "        vertical-align: top;\n",
              "    }\n",
              "\n",
              "    .dataframe thead th {\n",
              "        text-align: right;\n",
              "    }\n",
              "</style>\n",
              "<table border=\"1\" class=\"dataframe\">\n",
              "  <thead>\n",
              "    <tr style=\"text-align: right;\">\n",
              "      <th></th>\n",
              "      <th>index</th>\n",
              "      <th>feature</th>\n",
              "      <th>raw_clause</th>\n",
              "      <th>clause_vector</th>\n",
              "      <th>clause_polarity</th>\n",
              "      <th>sentiment</th>\n",
              "    </tr>\n",
              "  </thead>\n",
              "  <tbody>\n",
              "    <tr>\n",
              "      <th>0</th>\n",
              "      <td>296</td>\n",
              "      <td>friends</td>\n",
              "      <td>Outdoor is kinda hot to chill with friends</td>\n",
              "      <td>[[-0.54264, 0.41476, 1.0322, -0.40244, 0.46691...</td>\n",
              "      <td>0.25</td>\n",
              "      <td>1</td>\n",
              "    </tr>\n",
              "    <tr>\n",
              "      <th>0</th>\n",
              "      <td>296</td>\n",
              "      <td>Customer</td>\n",
              "      <td>Customer service good</td>\n",
              "      <td>[[-0.4224, -0.13313, -0.41418, -0.23677, 0.190...</td>\n",
              "      <td>0.70</td>\n",
              "      <td>1</td>\n",
              "    </tr>\n",
              "    <tr>\n",
              "      <th>0</th>\n",
              "      <td>296</td>\n",
              "      <td>service</td>\n",
              "      <td>Customer service good</td>\n",
              "      <td>[[-0.4224, -0.13313, -0.41418, -0.23677, 0.190...</td>\n",
              "      <td>0.70</td>\n",
              "      <td>1</td>\n",
              "    </tr>\n",
              "    <tr>\n",
              "      <th>0</th>\n",
              "      <td>112</td>\n",
              "      <td>review</td>\n",
              "      <td>Thank you for leaving a review</td>\n",
              "      <td>[[-0.49886, 0.76602, 0.89751, -0.78547, -0.685...</td>\n",
              "      <td>0.00</td>\n",
              "      <td>1</td>\n",
              "    </tr>\n",
              "    <tr>\n",
              "      <th>0</th>\n",
              "      <td>112</td>\n",
              "      <td>dinner</td>\n",
              "      <td>\\r\\n\\r\\n Restaurant Ibid is now re - opened fo...</td>\n",
              "      <td>[[-0.54264, 0.41476, 1.0322, -0.40244, 0.46691...</td>\n",
              "      <td>0.00</td>\n",
              "      <td>1</td>\n",
              "    </tr>\n",
              "  </tbody>\n",
              "</table>\n",
              "</div>"
            ],
            "text/plain": [
              "   index   feature  ... clause_polarity sentiment\n",
              "0    296   friends  ...            0.25         1\n",
              "0    296  Customer  ...            0.70         1\n",
              "0    296   service  ...            0.70         1\n",
              "0    112    review  ...            0.00         1\n",
              "0    112    dinner  ...            0.00         1\n",
              "\n",
              "[5 rows x 6 columns]"
            ]
          },
          "metadata": {},
          "execution_count": 11
        }
      ]
    },
    {
      "cell_type": "code",
      "metadata": {
        "id": "WKR9oYPdrOtr"
      },
      "source": [
        "maxlen=100\n",
        "num_words=20000\n",
        "texts = np.array(df_train.raw_clause)\n",
        "labels = np.array(df_train.clause_polarity)\n",
        "# labels = tf.keras.utils.to_categorical(labels)\n",
        "# labels"
      ],
      "execution_count": null,
      "outputs": []
    },
    {
      "cell_type": "code",
      "metadata": {
        "colab": {
          "base_uri": "https://localhost:8080/"
        },
        "id": "fXyO1CgFdCHa",
        "outputId": "2f83c5b7-f378-4746-fb9a-6bde68dbf085"
      },
      "source": [
        "tokenizer = Tokenizer(num_words=num_words) \n",
        "\n",
        "# tokenizing based on \"texts\". This step generates the word_index and map each word to an integer other than 0.\n",
        "tokenizer.fit_on_texts(texts)\n",
        "\n",
        "# generating sequence based on tokenizer's word_index. Each sentence will now be represented by combination of numericals\n",
        "# Example: \"Good movie\" may be represented by [22, 37]\n",
        "seq = tokenizer.texts_to_sequences(texts)\n",
        "\n",
        "word_index = tokenizer.word_index\n",
        "# padding each numerical representation of sentence to have fixed length.\n",
        "\n",
        "padded_seq = np.array(pad_sequences(seq,maxlen=maxlen))\n",
        "print(\"Data converted to Sequences...\")"
      ],
      "execution_count": null,
      "outputs": [
        {
          "output_type": "stream",
          "name": "stdout",
          "text": [
            "Data converted to Sequences...\n"
          ]
        }
      ]
    },
    {
      "cell_type": "code",
      "metadata": {
        "colab": {
          "base_uri": "https://localhost:8080/"
        },
        "id": "_SjNNjHtf5Hd",
        "outputId": "21b0ea35-9fdc-4967-cb7a-f7b14ebb31cd"
      },
      "source": [
        "#For Test Data\n",
        "texts_test = np.array(df_test.raw_clause)\n",
        "labels_test = np.array(df_test.clause_polarity)\n",
        "# labels_test = tf.keras.utils.to_categorical(labels_test)\n",
        "tokenizer_test = Tokenizer(num_words=num_words) \n",
        "\n",
        "# tokenizing based on \"texts\". This step generates the word_index and map each word to an integer other than 0.\n",
        "tokenizer_test.fit_on_texts(texts_test)\n",
        "\n",
        "# generating sequence based on tokenizer's word_index. Each sentence will now be represented by combination of numericals\n",
        "# Example: \"Good movie\" may be represented by [22, 37]\n",
        "seq_test = tokenizer_test.texts_to_sequences(texts_test)\n",
        "\n",
        "word_index_test = tokenizer_test.word_index\n",
        "# padding each numerical representation of sentence to have fixed length.\n",
        "\n",
        "padded_seq_test = np.array(pad_sequences(seq_test,maxlen=maxlen))\n",
        "print(\"Test Data converted to Sequences...\")"
      ],
      "execution_count": null,
      "outputs": [
        {
          "output_type": "stream",
          "name": "stdout",
          "text": [
            "Test Data converted to Sequences...\n"
          ]
        }
      ]
    },
    {
      "cell_type": "code",
      "metadata": {
        "colab": {
          "base_uri": "https://localhost:8080/"
        },
        "id": "n_Jnr2-lpHZt",
        "outputId": "1c14f819-efc8-40e0-8af0-b1fff188f8af"
      },
      "source": [
        "#For Validation Data\n",
        "texts_val = np.array(df_val.raw_clause)\n",
        "labels_val = np.array(df_val.clause_polarity)\n",
        "# labels_val = tf.keras.utils.to_categorical(labels_val)\n",
        "tokenizer_val = Tokenizer(num_words=num_words) \n",
        "\n",
        "# tokenizing based on \"texts\". This step generates the word_index and map each word to an integer other than 0.\n",
        "tokenizer_val.fit_on_texts(texts_val)\n",
        "\n",
        "# generating sequence based on tokenizer's word_index. Each sentence will now be represented by combination of numericals\n",
        "# Example: \"Good movie\" may be represented by [22, 37]\n",
        "seq_val = tokenizer_val.texts_to_sequences(texts_val)\n",
        "\n",
        "word_index_val = tokenizer_val.word_index\n",
        "# padding each numerical representation of sentence to have fixed length.\n",
        "\n",
        "padded_seq_val = np.array(pad_sequences(seq_val,maxlen=maxlen))\n",
        "print(\"Val Data converted to Sequences...\")"
      ],
      "execution_count": null,
      "outputs": [
        {
          "output_type": "stream",
          "name": "stdout",
          "text": [
            "Val Data converted to Sequences...\n"
          ]
        }
      ]
    },
    {
      "cell_type": "code",
      "metadata": {
        "id": "_DsgZxv_dauW"
      },
      "source": [
        "from tensorflow.keras import layers\n",
        "# # A integer input for vocab indices.\n",
        "# inputs = tf.keras.Input(shape=(None,), dtype=\"int64\")\n",
        "\n",
        "# # Next, we add a layer to map those vocab indices into a space of dimensionality\n",
        "# # 'embedding_dim'.\n",
        "# x = layers.Embedding(num_words, 128, input_length = maxlen)(inputs)\n",
        "# x = layers.Dropout(0.5)(x)\n",
        "\n",
        "# # Conv1D + global max pooling\n",
        "# x = layers.LSTM(128, return_sequences=True)(x)\n",
        "# # x = layers.LSTM(64, return_sequences=True)(x)\n",
        "# x = layers.GlobalMaxPooling1D()(x)\n",
        "\n",
        "# # We add a vanilla hidden layer:\n",
        "# # x = layers.Dense(128, activation=\"relu\")(x)\n",
        "# x = layers.Flatten()(x)\n",
        "# x = layers.Dropout(0.5)(x)\n",
        "\n",
        "# # We project onto a single unit output layer, and squash it with a sigmoid:\n",
        "# predictions = layers.Dense(1, activation=\"sigmoid\", name=\"predictions\")(x)\n",
        "\n",
        "# model = tf.keras.Model(inputs, predictions)\n",
        "model = Sequential()\n",
        "embedding = layers.Embedding(num_words, 32, input_length = maxlen, name = 'embedding')\n",
        "# model.add(inputs)\n",
        "model.add(embedding)\n",
        "# model.add(layers.Dropout(0.7))\n",
        "model.add(layers.GRU(32))\n",
        "# model.add(LSTM(32))\n",
        "# model.add(layers.Dropout(0.5))\n",
        "# model.add(Flatten())\n",
        "# model.add(layers.Dense(32, activation=\"relu\"))\n",
        "model.add(Dense(1,activation='sigmoid'))\n",
        "\n",
        "# Compile the model with binary crossentropy loss and an adam optimizer.\n",
        "# model.compile(loss=\"mse\", optimizer=\"adam\")\n",
        "model.compile(loss=\"binary_crossentropy\", optimizer=\"adam\", metrics=[\"accuracy\", tf.keras.metrics.Precision(), tf.keras.metrics.Recall()])"
      ],
      "execution_count": null,
      "outputs": []
    },
    {
      "cell_type": "code",
      "metadata": {
        "colab": {
          "base_uri": "https://localhost:8080/"
        },
        "id": "GcPWXB5wfZem",
        "outputId": "59ab44d9-a102-4dee-febe-33239d03cc4e"
      },
      "source": [
        "epochs = 2\n",
        "# Fit the model using the train and test datasets.\n",
        "model.fit(padded_seq, np.asarray(labels).astype(np.uint8), validation_data=(padded_seq_val,np.asarray(labels_val).astype(np.uint8)), epochs=epochs)"
      ],
      "execution_count": null,
      "outputs": [
        {
          "output_type": "stream",
          "name": "stdout",
          "text": [
            "Epoch 1/2\n",
            "279/279 [==============================] - 19s 61ms/step - loss: 1.0401 - accuracy: 0.8597 - precision: 0.2678 - recall: 0.7269 - val_loss: 0.6449 - val_accuracy: 0.8673 - val_precision: 0.0711 - val_recall: 0.0833\n",
            "Epoch 2/2\n",
            "279/279 [==============================] - 17s 61ms/step - loss: 0.1488 - accuracy: 0.9297 - precision: 0.4590 - recall: 0.6980 - val_loss: 0.8560 - val_accuracy: 0.8205 - val_precision: 0.0566 - val_recall: 0.1094\n"
          ]
        },
        {
          "output_type": "execute_result",
          "data": {
            "text/plain": [
              "<keras.callbacks.History at 0x7f1f48b58b10>"
            ]
          },
          "metadata": {},
          "execution_count": 20
        }
      ]
    },
    {
      "cell_type": "code",
      "metadata": {
        "colab": {
          "base_uri": "https://localhost:8080/"
        },
        "id": "YPGckqFdhfqU",
        "outputId": "1cca70bb-0104-4d82-c697-0dcd2d100034"
      },
      "source": [
        "model.evaluate(padded_seq_test, np.asarray(labels_test).astype(np.uint8))"
      ],
      "execution_count": null,
      "outputs": [
        {
          "output_type": "stream",
          "name": "stdout",
          "text": [
            "94/94 [==============================] - 1s 12ms/step - loss: 2.9310 - accuracy: 0.8066 - precision: 0.0108 - recall: 0.0188\n"
          ]
        },
        {
          "output_type": "execute_result",
          "data": {
            "text/plain": [
              "[2.930955171585083,\n",
              " 0.8065816164016724,\n",
              " 0.010781670920550823,\n",
              " 0.018779342994093895]"
            ]
          },
          "metadata": {},
          "execution_count": 21
        }
      ]
    },
    {
      "cell_type": "code",
      "metadata": {
        "colab": {
          "base_uri": "https://localhost:8080/"
        },
        "id": "rlm3afgwitnl",
        "outputId": "facb4f83-ecd4-4bb2-b8b7-21d411068105"
      },
      "source": [
        "yhat = model.predict(padded_seq_test)\n",
        "print(yhat.T)"
      ],
      "execution_count": null,
      "outputs": [
        {
          "output_type": "stream",
          "name": "stdout",
          "text": [
            "[[ 0.40444082  0.40444082  0.30482334 ... -0.26174128 -0.26174128\n",
            "  -0.26174128]]\n"
          ]
        }
      ]
    },
    {
      "cell_type": "code",
      "metadata": {
        "colab": {
          "base_uri": "https://localhost:8080/"
        },
        "id": "XiIXDFuqsjWc",
        "outputId": "a11eb82b-2c35-4c7a-f36d-a45c147314bc"
      },
      "source": [
        "print(labels_test)"
      ],
      "execution_count": null,
      "outputs": [
        {
          "output_type": "stream",
          "name": "stdout",
          "text": [
            "[0.5 0.5 0.5 ... 0.  0.  0. ]\n"
          ]
        }
      ]
    },
    {
      "cell_type": "code",
      "metadata": {
        "id": "DXXPQoatrF-n"
      },
      "source": [
        "import matplotlib.pyplot as plt\n",
        "\n",
        "%matplotlib inline"
      ],
      "execution_count": null,
      "outputs": []
    },
    {
      "cell_type": "code",
      "metadata": {
        "colab": {
          "base_uri": "https://localhost:8080/",
          "height": 282
        },
        "id": "16OLYogRrOP0",
        "outputId": "57e48e27-c048-4fb6-f68c-78dea1d6595b"
      },
      "source": [
        "plt.scatter(labels_test, yhat.T[0])"
      ],
      "execution_count": null,
      "outputs": [
        {
          "output_type": "execute_result",
          "data": {
            "text/plain": [
              "<matplotlib.collections.PathCollection at 0x7f5ffbb68a10>"
            ]
          },
          "metadata": {},
          "execution_count": 153
        },
        {
          "output_type": "display_data",
          "data": {
            "image/png": "[encoded data removed]",
            "text/plain": [
              "<Figure size 432x288 with 1 Axes>"
            ]
          },
          "metadata": {
            "needs_background": "light"
          }
        }
      ]
    },
    {
      "cell_type": "code",
      "metadata": {
        "colab": {
          "base_uri": "https://localhost:8080/"
        },
        "id": "seDR5tnAsG_n",
        "outputId": "ce814b9f-c677-4406-d0fa-8f7fc26983f9"
      },
      "source": [
        "from sklearn.metrics import mean_squared_error\n",
        "mse = mean_squared_error(labels_test, yhat.T[0])\n",
        "mse "
      ],
      "execution_count": null,
      "outputs": [
        {
          "output_type": "execute_result",
          "data": {
            "text/plain": [
              "0.21557156839719074"
            ]
          },
          "metadata": {},
          "execution_count": 154
        }
      ]
    },
    {
      "cell_type": "markdown",
      "metadata": {
        "id": "EdNu04cH00BB"
      },
      "source": [
        "## Comparing Models\n"
      ]
    },
    {
      "cell_type": "code",
      "metadata": {
        "colab": {
          "base_uri": "https://localhost:8080/",
          "height": 206
        },
        "id": "8vkY4tVM2yoh",
        "outputId": "ebe46e73-c558-4c57-e654-74775e7ad1e0"
      },
      "source": [
        "train = pd.read_pickle('/content/drive/MyDrive/Colab Notebooks/BT4222Project/sent_train.pkl')\n",
        "train.head()"
      ],
      "execution_count": 9,
      "outputs": [
        {
          "output_type": "execute_result",
          "data": {
            "text/html": [
              "<div>\n",
              "<style scoped>\n",
              "    .dataframe tbody tr th:only-of-type {\n",
              "        vertical-align: middle;\n",
              "    }\n",
              "\n",
              "    .dataframe tbody tr th {\n",
              "        vertical-align: top;\n",
              "    }\n",
              "\n",
              "    .dataframe thead th {\n",
              "        text-align: right;\n",
              "    }\n",
              "</style>\n",
              "<table border=\"1\" class=\"dataframe\">\n",
              "  <thead>\n",
              "    <tr style=\"text-align: right;\">\n",
              "      <th></th>\n",
              "      <th>index</th>\n",
              "      <th>feature</th>\n",
              "      <th>raw_clause</th>\n",
              "      <th>clause_vector</th>\n",
              "      <th>clause_polarity</th>\n",
              "    </tr>\n",
              "  </thead>\n",
              "  <tbody>\n",
              "    <tr>\n",
              "      <th>0</th>\n",
              "      <td>154</td>\n",
              "      <td>review</td>\n",
              "      <td>Thank you for leaving a review</td>\n",
              "      <td>[[-0.49886, 0.76602, 0.89751, -0.78547, -0.685...</td>\n",
              "      <td>0.00</td>\n",
              "    </tr>\n",
              "    <tr>\n",
              "      <th>0</th>\n",
              "      <td>154</td>\n",
              "      <td>dinner</td>\n",
              "      <td>\\r\\n\\r\\n Restaurant Ibid is now re - opened fo...</td>\n",
              "      <td>[[-0.54264, 0.41476, 1.0322, -0.40244, 0.46691...</td>\n",
              "      <td>0.00</td>\n",
              "    </tr>\n",
              "    <tr>\n",
              "      <th>0</th>\n",
              "      <td>154</td>\n",
              "      <td>Mondays</td>\n",
              "      <td>\\r\\n\\r\\n Restaurant Ibid is now re - opened fo...</td>\n",
              "      <td>[[-0.54264, 0.41476, 1.0322, -0.40244, 0.46691...</td>\n",
              "      <td>0.00</td>\n",
              "    </tr>\n",
              "    <tr>\n",
              "      <th>0</th>\n",
              "      <td>154</td>\n",
              "      <td>forwards</td>\n",
              "      <td>\\r\\n\\r\\n Looking forwards to hosting you</td>\n",
              "      <td>[[0.29756, 0.70983, 0.65643, -1.3487, -0.41072...</td>\n",
              "      <td>0.00</td>\n",
              "    </tr>\n",
              "    <tr>\n",
              "      <th>0</th>\n",
              "      <td>154</td>\n",
              "      <td>reservations</td>\n",
              "      <td>reservations are highly recommended</td>\n",
              "      <td>[[-0.13411, -0.39639, 0.64715, 0.38583, -0.225...</td>\n",
              "      <td>0.16</td>\n",
              "    </tr>\n",
              "  </tbody>\n",
              "</table>\n",
              "</div>"
            ],
            "text/plain": [
              "   index  ... clause_polarity\n",
              "0    154  ...            0.00\n",
              "0    154  ...            0.00\n",
              "0    154  ...            0.00\n",
              "0    154  ...            0.00\n",
              "0    154  ...            0.16\n",
              "\n",
              "[5 rows x 5 columns]"
            ]
          },
          "metadata": {},
          "execution_count": 9
        }
      ]
    },
    {
      "cell_type": "code",
      "metadata": {
        "colab": {
          "base_uri": "https://localhost:8080/",
          "height": 206
        },
        "id": "B7ecVk6M2yq7",
        "outputId": "4ed5baf2-e875-4988-affe-b407f2d39efa"
      },
      "source": [
        "test = pd.read_pickle('/content/drive/MyDrive/Colab Notebooks/BT4222Project/sent_datasets/sent_test.pkl')\n",
        "test.head()"
      ],
      "execution_count": 10,
      "outputs": [
        {
          "output_type": "execute_result",
          "data": {
            "text/html": [
              "<div>\n",
              "<style scoped>\n",
              "    .dataframe tbody tr th:only-of-type {\n",
              "        vertical-align: middle;\n",
              "    }\n",
              "\n",
              "    .dataframe tbody tr th {\n",
              "        vertical-align: top;\n",
              "    }\n",
              "\n",
              "    .dataframe thead th {\n",
              "        text-align: right;\n",
              "    }\n",
              "</style>\n",
              "<table border=\"1\" class=\"dataframe\">\n",
              "  <thead>\n",
              "    <tr style=\"text-align: right;\">\n",
              "      <th></th>\n",
              "      <th>index</th>\n",
              "      <th>feature</th>\n",
              "      <th>raw_clause</th>\n",
              "      <th>clause_vector</th>\n",
              "      <th>clause_polarity</th>\n",
              "    </tr>\n",
              "  </thead>\n",
              "  <tbody>\n",
              "    <tr>\n",
              "      <th>0</th>\n",
              "      <td>176</td>\n",
              "      <td>burger</td>\n",
              "      <td>I have nt had such a delicious burger is a while</td>\n",
              "      <td>[[0.15711, 0.65606, 0.0021149, -0.65144, -0.28...</td>\n",
              "      <td>0.5</td>\n",
              "    </tr>\n",
              "    <tr>\n",
              "      <th>0</th>\n",
              "      <td>176</td>\n",
              "      <td>while</td>\n",
              "      <td>I have nt had such a delicious burger is a while</td>\n",
              "      <td>[[0.15711, 0.65606, 0.0021149, -0.65144, -0.28...</td>\n",
              "      <td>0.5</td>\n",
              "    </tr>\n",
              "    <tr>\n",
              "      <th>0</th>\n",
              "      <td>176</td>\n",
              "      <td>burgers</td>\n",
              "      <td>Great burgers at reasonable prices</td>\n",
              "      <td>[[-0.42404, 0.0074403, -0.4665, -0.42496, -0.5...</td>\n",
              "      <td>0.5</td>\n",
              "    </tr>\n",
              "    <tr>\n",
              "      <th>0</th>\n",
              "      <td>176</td>\n",
              "      <td>prices</td>\n",
              "      <td>Great burgers at reasonable prices</td>\n",
              "      <td>[[-0.42404, 0.0074403, -0.4665, -0.42496, -0.5...</td>\n",
              "      <td>0.5</td>\n",
              "    </tr>\n",
              "    <tr>\n",
              "      <th>0</th>\n",
              "      <td>176</td>\n",
              "      <td>Onion</td>\n",
              "      <td>Onion rings are crispy awesome too</td>\n",
              "      <td>[[0.65609, 0.03754, -0.14359, -0.47495, 0.8703...</td>\n",
              "      <td>1.0</td>\n",
              "    </tr>\n",
              "  </tbody>\n",
              "</table>\n",
              "</div>"
            ],
            "text/plain": [
              "   index  ... clause_polarity\n",
              "0    176  ...             0.5\n",
              "0    176  ...             0.5\n",
              "0    176  ...             0.5\n",
              "0    176  ...             0.5\n",
              "0    176  ...             1.0\n",
              "\n",
              "[5 rows x 5 columns]"
            ]
          },
          "metadata": {},
          "execution_count": 10
        }
      ]
    },
    {
      "cell_type": "code",
      "metadata": {
        "colab": {
          "base_uri": "https://localhost:8080/",
          "height": 206
        },
        "id": "3gxa3-OY2ytZ",
        "outputId": "eccb5409-255c-4cf2-e5af-779f0cc07ce9"
      },
      "source": [
        "val = pd.read_pickle('/content/drive/MyDrive/Colab Notebooks/BT4222Project/sent_datasets/sent_validate.pkl')\n",
        "val.head()"
      ],
      "execution_count": 11,
      "outputs": [
        {
          "output_type": "execute_result",
          "data": {
            "text/html": [
              "<div>\n",
              "<style scoped>\n",
              "    .dataframe tbody tr th:only-of-type {\n",
              "        vertical-align: middle;\n",
              "    }\n",
              "\n",
              "    .dataframe tbody tr th {\n",
              "        vertical-align: top;\n",
              "    }\n",
              "\n",
              "    .dataframe thead th {\n",
              "        text-align: right;\n",
              "    }\n",
              "</style>\n",
              "<table border=\"1\" class=\"dataframe\">\n",
              "  <thead>\n",
              "    <tr style=\"text-align: right;\">\n",
              "      <th></th>\n",
              "      <th>index</th>\n",
              "      <th>feature</th>\n",
              "      <th>raw_clause</th>\n",
              "      <th>clause_vector</th>\n",
              "      <th>clause_polarity</th>\n",
              "    </tr>\n",
              "  </thead>\n",
              "  <tbody>\n",
              "    <tr>\n",
              "      <th>0</th>\n",
              "      <td>296</td>\n",
              "      <td>friends</td>\n",
              "      <td>Outdoor is kinda hot to chill with friends</td>\n",
              "      <td>[[-0.54264, 0.41476, 1.0322, -0.40244, 0.46691...</td>\n",
              "      <td>0.25</td>\n",
              "    </tr>\n",
              "    <tr>\n",
              "      <th>0</th>\n",
              "      <td>296</td>\n",
              "      <td>Customer</td>\n",
              "      <td>Customer service good</td>\n",
              "      <td>[[-0.4224, -0.13313, -0.41418, -0.23677, 0.190...</td>\n",
              "      <td>0.70</td>\n",
              "    </tr>\n",
              "    <tr>\n",
              "      <th>0</th>\n",
              "      <td>296</td>\n",
              "      <td>service</td>\n",
              "      <td>Customer service good</td>\n",
              "      <td>[[-0.4224, -0.13313, -0.41418, -0.23677, 0.190...</td>\n",
              "      <td>0.70</td>\n",
              "    </tr>\n",
              "    <tr>\n",
              "      <th>0</th>\n",
              "      <td>112</td>\n",
              "      <td>review</td>\n",
              "      <td>Thank you for leaving a review</td>\n",
              "      <td>[[-0.49886, 0.76602, 0.89751, -0.78547, -0.685...</td>\n",
              "      <td>0.00</td>\n",
              "    </tr>\n",
              "    <tr>\n",
              "      <th>0</th>\n",
              "      <td>112</td>\n",
              "      <td>dinner</td>\n",
              "      <td>\\r\\n\\r\\n Restaurant Ibid is now re - opened fo...</td>\n",
              "      <td>[[-0.54264, 0.41476, 1.0322, -0.40244, 0.46691...</td>\n",
              "      <td>0.00</td>\n",
              "    </tr>\n",
              "  </tbody>\n",
              "</table>\n",
              "</div>"
            ],
            "text/plain": [
              "   index  ... clause_polarity\n",
              "0    296  ...            0.25\n",
              "0    296  ...            0.70\n",
              "0    296  ...            0.70\n",
              "0    112  ...            0.00\n",
              "0    112  ...            0.00\n",
              "\n",
              "[5 rows x 5 columns]"
            ]
          },
          "metadata": {},
          "execution_count": 11
        }
      ]
    },
    {
      "cell_type": "code",
      "metadata": {
        "id": "ARVR2Ngt2yxY"
      },
      "source": [
        "number_of_most_frequent_words=10000\n",
        "max_len=500"
      ],
      "execution_count": 12,
      "outputs": []
    },
    {
      "cell_type": "code",
      "metadata": {
        "id": "M4YtUQgu29sb"
      },
      "source": [
        "X_train = train['raw_clause']\n",
        "y_train = train['clause_polarity']\n",
        "X_val = val['raw_clause']\n",
        "y_val = val['clause_polarity']\n",
        "X_test = test['raw_clause']\n",
        "y_test= test['clause_polarity']\n",
        "# X_tp = to_pred['raw_clause']\n",
        "# y_tp = to_pred['clause_polarity']"
      ],
      "execution_count": 13,
      "outputs": []
    },
    {
      "cell_type": "code",
      "metadata": {
        "id": "RXMW3Tqm3BUI"
      },
      "source": [
        "X_train = train['raw_clause'].to_numpy()\n",
        "X_val = val['raw_clause'].to_numpy()\n",
        "X_test = test['raw_clause'].to_numpy()\n",
        "# X_tp = to_pred['raw_clause'].to_numpy()\n"
      ],
      "execution_count": 14,
      "outputs": []
    },
    {
      "cell_type": "code",
      "metadata": {
        "id": "xoDdcRsh3BWT"
      },
      "source": [
        "from keras.preprocessing.text import Tokenizer\n",
        "tokenizer_obj = Tokenizer()\n",
        "tokenizer_obj.fit_on_texts(X_train)\n",
        "X_train_tokens = tokenizer_obj.texts_to_sequences(X_train)\n",
        "X_val_tokens = tokenizer_obj.texts_to_sequences(X_val)\n",
        "X_test_tokens = tokenizer_obj.texts_to_sequences(X_test)\n",
        "# X_tp_tokens = tokenizer_obj.texts_to_sequences(X_tp)\n",
        "max_length = max([len(s.split()) for s in X_train])\n",
        "vocab_size = len(tokenizer_obj.word_index) + 1"
      ],
      "execution_count": 15,
      "outputs": []
    },
    {
      "cell_type": "code",
      "metadata": {
        "id": "_CwZ0STu3LyN"
      },
      "source": [
        "from keras.preprocessing.sequence import pad_sequences\n",
        "X_train_pad = pad_sequences(X_train_tokens, maxlen=max_length, padding='post')\n",
        "X_val_pad = pad_sequences(X_val_tokens, maxlen=max_length, padding='post')\n",
        "X_test_pad = pad_sequences(X_test_tokens, maxlen=max_length, padding='post')\n",
        "# X_tp_pad = pad_sequences(X_tp_tokens, maxlen=max_length, padding='post')"
      ],
      "execution_count": 16,
      "outputs": []
    },
    {
      "cell_type": "code",
      "metadata": {
        "id": "QyDSj3s73N-m"
      },
      "source": [
        "from keras.callbacks import ReduceLROnPlateau,EarlyStopping\n",
        "rlr = ReduceLROnPlateau(monitor=\"val_loss\", factor=0.2, patience=5, min_lr = 0.00001,verbose=1)\n",
        "early = EarlyStopping(monitor='val_loss', mode='min', patience=10, restore_best_weights=True)"
      ],
      "execution_count": 17,
      "outputs": []
    },
    {
      "cell_type": "code",
      "metadata": {
        "colab": {
          "base_uri": "https://localhost:8080/"
        },
        "id": "E2LqqmMN3BYF",
        "outputId": "2c2ba9d0-75a0-45c5-873e-6fa1e515a061"
      },
      "source": [
        "from tensorflow.keras import Sequential\n",
        "from keras.layers import GRU,Embedding, Flatten, Conv1D, GlobalMaxPooling1D, Dropout, Dense, Input\n",
        "from keras.callbacks import ReduceLROnPlateau,EarlyStopping\n",
        "\n",
        "\n",
        "rlr = ReduceLROnPlateau(monitor=\"val_loss\", factor=0.2, patience=5, min_lr = 0.00001,verbose=1)\n",
        "early = EarlyStopping(monitor='val_loss', mode='min', patience=10, restore_best_weights=True)\n",
        "EMBEDDING_DIM = 100\n",
        "model = Sequential()\n",
        "e = Embedding(vocab_size, EMBEDDING_DIM, input_length=max_length)\n",
        "model.add(e)\n",
        "model.add(LSTM(128))\n",
        "model.add(Dropout(0.2))\n",
        "model.add(Dense(256, activation='relu'))\n",
        "model.add(Dense(1))\n",
        "model.compile(loss=\"mse\", optimizer=\"adam\", metrics=[tf.keras.metrics.MeanSquaredError()])\n",
        "model.fit(X_train_pad, y_train, validation_data=(X_val_pad, y_val), epochs=100, batch_size=32, verbose=2, callbacks=[rlr, early])"
      ],
      "execution_count": 18,
      "outputs": [
        {
          "output_type": "stream",
          "name": "stdout",
          "text": [
            "Epoch 1/100\n",
            "279/279 - 17s - loss: 0.0980 - mean_squared_error: 0.0980 - val_loss: 0.0352 - val_mean_squared_error: 0.0352 - lr: 0.0010 - 17s/epoch - 62ms/step\n",
            "Epoch 2/100\n",
            "279/279 - 14s - loss: 0.0245 - mean_squared_error: 0.0245 - val_loss: 0.0279 - val_mean_squared_error: 0.0279 - lr: 0.0010 - 14s/epoch - 50ms/step\n",
            "Epoch 3/100\n",
            "279/279 - 14s - loss: 0.0159 - mean_squared_error: 0.0159 - val_loss: 0.0314 - val_mean_squared_error: 0.0314 - lr: 0.0010 - 14s/epoch - 50ms/step\n",
            "Epoch 4/100\n",
            "279/279 - 14s - loss: 0.0109 - mean_squared_error: 0.0109 - val_loss: 0.0242 - val_mean_squared_error: 0.0242 - lr: 0.0010 - 14s/epoch - 51ms/step\n",
            "Epoch 5/100\n",
            "279/279 - 14s - loss: 0.0085 - mean_squared_error: 0.0085 - val_loss: 0.0286 - val_mean_squared_error: 0.0286 - lr: 0.0010 - 14s/epoch - 50ms/step\n",
            "Epoch 6/100\n",
            "279/279 - 14s - loss: 0.0067 - mean_squared_error: 0.0067 - val_loss: 0.0217 - val_mean_squared_error: 0.0217 - lr: 0.0010 - 14s/epoch - 51ms/step\n",
            "Epoch 7/100\n",
            "279/279 - 14s - loss: 0.0046 - mean_squared_error: 0.0046 - val_loss: 0.0197 - val_mean_squared_error: 0.0197 - lr: 0.0010 - 14s/epoch - 50ms/step\n",
            "Epoch 8/100\n",
            "279/279 - 14s - loss: 0.0041 - mean_squared_error: 0.0041 - val_loss: 0.0198 - val_mean_squared_error: 0.0198 - lr: 0.0010 - 14s/epoch - 50ms/step\n",
            "Epoch 9/100\n",
            "279/279 - 14s - loss: 0.0037 - mean_squared_error: 0.0037 - val_loss: 0.0221 - val_mean_squared_error: 0.0221 - lr: 0.0010 - 14s/epoch - 50ms/step\n",
            "Epoch 10/100\n",
            "279/279 - 14s - loss: 0.0030 - mean_squared_error: 0.0030 - val_loss: 0.0182 - val_mean_squared_error: 0.0182 - lr: 0.0010 - 14s/epoch - 50ms/step\n",
            "Epoch 11/100\n",
            "279/279 - 14s - loss: 0.0027 - mean_squared_error: 0.0027 - val_loss: 0.0171 - val_mean_squared_error: 0.0171 - lr: 0.0010 - 14s/epoch - 50ms/step\n",
            "Epoch 12/100\n",
            "279/279 - 14s - loss: 0.0026 - mean_squared_error: 0.0026 - val_loss: 0.0175 - val_mean_squared_error: 0.0175 - lr: 0.0010 - 14s/epoch - 50ms/step\n",
            "Epoch 13/100\n",
            "279/279 - 14s - loss: 0.0023 - mean_squared_error: 0.0023 - val_loss: 0.0181 - val_mean_squared_error: 0.0181 - lr: 0.0010 - 14s/epoch - 50ms/step\n",
            "Epoch 14/100\n",
            "279/279 - 14s - loss: 0.0023 - mean_squared_error: 0.0023 - val_loss: 0.0165 - val_mean_squared_error: 0.0165 - lr: 0.0010 - 14s/epoch - 50ms/step\n",
            "Epoch 15/100\n",
            "279/279 - 14s - loss: 0.0023 - mean_squared_error: 0.0023 - val_loss: 0.0149 - val_mean_squared_error: 0.0149 - lr: 0.0010 - 14s/epoch - 50ms/step\n",
            "Epoch 16/100\n",
            "279/279 - 14s - loss: 0.0021 - mean_squared_error: 0.0021 - val_loss: 0.0174 - val_mean_squared_error: 0.0174 - lr: 0.0010 - 14s/epoch - 50ms/step\n",
            "Epoch 17/100\n",
            "279/279 - 14s - loss: 0.0016 - mean_squared_error: 0.0016 - val_loss: 0.0172 - val_mean_squared_error: 0.0172 - lr: 0.0010 - 14s/epoch - 50ms/step\n",
            "Epoch 18/100\n",
            "279/279 - 14s - loss: 0.0017 - mean_squared_error: 0.0017 - val_loss: 0.0149 - val_mean_squared_error: 0.0149 - lr: 0.0010 - 14s/epoch - 50ms/step\n",
            "Epoch 19/100\n",
            "279/279 - 14s - loss: 0.0015 - mean_squared_error: 0.0015 - val_loss: 0.0153 - val_mean_squared_error: 0.0153 - lr: 0.0010 - 14s/epoch - 50ms/step\n",
            "Epoch 20/100\n",
            "279/279 - 14s - loss: 0.0013 - mean_squared_error: 0.0013 - val_loss: 0.0145 - val_mean_squared_error: 0.0145 - lr: 0.0010 - 14s/epoch - 50ms/step\n",
            "Epoch 21/100\n",
            "279/279 - 14s - loss: 0.0012 - mean_squared_error: 0.0012 - val_loss: 0.0165 - val_mean_squared_error: 0.0165 - lr: 0.0010 - 14s/epoch - 50ms/step\n",
            "Epoch 22/100\n",
            "279/279 - 14s - loss: 0.0012 - mean_squared_error: 0.0012 - val_loss: 0.0157 - val_mean_squared_error: 0.0157 - lr: 0.0010 - 14s/epoch - 50ms/step\n",
            "Epoch 23/100\n",
            "279/279 - 14s - loss: 0.0011 - mean_squared_error: 0.0011 - val_loss: 0.0167 - val_mean_squared_error: 0.0167 - lr: 0.0010 - 14s/epoch - 50ms/step\n",
            "Epoch 24/100\n",
            "279/279 - 14s - loss: 0.0011 - mean_squared_error: 0.0011 - val_loss: 0.0157 - val_mean_squared_error: 0.0157 - lr: 0.0010 - 14s/epoch - 51ms/step\n",
            "Epoch 25/100\n",
            "\n",
            "Epoch 00025: ReduceLROnPlateau reducing learning rate to 0.00020000000949949026.\n",
            "279/279 - 14s - loss: 0.0012 - mean_squared_error: 0.0012 - val_loss: 0.0178 - val_mean_squared_error: 0.0178 - lr: 0.0010 - 14s/epoch - 51ms/step\n",
            "Epoch 26/100\n",
            "279/279 - 14s - loss: 6.6783e-04 - mean_squared_error: 6.6783e-04 - val_loss: 0.0157 - val_mean_squared_error: 0.0157 - lr: 2.0000e-04 - 14s/epoch - 51ms/step\n",
            "Epoch 27/100\n",
            "279/279 - 14s - loss: 4.4088e-04 - mean_squared_error: 4.4088e-04 - val_loss: 0.0161 - val_mean_squared_error: 0.0161 - lr: 2.0000e-04 - 14s/epoch - 50ms/step\n",
            "Epoch 28/100\n",
            "279/279 - 14s - loss: 3.6836e-04 - mean_squared_error: 3.6836e-04 - val_loss: 0.0156 - val_mean_squared_error: 0.0156 - lr: 2.0000e-04 - 14s/epoch - 51ms/step\n",
            "Epoch 29/100\n",
            "279/279 - 14s - loss: 3.4179e-04 - mean_squared_error: 3.4179e-04 - val_loss: 0.0156 - val_mean_squared_error: 0.0156 - lr: 2.0000e-04 - 14s/epoch - 50ms/step\n",
            "Epoch 30/100\n",
            "\n",
            "Epoch 00030: ReduceLROnPlateau reducing learning rate to 4.0000001899898055e-05.\n",
            "279/279 - 14s - loss: 3.1862e-04 - mean_squared_error: 3.1862e-04 - val_loss: 0.0159 - val_mean_squared_error: 0.0159 - lr: 2.0000e-04 - 14s/epoch - 51ms/step\n"
          ]
        },
        {
          "output_type": "execute_result",
          "data": {
            "text/plain": [
              "<keras.callbacks.History at 0x7f30d82a9d10>"
            ]
          },
          "metadata": {},
          "execution_count": 18
        }
      ]
    },
    {
      "cell_type": "code",
      "metadata": {
        "colab": {
          "base_uri": "https://localhost:8080/"
        },
        "id": "xMAeOsOd3TnN",
        "outputId": "ea3da9ff-63d6-4cf7-80a3-089da9d7163e"
      },
      "source": [
        "pred = model.predict(X_test_pad)\n",
        "pred"
      ],
      "execution_count": 19,
      "outputs": [
        {
          "output_type": "execute_result",
          "data": {
            "text/plain": [
              "array([[ 0.46182537],\n",
              "       [ 0.46182537],\n",
              "       [ 0.4640682 ],\n",
              "       ...,\n",
              "       [-0.00350198],\n",
              "       [-0.00350198],\n",
              "       [-0.00350198]], dtype=float32)"
            ]
          },
          "metadata": {},
          "execution_count": 19
        }
      ]
    },
    {
      "cell_type": "code",
      "metadata": {
        "colab": {
          "base_uri": "https://localhost:8080/"
        },
        "id": "MBGg3Vxr3WKj",
        "outputId": "8c14cf37-47f0-4efe-ea4e-193fd9089e6d"
      },
      "source": [
        "from sklearn.metrics import mean_squared_error\n",
        "mean_squared_error(y_test, pred)"
      ],
      "execution_count": 20,
      "outputs": [
        {
          "output_type": "execute_result",
          "data": {
            "text/plain": [
              "0.016434160626424523"
            ]
          },
          "metadata": {},
          "execution_count": 20
        }
      ]
    },
    {
      "cell_type": "code",
      "metadata": {
        "id": "q-StY-903fzo"
      },
      "source": [
        "# Lowest MSE so Far for LSTM = 0.014745139839149117"
      ],
      "execution_count": 21,
      "outputs": []
    },
    {
      "cell_type": "code",
      "metadata": {
        "id": "G5wlovZd8U3f"
      },
      "source": [
        "from keras.callbacks import ReduceLROnPlateau,EarlyStopping\n",
        "rlr = ReduceLROnPlateau(monitor=\"val_loss\", factor=0.2, patience=5, min_lr = 0.00001,verbose=1)\n",
        "early = EarlyStopping(monitor='val_loss', mode='min', patience=10, restore_best_weights=True)"
      ],
      "execution_count": 22,
      "outputs": []
    },
    {
      "cell_type": "code",
      "metadata": {
        "colab": {
          "base_uri": "https://localhost:8080/"
        },
        "id": "n2Q1AD148U50",
        "outputId": "3c26c6f9-f27f-49c2-ef45-4f13f2f96c43"
      },
      "source": [
        "from tensorflow.keras import Sequential\n",
        "from keras.layers import GRU,Embedding, Flatten, Conv1D, GlobalMaxPooling1D, Dropout, Dense, Input\n",
        "\n",
        "EMBEDDING_DIM = 100\n",
        "model = Sequential()\n",
        "e = Embedding(vocab_size, EMBEDDING_DIM, input_length=max_length)\n",
        "model.add(e)\n",
        "model.add(GRU(32))\n",
        "model.add(Dropout(0.2))\n",
        "model.add(Dense(256, activation='relu'))\n",
        "model.add(Dense(1))\n",
        "model.compile(loss=\"mse\", optimizer=\"adam\", metrics=[tf.keras.metrics.MeanSquaredError()])\n",
        "model.fit(X_train_pad, y_train, validation_data=(X_val_pad, y_val), epochs=100, batch_size=32, verbose=2, callbacks=[rlr, early])"
      ],
      "execution_count": 23,
      "outputs": [
        {
          "output_type": "stream",
          "name": "stdout",
          "text": [
            "Epoch 1/100\n",
            "279/279 - 9s - loss: 0.1326 - mean_squared_error: 0.1326 - val_loss: 0.1317 - val_mean_squared_error: 0.1317 - lr: 0.0010 - 9s/epoch - 33ms/step\n",
            "Epoch 2/100\n",
            "279/279 - 6s - loss: 0.1312 - mean_squared_error: 0.1312 - val_loss: 0.1312 - val_mean_squared_error: 0.1312 - lr: 0.0010 - 6s/epoch - 23ms/step\n",
            "Epoch 3/100\n",
            "279/279 - 6s - loss: 0.0706 - mean_squared_error: 0.0706 - val_loss: 0.0300 - val_mean_squared_error: 0.0300 - lr: 0.0010 - 6s/epoch - 23ms/step\n",
            "Epoch 4/100\n",
            "279/279 - 6s - loss: 0.0161 - mean_squared_error: 0.0161 - val_loss: 0.0175 - val_mean_squared_error: 0.0175 - lr: 0.0010 - 6s/epoch - 23ms/step\n",
            "Epoch 5/100\n",
            "279/279 - 6s - loss: 0.0078 - mean_squared_error: 0.0078 - val_loss: 0.0146 - val_mean_squared_error: 0.0146 - lr: 0.0010 - 6s/epoch - 23ms/step\n",
            "Epoch 6/100\n",
            "279/279 - 6s - loss: 0.0050 - mean_squared_error: 0.0050 - val_loss: 0.0156 - val_mean_squared_error: 0.0156 - lr: 0.0010 - 6s/epoch - 23ms/step\n",
            "Epoch 7/100\n",
            "279/279 - 6s - loss: 0.0037 - mean_squared_error: 0.0037 - val_loss: 0.0137 - val_mean_squared_error: 0.0137 - lr: 0.0010 - 6s/epoch - 23ms/step\n",
            "Epoch 8/100\n",
            "279/279 - 6s - loss: 0.0028 - mean_squared_error: 0.0028 - val_loss: 0.0142 - val_mean_squared_error: 0.0142 - lr: 0.0010 - 6s/epoch - 23ms/step\n",
            "Epoch 9/100\n",
            "279/279 - 6s - loss: 0.0024 - mean_squared_error: 0.0024 - val_loss: 0.0130 - val_mean_squared_error: 0.0130 - lr: 0.0010 - 6s/epoch - 23ms/step\n",
            "Epoch 10/100\n",
            "279/279 - 6s - loss: 0.0019 - mean_squared_error: 0.0019 - val_loss: 0.0122 - val_mean_squared_error: 0.0122 - lr: 0.0010 - 6s/epoch - 23ms/step\n",
            "Epoch 11/100\n",
            "279/279 - 6s - loss: 0.0016 - mean_squared_error: 0.0016 - val_loss: 0.0132 - val_mean_squared_error: 0.0132 - lr: 0.0010 - 6s/epoch - 23ms/step\n",
            "Epoch 12/100\n",
            "279/279 - 6s - loss: 0.0016 - mean_squared_error: 0.0016 - val_loss: 0.0145 - val_mean_squared_error: 0.0145 - lr: 0.0010 - 6s/epoch - 23ms/step\n",
            "Epoch 13/100\n",
            "279/279 - 6s - loss: 0.0016 - mean_squared_error: 0.0016 - val_loss: 0.0127 - val_mean_squared_error: 0.0127 - lr: 0.0010 - 6s/epoch - 23ms/step\n",
            "Epoch 14/100\n",
            "279/279 - 7s - loss: 0.0015 - mean_squared_error: 0.0015 - val_loss: 0.0134 - val_mean_squared_error: 0.0134 - lr: 0.0010 - 7s/epoch - 23ms/step\n",
            "Epoch 15/100\n",
            "\n",
            "Epoch 00015: ReduceLROnPlateau reducing learning rate to 0.00020000000949949026.\n",
            "279/279 - 6s - loss: 0.0012 - mean_squared_error: 0.0012 - val_loss: 0.0128 - val_mean_squared_error: 0.0128 - lr: 0.0010 - 6s/epoch - 23ms/step\n",
            "Epoch 16/100\n",
            "279/279 - 6s - loss: 8.6133e-04 - mean_squared_error: 8.6133e-04 - val_loss: 0.0132 - val_mean_squared_error: 0.0132 - lr: 2.0000e-04 - 6s/epoch - 23ms/step\n",
            "Epoch 17/100\n",
            "279/279 - 6s - loss: 6.3977e-04 - mean_squared_error: 6.3977e-04 - val_loss: 0.0128 - val_mean_squared_error: 0.0128 - lr: 2.0000e-04 - 6s/epoch - 23ms/step\n",
            "Epoch 18/100\n",
            "279/279 - 6s - loss: 6.0959e-04 - mean_squared_error: 6.0959e-04 - val_loss: 0.0128 - val_mean_squared_error: 0.0128 - lr: 2.0000e-04 - 6s/epoch - 23ms/step\n",
            "Epoch 19/100\n",
            "279/279 - 7s - loss: 5.7385e-04 - mean_squared_error: 5.7385e-04 - val_loss: 0.0127 - val_mean_squared_error: 0.0127 - lr: 2.0000e-04 - 7s/epoch - 25ms/step\n",
            "Epoch 20/100\n",
            "\n",
            "Epoch 00020: ReduceLROnPlateau reducing learning rate to 4.0000001899898055e-05.\n",
            "279/279 - 7s - loss: 5.5176e-04 - mean_squared_error: 5.5176e-04 - val_loss: 0.0135 - val_mean_squared_error: 0.0135 - lr: 2.0000e-04 - 7s/epoch - 24ms/step\n"
          ]
        },
        {
          "output_type": "execute_result",
          "data": {
            "text/plain": [
              "<keras.callbacks.History at 0x7f30d82012d0>"
            ]
          },
          "metadata": {},
          "execution_count": 23
        }
      ]
    },
    {
      "cell_type": "code",
      "metadata": {
        "colab": {
          "base_uri": "https://localhost:8080/"
        },
        "id": "H1D-vyRX-ImO",
        "outputId": "6f3d971c-d634-44d6-d11b-ee88d1abfc38"
      },
      "source": [
        "pred_GRU = model.predict(X_test_pad)\n",
        "pred_GRU"
      ],
      "execution_count": 24,
      "outputs": [
        {
          "output_type": "execute_result",
          "data": {
            "text/plain": [
              "array([[0.56758916],\n",
              "       [0.56758916],\n",
              "       [0.4837112 ],\n",
              "       ...,\n",
              "       [0.2582947 ],\n",
              "       [0.2582947 ],\n",
              "       [0.2582947 ]], dtype=float32)"
            ]
          },
          "metadata": {},
          "execution_count": 24
        }
      ]
    },
    {
      "cell_type": "code",
      "metadata": {
        "colab": {
          "base_uri": "https://localhost:8080/"
        },
        "id": "YYTbkzCC-IoX",
        "outputId": "1746ef28-39be-4739-b86c-8f4914af0c38"
      },
      "source": [
        "from sklearn.metrics import mean_squared_error\n",
        "mean_squared_error(y_test, pred_GRU)"
      ],
      "execution_count": 25,
      "outputs": [
        {
          "output_type": "execute_result",
          "data": {
            "text/plain": [
              "0.013059795531686454"
            ]
          },
          "metadata": {},
          "execution_count": 25
        }
      ]
    },
    {
      "cell_type": "code",
      "metadata": {
        "id": "ik7uSBgl8QYR"
      },
      "source": [
        "# Lowest for GRU = 0.012551183187498776"
      ],
      "execution_count": 26,
      "outputs": []
    },
    {
      "cell_type": "code",
      "metadata": {
        "id": "jwMZr-nr-WQn"
      },
      "source": [
        "from keras.callbacks import ReduceLROnPlateau,EarlyStopping\n",
        "rlr = ReduceLROnPlateau(monitor=\"val_loss\", factor=0.2, patience=5, min_lr = 0.00001,verbose=1)\n",
        "early = EarlyStopping(monitor='val_loss', mode='min', patience=10, restore_best_weights=True)"
      ],
      "execution_count": 27,
      "outputs": []
    },
    {
      "cell_type": "code",
      "metadata": {
        "colab": {
          "base_uri": "https://localhost:8080/"
        },
        "id": "ds57nv8F-WVA",
        "outputId": "c72b754e-ab44-4b3e-b15a-e3f69138e716"
      },
      "source": [
        "from tensorflow.keras import Sequential\n",
        "from keras.layers import GRU,Embedding, Flatten, Conv1D, GlobalMaxPooling1D, Dropout, Dense, Input\n",
        "from tensorflow.keras import layers\n",
        "\n",
        "EMBEDDING_DIM = 100\n",
        "model = Sequential()\n",
        "e = Embedding(vocab_size, EMBEDDING_DIM, input_length=max_length)\n",
        "model.add(e)\n",
        "model.add(layers.Bidirectional(layers.LSTM(128)))\n",
        "model.add(Dropout(0.2))\n",
        "model.add(Dense(256, activation='relu'))\n",
        "model.add(Dense(1))\n",
        "model.compile(loss=\"mse\", optimizer=\"adam\", metrics=[tf.keras.metrics.MeanSquaredError()])\n",
        "model.fit(X_train_pad, y_train, validation_data=(X_val_pad, y_val), epochs=100, batch_size=32, verbose=2, callbacks=[rlr, early])"
      ],
      "execution_count": 28,
      "outputs": [
        {
          "output_type": "stream",
          "name": "stdout",
          "text": [
            "Epoch 1/100\n",
            "279/279 - 30s - loss: 0.0559 - mean_squared_error: 0.0559 - val_loss: 0.0311 - val_mean_squared_error: 0.0311 - lr: 0.0010 - 30s/epoch - 109ms/step\n",
            "Epoch 2/100\n",
            "279/279 - 25s - loss: 0.0160 - mean_squared_error: 0.0160 - val_loss: 0.0271 - val_mean_squared_error: 0.0271 - lr: 0.0010 - 25s/epoch - 91ms/step\n",
            "Epoch 3/100\n",
            "279/279 - 26s - loss: 0.0090 - mean_squared_error: 0.0090 - val_loss: 0.0222 - val_mean_squared_error: 0.0222 - lr: 0.0010 - 26s/epoch - 92ms/step\n",
            "Epoch 4/100\n",
            "279/279 - 26s - loss: 0.0059 - mean_squared_error: 0.0059 - val_loss: 0.0200 - val_mean_squared_error: 0.0200 - lr: 0.0010 - 26s/epoch - 93ms/step\n",
            "Epoch 5/100\n",
            "279/279 - 26s - loss: 0.0046 - mean_squared_error: 0.0046 - val_loss: 0.0198 - val_mean_squared_error: 0.0198 - lr: 0.0010 - 26s/epoch - 92ms/step\n",
            "Epoch 6/100\n",
            "279/279 - 26s - loss: 0.0036 - mean_squared_error: 0.0036 - val_loss: 0.0182 - val_mean_squared_error: 0.0182 - lr: 0.0010 - 26s/epoch - 92ms/step\n",
            "Epoch 7/100\n",
            "279/279 - 25s - loss: 0.0035 - mean_squared_error: 0.0035 - val_loss: 0.0201 - val_mean_squared_error: 0.0201 - lr: 0.0010 - 25s/epoch - 91ms/step\n",
            "Epoch 8/100\n",
            "279/279 - 26s - loss: 0.0029 - mean_squared_error: 0.0029 - val_loss: 0.0193 - val_mean_squared_error: 0.0193 - lr: 0.0010 - 26s/epoch - 91ms/step\n",
            "Epoch 9/100\n",
            "279/279 - 26s - loss: 0.0025 - mean_squared_error: 0.0025 - val_loss: 0.0182 - val_mean_squared_error: 0.0182 - lr: 0.0010 - 26s/epoch - 92ms/step\n",
            "Epoch 10/100\n",
            "279/279 - 25s - loss: 0.0024 - mean_squared_error: 0.0024 - val_loss: 0.0185 - val_mean_squared_error: 0.0185 - lr: 0.0010 - 25s/epoch - 91ms/step\n",
            "Epoch 11/100\n",
            "\n",
            "Epoch 00011: ReduceLROnPlateau reducing learning rate to 0.00020000000949949026.\n",
            "279/279 - 26s - loss: 0.0020 - mean_squared_error: 0.0020 - val_loss: 0.0183 - val_mean_squared_error: 0.0183 - lr: 0.0010 - 26s/epoch - 92ms/step\n",
            "Epoch 12/100\n",
            "279/279 - 26s - loss: 0.0014 - mean_squared_error: 0.0014 - val_loss: 0.0164 - val_mean_squared_error: 0.0164 - lr: 2.0000e-04 - 26s/epoch - 92ms/step\n",
            "Epoch 13/100\n",
            "279/279 - 25s - loss: 8.8337e-04 - mean_squared_error: 8.8337e-04 - val_loss: 0.0164 - val_mean_squared_error: 0.0164 - lr: 2.0000e-04 - 25s/epoch - 91ms/step\n",
            "Epoch 14/100\n",
            "279/279 - 25s - loss: 7.5112e-04 - mean_squared_error: 7.5112e-04 - val_loss: 0.0166 - val_mean_squared_error: 0.0166 - lr: 2.0000e-04 - 25s/epoch - 91ms/step\n",
            "Epoch 15/100\n",
            "279/279 - 26s - loss: 6.5368e-04 - mean_squared_error: 6.5368e-04 - val_loss: 0.0164 - val_mean_squared_error: 0.0164 - lr: 2.0000e-04 - 26s/epoch - 91ms/step\n",
            "Epoch 16/100\n",
            "279/279 - 25s - loss: 6.5811e-04 - mean_squared_error: 6.5811e-04 - val_loss: 0.0164 - val_mean_squared_error: 0.0164 - lr: 2.0000e-04 - 25s/epoch - 91ms/step\n",
            "Epoch 17/100\n",
            "\n",
            "Epoch 00017: ReduceLROnPlateau reducing learning rate to 4.0000001899898055e-05.\n",
            "279/279 - 25s - loss: 6.3356e-04 - mean_squared_error: 6.3356e-04 - val_loss: 0.0164 - val_mean_squared_error: 0.0164 - lr: 2.0000e-04 - 25s/epoch - 90ms/step\n",
            "Epoch 18/100\n",
            "279/279 - 25s - loss: 5.1749e-04 - mean_squared_error: 5.1749e-04 - val_loss: 0.0164 - val_mean_squared_error: 0.0164 - lr: 4.0000e-05 - 25s/epoch - 91ms/step\n",
            "Epoch 19/100\n",
            "279/279 - 25s - loss: 4.9944e-04 - mean_squared_error: 4.9944e-04 - val_loss: 0.0162 - val_mean_squared_error: 0.0162 - lr: 4.0000e-05 - 25s/epoch - 91ms/step\n",
            "Epoch 20/100\n",
            "279/279 - 25s - loss: 4.8557e-04 - mean_squared_error: 4.8557e-04 - val_loss: 0.0163 - val_mean_squared_error: 0.0163 - lr: 4.0000e-05 - 25s/epoch - 91ms/step\n",
            "Epoch 21/100\n",
            "279/279 - 25s - loss: 4.6769e-04 - mean_squared_error: 4.6769e-04 - val_loss: 0.0163 - val_mean_squared_error: 0.0163 - lr: 4.0000e-05 - 25s/epoch - 91ms/step\n",
            "Epoch 22/100\n",
            "279/279 - 25s - loss: 4.7002e-04 - mean_squared_error: 4.7002e-04 - val_loss: 0.0164 - val_mean_squared_error: 0.0164 - lr: 4.0000e-05 - 25s/epoch - 90ms/step\n",
            "Epoch 23/100\n",
            "279/279 - 25s - loss: 4.3848e-04 - mean_squared_error: 4.3848e-04 - val_loss: 0.0165 - val_mean_squared_error: 0.0165 - lr: 4.0000e-05 - 25s/epoch - 90ms/step\n",
            "Epoch 24/100\n",
            "\n",
            "Epoch 00024: ReduceLROnPlateau reducing learning rate to 1e-05.\n",
            "279/279 - 26s - loss: 4.4263e-04 - mean_squared_error: 4.4263e-04 - val_loss: 0.0165 - val_mean_squared_error: 0.0165 - lr: 4.0000e-05 - 26s/epoch - 92ms/step\n",
            "Epoch 25/100\n",
            "279/279 - 25s - loss: 4.4852e-04 - mean_squared_error: 4.4852e-04 - val_loss: 0.0164 - val_mean_squared_error: 0.0164 - lr: 1.0000e-05 - 25s/epoch - 91ms/step\n",
            "Epoch 26/100\n",
            "279/279 - 26s - loss: 4.1537e-04 - mean_squared_error: 4.1537e-04 - val_loss: 0.0164 - val_mean_squared_error: 0.0164 - lr: 1.0000e-05 - 26s/epoch - 92ms/step\n",
            "Epoch 27/100\n",
            "279/279 - 26s - loss: 4.2074e-04 - mean_squared_error: 4.2074e-04 - val_loss: 0.0164 - val_mean_squared_error: 0.0164 - lr: 1.0000e-05 - 26s/epoch - 93ms/step\n",
            "Epoch 28/100\n",
            "279/279 - 26s - loss: 4.1849e-04 - mean_squared_error: 4.1849e-04 - val_loss: 0.0164 - val_mean_squared_error: 0.0164 - lr: 1.0000e-05 - 26s/epoch - 94ms/step\n",
            "Epoch 29/100\n",
            "279/279 - 25s - loss: 4.0846e-04 - mean_squared_error: 4.0846e-04 - val_loss: 0.0164 - val_mean_squared_error: 0.0164 - lr: 1.0000e-05 - 25s/epoch - 91ms/step\n"
          ]
        },
        {
          "output_type": "execute_result",
          "data": {
            "text/plain": [
              "<keras.callbacks.History at 0x7f30d3d806d0>"
            ]
          },
          "metadata": {},
          "execution_count": 28
        }
      ]
    },
    {
      "cell_type": "code",
      "metadata": {
        "colab": {
          "base_uri": "https://localhost:8080/"
        },
        "id": "DEECKJFQ-WXY",
        "outputId": "95e12b5c-3a06-4b87-9bf1-7289821b20b1"
      },
      "source": [
        "pred_BD = model.predict(X_test_pad)\n",
        "pred_BD"
      ],
      "execution_count": 29,
      "outputs": [
        {
          "output_type": "execute_result",
          "data": {
            "text/plain": [
              "array([[0.5726341 ],\n",
              "       [0.5726341 ],\n",
              "       [0.4432815 ],\n",
              "       ...,\n",
              "       [0.00255305],\n",
              "       [0.00255305],\n",
              "       [0.00255305]], dtype=float32)"
            ]
          },
          "metadata": {},
          "execution_count": 29
        }
      ]
    },
    {
      "cell_type": "code",
      "metadata": {
        "colab": {
          "base_uri": "https://localhost:8080/"
        },
        "id": "ewHj4u5L-WZc",
        "outputId": "51d8be1b-a8fb-4dea-f6a6-e9d13345d859"
      },
      "source": [
        "from sklearn.metrics import mean_squared_error\n",
        "mean_squared_error(y_test, pred_BD)"
      ],
      "execution_count": 30,
      "outputs": [
        {
          "output_type": "execute_result",
          "data": {
            "text/plain": [
              "0.017116518723665212"
            ]
          },
          "metadata": {},
          "execution_count": 30
        }
      ]
    },
    {
      "cell_type": "code",
      "metadata": {
        "id": "Oo_LeMQ8Fljz"
      },
      "source": [
        "# For Bidirectional LSTM the value is = 0.014405696118103219"
      ],
      "execution_count": 31,
      "outputs": []
    },
    {
      "cell_type": "code",
      "metadata": {
        "id": "5bh-zwSTDFKF"
      },
      "source": [
        "from keras.callbacks import ReduceLROnPlateau,EarlyStopping\n",
        "rlr = ReduceLROnPlateau(monitor=\"val_loss\", factor=0.2, patience=5, min_lr = 0.00001,verbose=1)\n",
        "early = EarlyStopping(monitor='val_loss', mode='min', patience=10, restore_best_weights=True)"
      ],
      "execution_count": 32,
      "outputs": []
    },
    {
      "cell_type": "code",
      "metadata": {
        "colab": {
          "base_uri": "https://localhost:8080/"
        },
        "id": "0H0IDdPeDJVo",
        "outputId": "0c4bdf74-a979-42a9-cb87-d8f04af43b12"
      },
      "source": [
        "from tensorflow.keras import Sequential\n",
        "from keras.layers import GRU,Embedding, Flatten, Conv1D, GlobalMaxPooling1D, Dropout, Dense, Input\n",
        "from tensorflow.keras import layers\n",
        "\n",
        "EMBEDDING_DIM = 100\n",
        "model = Sequential()\n",
        "e = Embedding(vocab_size, EMBEDDING_DIM, input_length=max_length)\n",
        "model.add(e)\n",
        "model.add(layers.SimpleRNN(128))\n",
        "model.add(Dropout(0.2))\n",
        "model.add(Dense(256, activation='relu'))\n",
        "model.add(Dense(1))\n",
        "model.compile(loss=\"mse\", optimizer=\"adam\", metrics=[tf.keras.metrics.MeanSquaredError()])\n",
        "model.fit(X_train_pad, y_train, validation_data=(X_val_pad, y_val), epochs=100, batch_size=32, verbose=2, callbacks=[rlr, early])"
      ],
      "execution_count": 33,
      "outputs": [
        {
          "output_type": "stream",
          "name": "stdout",
          "text": [
            "Epoch 1/100\n",
            "279/279 - 7s - loss: 0.0695 - mean_squared_error: 0.0695 - val_loss: 0.0396 - val_mean_squared_error: 0.0396 - lr: 0.0010 - 7s/epoch - 25ms/step\n",
            "Epoch 2/100\n",
            "279/279 - 6s - loss: 0.0246 - mean_squared_error: 0.0246 - val_loss: 0.0415 - val_mean_squared_error: 0.0415 - lr: 0.0010 - 6s/epoch - 20ms/step\n",
            "Epoch 3/100\n",
            "279/279 - 6s - loss: 0.0174 - mean_squared_error: 0.0174 - val_loss: 0.0397 - val_mean_squared_error: 0.0397 - lr: 0.0010 - 6s/epoch - 20ms/step\n",
            "Epoch 4/100\n",
            "279/279 - 6s - loss: 0.0121 - mean_squared_error: 0.0121 - val_loss: 0.0357 - val_mean_squared_error: 0.0357 - lr: 0.0010 - 6s/epoch - 20ms/step\n",
            "Epoch 5/100\n",
            "279/279 - 6s - loss: 0.0104 - mean_squared_error: 0.0104 - val_loss: 0.0343 - val_mean_squared_error: 0.0343 - lr: 0.0010 - 6s/epoch - 20ms/step\n",
            "Epoch 6/100\n",
            "279/279 - 6s - loss: 0.0082 - mean_squared_error: 0.0082 - val_loss: 0.0317 - val_mean_squared_error: 0.0317 - lr: 0.0010 - 6s/epoch - 20ms/step\n",
            "Epoch 7/100\n",
            "279/279 - 6s - loss: 0.0077 - mean_squared_error: 0.0077 - val_loss: 0.0365 - val_mean_squared_error: 0.0365 - lr: 0.0010 - 6s/epoch - 20ms/step\n",
            "Epoch 8/100\n",
            "279/279 - 6s - loss: 0.0074 - mean_squared_error: 0.0074 - val_loss: 0.0322 - val_mean_squared_error: 0.0322 - lr: 0.0010 - 6s/epoch - 20ms/step\n",
            "Epoch 9/100\n",
            "279/279 - 6s - loss: 0.0070 - mean_squared_error: 0.0070 - val_loss: 0.0307 - val_mean_squared_error: 0.0307 - lr: 0.0010 - 6s/epoch - 20ms/step\n",
            "Epoch 10/100\n",
            "279/279 - 6s - loss: 0.0065 - mean_squared_error: 0.0065 - val_loss: 0.0309 - val_mean_squared_error: 0.0309 - lr: 0.0010 - 6s/epoch - 20ms/step\n",
            "Epoch 11/100\n",
            "279/279 - 6s - loss: 0.0058 - mean_squared_error: 0.0058 - val_loss: 0.0291 - val_mean_squared_error: 0.0291 - lr: 0.0010 - 6s/epoch - 21ms/step\n",
            "Epoch 12/100\n",
            "279/279 - 6s - loss: 0.0059 - mean_squared_error: 0.0059 - val_loss: 0.0309 - val_mean_squared_error: 0.0309 - lr: 0.0010 - 6s/epoch - 21ms/step\n",
            "Epoch 13/100\n",
            "279/279 - 6s - loss: 0.0058 - mean_squared_error: 0.0058 - val_loss: 0.0310 - val_mean_squared_error: 0.0310 - lr: 0.0010 - 6s/epoch - 20ms/step\n",
            "Epoch 14/100\n",
            "279/279 - 6s - loss: 0.0056 - mean_squared_error: 0.0056 - val_loss: 0.0321 - val_mean_squared_error: 0.0321 - lr: 0.0010 - 6s/epoch - 20ms/step\n",
            "Epoch 15/100\n",
            "279/279 - 6s - loss: 0.0063 - mean_squared_error: 0.0063 - val_loss: 0.0314 - val_mean_squared_error: 0.0314 - lr: 0.0010 - 6s/epoch - 20ms/step\n",
            "Epoch 16/100\n",
            "\n",
            "Epoch 00016: ReduceLROnPlateau reducing learning rate to 0.00020000000949949026.\n",
            "279/279 - 6s - loss: 0.0057 - mean_squared_error: 0.0057 - val_loss: 0.0323 - val_mean_squared_error: 0.0323 - lr: 0.0010 - 6s/epoch - 21ms/step\n",
            "Epoch 17/100\n",
            "279/279 - 6s - loss: 0.0033 - mean_squared_error: 0.0033 - val_loss: 0.0272 - val_mean_squared_error: 0.0272 - lr: 2.0000e-04 - 6s/epoch - 21ms/step\n",
            "Epoch 18/100\n",
            "279/279 - 6s - loss: 0.0021 - mean_squared_error: 0.0021 - val_loss: 0.0268 - val_mean_squared_error: 0.0268 - lr: 2.0000e-04 - 6s/epoch - 21ms/step\n",
            "Epoch 19/100\n",
            "279/279 - 6s - loss: 0.0018 - mean_squared_error: 0.0018 - val_loss: 0.0267 - val_mean_squared_error: 0.0267 - lr: 2.0000e-04 - 6s/epoch - 20ms/step\n",
            "Epoch 20/100\n",
            "279/279 - 6s - loss: 0.0015 - mean_squared_error: 0.0015 - val_loss: 0.0268 - val_mean_squared_error: 0.0268 - lr: 2.0000e-04 - 6s/epoch - 20ms/step\n",
            "Epoch 21/100\n",
            "279/279 - 6s - loss: 0.0015 - mean_squared_error: 0.0015 - val_loss: 0.0267 - val_mean_squared_error: 0.0267 - lr: 2.0000e-04 - 6s/epoch - 21ms/step\n",
            "Epoch 22/100\n",
            "279/279 - 6s - loss: 0.0014 - mean_squared_error: 0.0014 - val_loss: 0.0265 - val_mean_squared_error: 0.0265 - lr: 2.0000e-04 - 6s/epoch - 21ms/step\n",
            "Epoch 23/100\n",
            "279/279 - 6s - loss: 0.0013 - mean_squared_error: 0.0013 - val_loss: 0.0275 - val_mean_squared_error: 0.0275 - lr: 2.0000e-04 - 6s/epoch - 20ms/step\n",
            "Epoch 24/100\n",
            "279/279 - 6s - loss: 0.0013 - mean_squared_error: 0.0013 - val_loss: 0.0274 - val_mean_squared_error: 0.0274 - lr: 2.0000e-04 - 6s/epoch - 20ms/step\n",
            "Epoch 25/100\n",
            "279/279 - 6s - loss: 0.0012 - mean_squared_error: 0.0012 - val_loss: 0.0278 - val_mean_squared_error: 0.0278 - lr: 2.0000e-04 - 6s/epoch - 20ms/step\n",
            "Epoch 26/100\n",
            "279/279 - 6s - loss: 0.0012 - mean_squared_error: 0.0012 - val_loss: 0.0265 - val_mean_squared_error: 0.0265 - lr: 2.0000e-04 - 6s/epoch - 20ms/step\n",
            "Epoch 27/100\n",
            "\n",
            "Epoch 00027: ReduceLROnPlateau reducing learning rate to 4.0000001899898055e-05.\n",
            "279/279 - 6s - loss: 0.0013 - mean_squared_error: 0.0013 - val_loss: 0.0271 - val_mean_squared_error: 0.0271 - lr: 2.0000e-04 - 6s/epoch - 20ms/step\n",
            "Epoch 28/100\n",
            "279/279 - 6s - loss: 0.0011 - mean_squared_error: 0.0011 - val_loss: 0.0265 - val_mean_squared_error: 0.0265 - lr: 4.0000e-05 - 6s/epoch - 20ms/step\n",
            "Epoch 29/100\n",
            "279/279 - 6s - loss: 8.9256e-04 - mean_squared_error: 8.9256e-04 - val_loss: 0.0266 - val_mean_squared_error: 0.0266 - lr: 4.0000e-05 - 6s/epoch - 20ms/step\n",
            "Epoch 30/100\n",
            "279/279 - 6s - loss: 8.8782e-04 - mean_squared_error: 8.8782e-04 - val_loss: 0.0265 - val_mean_squared_error: 0.0265 - lr: 4.0000e-05 - 6s/epoch - 20ms/step\n",
            "Epoch 31/100\n",
            "279/279 - 6s - loss: 8.6475e-04 - mean_squared_error: 8.6475e-04 - val_loss: 0.0265 - val_mean_squared_error: 0.0265 - lr: 4.0000e-05 - 6s/epoch - 20ms/step\n",
            "Epoch 32/100\n",
            "\n",
            "Epoch 00032: ReduceLROnPlateau reducing learning rate to 1e-05.\n",
            "279/279 - 6s - loss: 8.6858e-04 - mean_squared_error: 8.6858e-04 - val_loss: 0.0266 - val_mean_squared_error: 0.0266 - lr: 4.0000e-05 - 6s/epoch - 20ms/step\n",
            "Epoch 33/100\n",
            "279/279 - 6s - loss: 7.8239e-04 - mean_squared_error: 7.8239e-04 - val_loss: 0.0264 - val_mean_squared_error: 0.0264 - lr: 1.0000e-05 - 6s/epoch - 20ms/step\n",
            "Epoch 34/100\n",
            "279/279 - 6s - loss: 7.4702e-04 - mean_squared_error: 7.4702e-04 - val_loss: 0.0265 - val_mean_squared_error: 0.0265 - lr: 1.0000e-05 - 6s/epoch - 20ms/step\n",
            "Epoch 35/100\n",
            "279/279 - 6s - loss: 7.8561e-04 - mean_squared_error: 7.8561e-04 - val_loss: 0.0263 - val_mean_squared_error: 0.0263 - lr: 1.0000e-05 - 6s/epoch - 21ms/step\n",
            "Epoch 36/100\n",
            "279/279 - 6s - loss: 7.7064e-04 - mean_squared_error: 7.7064e-04 - val_loss: 0.0265 - val_mean_squared_error: 0.0265 - lr: 1.0000e-05 - 6s/epoch - 21ms/step\n",
            "Epoch 37/100\n",
            "279/279 - 6s - loss: 7.5946e-04 - mean_squared_error: 7.5946e-04 - val_loss: 0.0264 - val_mean_squared_error: 0.0264 - lr: 1.0000e-05 - 6s/epoch - 21ms/step\n",
            "Epoch 38/100\n",
            "279/279 - 6s - loss: 7.5087e-04 - mean_squared_error: 7.5087e-04 - val_loss: 0.0265 - val_mean_squared_error: 0.0265 - lr: 1.0000e-05 - 6s/epoch - 20ms/step\n",
            "Epoch 39/100\n",
            "279/279 - 6s - loss: 7.7931e-04 - mean_squared_error: 7.7931e-04 - val_loss: 0.0264 - val_mean_squared_error: 0.0264 - lr: 1.0000e-05 - 6s/epoch - 20ms/step\n",
            "Epoch 40/100\n",
            "279/279 - 6s - loss: 7.5631e-04 - mean_squared_error: 7.5631e-04 - val_loss: 0.0266 - val_mean_squared_error: 0.0266 - lr: 1.0000e-05 - 6s/epoch - 20ms/step\n",
            "Epoch 41/100\n",
            "279/279 - 6s - loss: 7.6141e-04 - mean_squared_error: 7.6141e-04 - val_loss: 0.0268 - val_mean_squared_error: 0.0268 - lr: 1.0000e-05 - 6s/epoch - 20ms/step\n",
            "Epoch 42/100\n",
            "279/279 - 6s - loss: 7.2113e-04 - mean_squared_error: 7.2113e-04 - val_loss: 0.0265 - val_mean_squared_error: 0.0265 - lr: 1.0000e-05 - 6s/epoch - 20ms/step\n",
            "Epoch 43/100\n",
            "279/279 - 6s - loss: 7.3384e-04 - mean_squared_error: 7.3384e-04 - val_loss: 0.0265 - val_mean_squared_error: 0.0265 - lr: 1.0000e-05 - 6s/epoch - 20ms/step\n",
            "Epoch 44/100\n",
            "279/279 - 6s - loss: 7.3985e-04 - mean_squared_error: 7.3985e-04 - val_loss: 0.0267 - val_mean_squared_error: 0.0267 - lr: 1.0000e-05 - 6s/epoch - 21ms/step\n",
            "Epoch 45/100\n",
            "279/279 - 6s - loss: 7.4305e-04 - mean_squared_error: 7.4305e-04 - val_loss: 0.0265 - val_mean_squared_error: 0.0265 - lr: 1.0000e-05 - 6s/epoch - 21ms/step\n"
          ]
        },
        {
          "output_type": "execute_result",
          "data": {
            "text/plain": [
              "<keras.callbacks.History at 0x7f30d13be850>"
            ]
          },
          "metadata": {},
          "execution_count": 33
        }
      ]
    },
    {
      "cell_type": "code",
      "metadata": {
        "colab": {
          "base_uri": "https://localhost:8080/"
        },
        "id": "z9rL6N4tDTMv",
        "outputId": "6f89b49a-1c58-4a39-e6e4-c163dd5961bd"
      },
      "source": [
        "pred_RNN = model.predict(X_test_pad)\n",
        "pred_RNN"
      ],
      "execution_count": 34,
      "outputs": [
        {
          "output_type": "execute_result",
          "data": {
            "text/plain": [
              "array([[ 0.66641724],\n",
              "       [ 0.66641724],\n",
              "       [ 0.65908015],\n",
              "       ...,\n",
              "       [-0.03344627],\n",
              "       [-0.03344627],\n",
              "       [-0.03344627]], dtype=float32)"
            ]
          },
          "metadata": {},
          "execution_count": 34
        }
      ]
    },
    {
      "cell_type": "code",
      "metadata": {
        "colab": {
          "base_uri": "https://localhost:8080/"
        },
        "id": "JNDjmsRLDTOo",
        "outputId": "9f48e170-3855-4389-bc08-84388d327b8c"
      },
      "source": [
        "from sklearn.metrics import mean_squared_error\n",
        "mean_squared_error(y_test, pred_RNN)"
      ],
      "execution_count": 35,
      "outputs": [
        {
          "output_type": "execute_result",
          "data": {
            "text/plain": [
              "0.029044756739662943"
            ]
          },
          "metadata": {},
          "execution_count": 35
        }
      ]
    },
    {
      "cell_type": "code",
      "metadata": {
        "id": "eXlYPRcsFpSH"
      },
      "source": [
        "# Lowest MSE for RNN = 0.02967146588746264"
      ],
      "execution_count": 36,
      "outputs": []
    }
  ]
}