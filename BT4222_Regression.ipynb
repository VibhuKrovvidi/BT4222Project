{
  "nbformat": 4,
  "nbformat_minor": 0,
  "metadata": {
    "colab": {
      "name": "BT4222_Regression.ipynb",
      "provenance": [],
      "collapsed_sections": []
    },
    "kernelspec": {
      "name": "python3",
      "display_name": "Python 3"
    },
    "language_info": {
      "name": "python"
    }
  },
  "cells": [
    {
      "cell_type": "code",
      "metadata": {
        "id": "CNJmhIBnA8zx"
      },
      "source": [
        "import pandas as pd\n",
        "import numpy as np\n"
      ],
      "execution_count": 2,
      "outputs": []
    },
    {
      "cell_type": "code",
      "metadata": {
        "id": "pTQaPuOuBBJi"
      },
      "source": [
        "df = pd.read_csv(\"preds4222_newtest3.csv\")"
      ],
      "execution_count": 3,
      "outputs": []
    },
    {
      "cell_type": "code",
      "metadata": {
        "id": "YxCHy-zCDclV"
      },
      "source": [
        "restdf = pd.read_csv(\"reg_scraped_output.csv\")\n",
        "restdf.columns = [\"Review\", \"Date\", \"Stars\", \"place\"]\n",
        "\n",
        "restdf = restdf[[\"place\", \"Stars\"]]\n",
        "restdf#.dtypes\n",
        "restdf[\"Stars\"] = restdf[\"Stars\"].apply(lambda x:int(x[1]))\n",
        "restdf = restdf.groupby('place').mean()"
      ],
      "execution_count": 41,
      "outputs": []
    },
    {
      "cell_type": "code",
      "metadata": {
        "id": "-6HtfvY3BNOS"
      },
      "source": [
        "# Join Stars\n",
        "\n",
        "df = df.merge(restdf, on=\"place\", how='left')"
      ],
      "execution_count": 44,
      "outputs": []
    },
    {
      "cell_type": "code",
      "metadata": {
        "colab": {
          "base_uri": "https://localhost:8080/",
          "height": 450
        },
        "id": "53L9tKpwBUjr",
        "outputId": "30de883c-cc73-4dcb-f2ed-a79d980d21c1"
      },
      "source": [
        "df.groupby([\"place\", \"category\"]).mean()#.reset_index()\n"
      ],
      "execution_count": 45,
      "outputs": [
        {
          "output_type": "execute_result",
          "data": {
            "text/html": [
              "<div>\n",
              "<style scoped>\n",
              "    .dataframe tbody tr th:only-of-type {\n",
              "        vertical-align: middle;\n",
              "    }\n",
              "\n",
              "    .dataframe tbody tr th {\n",
              "        vertical-align: top;\n",
              "    }\n",
              "\n",
              "    .dataframe thead th {\n",
              "        text-align: right;\n",
              "    }\n",
              "</style>\n",
              "<table border=\"1\" class=\"dataframe\">\n",
              "  <thead>\n",
              "    <tr style=\"text-align: right;\">\n",
              "      <th></th>\n",
              "      <th></th>\n",
              "      <th>pred</th>\n",
              "      <th>clause_polarity</th>\n",
              "      <th>Stars</th>\n",
              "    </tr>\n",
              "    <tr>\n",
              "      <th>place</th>\n",
              "      <th>category</th>\n",
              "      <th></th>\n",
              "      <th></th>\n",
              "      <th></th>\n",
              "    </tr>\n",
              "  </thead>\n",
              "  <tbody>\n",
              "    <tr>\n",
              "      <th rowspan=\"5\" valign=\"top\">Adda</th>\n",
              "      <th>Non-Categorised</th>\n",
              "      <td>0.308022</td>\n",
              "      <td>0.328889</td>\n",
              "      <td>4.383333</td>\n",
              "    </tr>\n",
              "    <tr>\n",
              "      <th>ambience</th>\n",
              "      <td>0.270236</td>\n",
              "      <td>0.302517</td>\n",
              "      <td>4.383333</td>\n",
              "    </tr>\n",
              "    <tr>\n",
              "      <th>food</th>\n",
              "      <td>0.232699</td>\n",
              "      <td>0.373625</td>\n",
              "      <td>4.383333</td>\n",
              "    </tr>\n",
              "    <tr>\n",
              "      <th>price</th>\n",
              "      <td>0.162970</td>\n",
              "      <td>0.144529</td>\n",
              "      <td>4.383333</td>\n",
              "    </tr>\n",
              "    <tr>\n",
              "      <th>service</th>\n",
              "      <td>0.141635</td>\n",
              "      <td>0.121053</td>\n",
              "      <td>4.383333</td>\n",
              "    </tr>\n",
              "    <tr>\n",
              "      <th>...</th>\n",
              "      <th>...</th>\n",
              "      <td>...</td>\n",
              "      <td>...</td>\n",
              "      <td>...</td>\n",
              "    </tr>\n",
              "    <tr>\n",
              "      <th rowspan=\"5\" valign=\"top\">roots</th>\n",
              "      <th>Non-Categorised</th>\n",
              "      <td>-0.074437</td>\n",
              "      <td>-0.133333</td>\n",
              "      <td>4.362500</td>\n",
              "    </tr>\n",
              "    <tr>\n",
              "      <th>ambience</th>\n",
              "      <td>0.359726</td>\n",
              "      <td>0.370713</td>\n",
              "      <td>4.362500</td>\n",
              "    </tr>\n",
              "    <tr>\n",
              "      <th>food</th>\n",
              "      <td>0.319861</td>\n",
              "      <td>0.316843</td>\n",
              "      <td>4.362500</td>\n",
              "    </tr>\n",
              "    <tr>\n",
              "      <th>price</th>\n",
              "      <td>0.170871</td>\n",
              "      <td>0.171904</td>\n",
              "      <td>4.362500</td>\n",
              "    </tr>\n",
              "    <tr>\n",
              "      <th>service</th>\n",
              "      <td>0.288576</td>\n",
              "      <td>0.275694</td>\n",
              "      <td>4.362500</td>\n",
              "    </tr>\n",
              "  </tbody>\n",
              "</table>\n",
              "<p>149 rows × 3 columns</p>\n",
              "</div>"
            ],
            "text/plain": [
              "                           pred  clause_polarity     Stars\n",
              "place category                                            \n",
              "Adda  Non-Categorised  0.308022         0.328889  4.383333\n",
              "      ambience         0.270236         0.302517  4.383333\n",
              "      food             0.232699         0.373625  4.383333\n",
              "      price            0.162970         0.144529  4.383333\n",
              "      service          0.141635         0.121053  4.383333\n",
              "...                         ...              ...       ...\n",
              "roots Non-Categorised -0.074437        -0.133333  4.362500\n",
              "      ambience         0.359726         0.370713  4.362500\n",
              "      food             0.319861         0.316843  4.362500\n",
              "      price            0.170871         0.171904  4.362500\n",
              "      service          0.288576         0.275694  4.362500\n",
              "\n",
              "[149 rows x 3 columns]"
            ]
          },
          "metadata": {},
          "execution_count": 45
        }
      ]
    },
    {
      "cell_type": "code",
      "metadata": {
        "id": "z4sxVtiYCiJC"
      },
      "source": [
        "reg = pd.pivot_table(df, index=[\"place\", \"Stars\"], columns=[\"category\"], values = [\"pred\"]).reset_index()\n",
        "\n",
        "reg.columns = reg.columns.droplevel(0)\n",
        "reg.columns = [\"place\", \"Stars\", 'Non-Categorised', 'ambience', 'food', 'price', 'service']"
      ],
      "execution_count": 66,
      "outputs": []
    },
    {
      "cell_type": "code",
      "metadata": {
        "colab": {
          "base_uri": "https://localhost:8080/"
        },
        "id": "F0HzqqLjGsm3",
        "outputId": "7ee99424-df0e-4af8-eaee-bb2f28ac71eb"
      },
      "source": [
        "import statsmodels.formula.api as sm"
      ],
      "execution_count": 82,
      "outputs": [
        {
          "output_type": "stream",
          "name": "stderr",
          "text": [
            "/usr/local/lib/python3.7/dist-packages/statsmodels/tools/_testing.py:19: FutureWarning: pandas.util.testing is deprecated. Use the functions in the public API at pandas.testing instead.\n",
            "  import pandas.util.testing as tm\n"
          ]
        }
      ]
    },
    {
      "cell_type": "code",
      "metadata": {
        "colab": {
          "base_uri": "https://localhost:8080/",
          "height": 142
        },
        "id": "poCkJe7DHAQl",
        "outputId": "b76ba3eb-07ec-49d6-fe23-9c35aeae0243"
      },
      "source": [
        "col = reg.columns\n",
        "col = [i for i in col if i not in [\"Stars\", \"place\", \"Non-Categorised\"]]\n",
        "xtrain = reg[col]\n",
        "xtrain.head(3)"
      ],
      "execution_count": 76,
      "outputs": [
        {
          "output_type": "execute_result",
          "data": {
            "text/html": [
              "<div>\n",
              "<style scoped>\n",
              "    .dataframe tbody tr th:only-of-type {\n",
              "        vertical-align: middle;\n",
              "    }\n",
              "\n",
              "    .dataframe tbody tr th {\n",
              "        vertical-align: top;\n",
              "    }\n",
              "\n",
              "    .dataframe thead th {\n",
              "        text-align: right;\n",
              "    }\n",
              "</style>\n",
              "<table border=\"1\" class=\"dataframe\">\n",
              "  <thead>\n",
              "    <tr style=\"text-align: right;\">\n",
              "      <th></th>\n",
              "      <th>ambience</th>\n",
              "      <th>food</th>\n",
              "      <th>price</th>\n",
              "      <th>service</th>\n",
              "    </tr>\n",
              "  </thead>\n",
              "  <tbody>\n",
              "    <tr>\n",
              "      <th>0</th>\n",
              "      <td>0.270236</td>\n",
              "      <td>0.232699</td>\n",
              "      <td>0.162970</td>\n",
              "      <td>0.141635</td>\n",
              "    </tr>\n",
              "    <tr>\n",
              "      <th>1</th>\n",
              "      <td>0.300673</td>\n",
              "      <td>0.329756</td>\n",
              "      <td>0.358247</td>\n",
              "      <td>0.587589</td>\n",
              "    </tr>\n",
              "    <tr>\n",
              "      <th>2</th>\n",
              "      <td>0.237009</td>\n",
              "      <td>0.242740</td>\n",
              "      <td>0.125776</td>\n",
              "      <td>0.228787</td>\n",
              "    </tr>\n",
              "  </tbody>\n",
              "</table>\n",
              "</div>"
            ],
            "text/plain": [
              "   ambience      food     price   service\n",
              "0  0.270236  0.232699  0.162970  0.141635\n",
              "1  0.300673  0.329756  0.358247  0.587589\n",
              "2  0.237009  0.242740  0.125776  0.228787"
            ]
          },
          "metadata": {},
          "execution_count": 76
        }
      ]
    },
    {
      "cell_type": "code",
      "metadata": {
        "id": "3aBXXR-fIEbm"
      },
      "source": [
        "ytrain = reg[\"Stars\"]"
      ],
      "execution_count": 77,
      "outputs": []
    },
    {
      "cell_type": "code",
      "metadata": {
        "id": "w_jqYI6tJU2A"
      },
      "source": [
        "form = \"Stars  ~ \"\n",
        "for i in col:s\n",
        "  form = form + i + \" + \"\n",
        "form = form[0:-3]"
      ],
      "execution_count": 86,
      "outputs": []
    },
    {
      "cell_type": "code",
      "metadata": {
        "colab": {
          "base_uri": "https://localhost:8080/"
        },
        "id": "aDpxcaIhImez",
        "outputId": "408ad764-c9fc-453a-f809-4611dd097ce7"
      },
      "source": [
        "result = sm.ols(formula=form, data=reg).fit()\n",
        "print(result.params)\n"
      ],
      "execution_count": 89,
      "outputs": [
        {
          "output_type": "stream",
          "name": "stdout",
          "text": [
            "Intercept    4.250000\n",
            "ambience     0.273706\n",
            "food         0.060940\n",
            "price       -0.471064\n",
            "service      0.489613\n",
            "dtype: float64\n"
          ]
        }
      ]
    },
    {
      "cell_type": "code",
      "metadata": {
        "colab": {
          "base_uri": "https://localhost:8080/"
        },
        "id": "qs70LSkxS3eT",
        "outputId": "8d7fc208-b4ed-4ec3-a160-01ed82744f3b"
      },
      "source": [
        "print(result.summary())"
      ],
      "execution_count": 90,
      "outputs": [
        {
          "output_type": "stream",
          "name": "stdout",
          "text": [
            "                            OLS Regression Results                            \n",
            "==============================================================================\n",
            "Dep. Variable:                  Stars   R-squared:                       0.119\n",
            "Model:                            OLS   Adj. R-squared:                 -0.021\n",
            "Method:                 Least Squares   F-statistic:                    0.8480\n",
            "Date:                Thu, 18 Nov 2021   Prob (F-statistic):              0.508\n",
            "Time:                        13:45:30   Log-Likelihood:                 2.0374\n",
            "No. Observations:                  30   AIC:                             5.925\n",
            "Df Residuals:                      25   BIC:                             12.93\n",
            "Df Model:                           4                                         \n",
            "Covariance Type:            nonrobust                                         \n",
            "==============================================================================\n",
            "                 coef    std err          t      P>|t|      [0.025      0.975]\n",
            "------------------------------------------------------------------------------\n",
            "Intercept      4.2500      0.277     15.317      0.000       3.679       4.821\n",
            "ambience       0.2737      0.392      0.697      0.492      -0.535       1.082\n",
            "food           0.0609      1.078      0.057      0.955      -2.160       2.282\n",
            "price         -0.4711      1.005     -0.469      0.643      -2.542       1.600\n",
            "service        0.4896      0.339      1.446      0.161      -0.208       1.187\n",
            "==============================================================================\n",
            "Omnibus:                        2.021   Durbin-Watson:                   1.762\n",
            "Prob(Omnibus):                  0.364   Jarque-Bera (JB):                1.555\n",
            "Skew:                          -0.552   Prob(JB):                        0.460\n",
            "Kurtosis:                       2.842   Cond. No.                         30.0\n",
            "==============================================================================\n",
            "\n",
            "Warnings:\n",
            "[1] Standard Errors assume that the covariance matrix of the errors is correctly specified.\n"
          ]
        }
      ]
    }
  ]
}