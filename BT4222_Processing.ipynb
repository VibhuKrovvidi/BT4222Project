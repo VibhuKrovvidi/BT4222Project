{
  "nbformat": 4,
  "nbformat_minor": 0,
  "metadata": {
    "colab": {
      "name": "BT4222_Processing.ipynb",
      "provenance": [],
      "collapsed_sections": []
    },
    "kernelspec": {
      "name": "python3",
      "display_name": "Python 3"
    },
    "language_info": {
      "name": "python"
    }
  },
  "cells": [
    {
      "cell_type": "markdown",
      "metadata": {
        "id": "mcFsPVYLfEYx"
      },
      "source": [
        "# BT4222\n",
        "## Data Processing\n",
        "\n"
      ]
    },
    {
      "cell_type": "code",
      "metadata": {
        "id": "t4_kkblMf4O9"
      },
      "source": [
        "pip install spacytextblob --quiet"
      ],
      "execution_count": null,
      "outputs": []
    },
    {
      "cell_type": "code",
      "metadata": {
        "colab": {
          "base_uri": "https://localhost:8080/"
        },
        "id": "zYIJEZ6hggzU",
        "outputId": "70f12099-4235-4ef1-849b-2720db77c656"
      },
      "source": [
        "!python -m spacy download en_core_web_sm --quiet"
      ],
      "execution_count": null,
      "outputs": [
        {
          "output_type": "stream",
          "name": "stdout",
          "text": [
            "\u001b[K     |████████████████████████████████| 13.9 MB 86 kB/s \n",
            "\u001b[?25h\u001b[38;5;2m✔ Download and installation successful\u001b[0m\n",
            "You can now load the package via spacy.load('en_core_web_sm')\n"
          ]
        }
      ]
    },
    {
      "cell_type": "code",
      "metadata": {
        "colab": {
          "base_uri": "https://localhost:8080/"
        },
        "id": "XHOe4yMZfMNW",
        "outputId": "44cd49eb-9f66-4858-a563-fe1d4807786b"
      },
      "source": [
        "# Imports\n",
        "import pandas as pd\n",
        "import numpy as np\n",
        "import spacy\n",
        "from spacytextblob.spacytextblob import SpacyTextBlob\n",
        "en = spacy.load('en_core_web_sm')\n",
        "en.add_pipe('spacytextblob')"
      ],
      "execution_count": null,
      "outputs": [
        {
          "output_type": "execute_result",
          "data": {
            "text/plain": [
              "<spacytextblob.spacytextblob.SpacyTextBlob at 0x7f2f18a80490>"
            ]
          },
          "metadata": {},
          "execution_count": 85
        }
      ]
    },
    {
      "cell_type": "code",
      "metadata": {
        "colab": {
          "base_uri": "https://localhost:8080/",
          "height": 142
        },
        "id": "F6oy3DiZfB7u",
        "outputId": "f1d3a068-4fd3-4f71-bdcd-002d307273f8"
      },
      "source": [
        "# Read raw reviews\n",
        "# df = pd.read_csv(\"scraped_output.csv\")\n",
        "df = pd.read_csv(\"testing_scraped_output.csv\")\n",
        "df.dropna(inplace=True)\n",
        "df.head(3)"
      ],
      "execution_count": null,
      "outputs": [
        {
          "output_type": "execute_result",
          "data": {
            "text/html": [
              "<div>\n",
              "<style scoped>\n",
              "    .dataframe tbody tr th:only-of-type {\n",
              "        vertical-align: middle;\n",
              "    }\n",
              "\n",
              "    .dataframe tbody tr th {\n",
              "        vertical-align: top;\n",
              "    }\n",
              "\n",
              "    .dataframe thead th {\n",
              "        text-align: right;\n",
              "    }\n",
              "</style>\n",
              "<table border=\"1\" class=\"dataframe\">\n",
              "  <thead>\n",
              "    <tr style=\"text-align: right;\">\n",
              "      <th></th>\n",
              "      <th>Review</th>\n",
              "      <th>Date</th>\n",
              "      <th>Stars</th>\n",
              "      <th>Restaurant</th>\n",
              "    </tr>\n",
              "  </thead>\n",
              "  <tbody>\n",
              "    <tr>\n",
              "      <th>0</th>\n",
              "      <td>There are lots of Indian restaurant at Tanjong...</td>\n",
              "      <td>2 days ago</td>\n",
              "      <td>5 stars</td>\n",
              "      <td>Gravy_Restaurant</td>\n",
              "    </tr>\n",
              "    <tr>\n",
              "      <th>2</th>\n",
              "      <td>The dal makhni was sweet, seemed like sugar wa...</td>\n",
              "      <td>a week ago</td>\n",
              "      <td>2 stars</td>\n",
              "      <td>Gravy_Restaurant</td>\n",
              "    </tr>\n",
              "    <tr>\n",
              "      <th>4</th>\n",
              "      <td>We are regular customers - the food is amazing...</td>\n",
              "      <td>2 weeks ago</td>\n",
              "      <td>5 stars</td>\n",
              "      <td>Gravy_Restaurant</td>\n",
              "    </tr>\n",
              "  </tbody>\n",
              "</table>\n",
              "</div>"
            ],
            "text/plain": [
              "                                              Review  ...        Restaurant\n",
              "0  There are lots of Indian restaurant at Tanjong...  ...  Gravy_Restaurant\n",
              "2  The dal makhni was sweet, seemed like sugar wa...  ...  Gravy_Restaurant\n",
              "4  We are regular customers - the food is amazing...  ...  Gravy_Restaurant\n",
              "\n",
              "[3 rows x 4 columns]"
            ]
          },
          "metadata": {},
          "execution_count": 86
        }
      ]
    },
    {
      "cell_type": "markdown",
      "metadata": {
        "id": "WGDSikjifnle"
      },
      "source": [
        "### Feature-Descriptor Extraction"
      ]
    },
    {
      "cell_type": "code",
      "metadata": {
        "id": "Js9lIG10fcKQ"
      },
      "source": [
        "# Function to break sentence into constituents\n",
        "# Function to do feature-descriptor extraction from each row:\n",
        "def get_feature_descriptors(text):\n",
        "#     text = row[\"text\"]\n",
        "\n",
        "    doc = en(text)\n",
        "#     deplacy.render(doc)\n",
        "    seen = set() # keep track of covered words\n",
        "    dict_noun = {} # This is for the dict of Noun - Adverb, adj, verb\n",
        "    chunks = []\n",
        "    for sent in doc.sents:\n",
        "    #calculate the dict_noun first\n",
        "\n",
        "        for word in sent:\n",
        "                \n",
        "                if word.pos_ == 'NOUN':\n",
        "                    current_noun = word.text\n",
        "                    dict_noun[current_noun] = []\n",
        "                if word.pos_ == 'ADV' or word.pos_ == 'ADJ' or word.pos_ == 'VERB':\n",
        "                    try:\n",
        "                        dict_noun[current_noun].append(word.text)\n",
        "                    except:\n",
        "                        pass;\n",
        "                    \n",
        "\n",
        "        #See if there are conjunctions to split on. If so get the heads for the subtrees\n",
        "        heads = [cc for cc in sent if cc.dep_ == 'conj']\n",
        "#         print(heads)\n",
        "\n",
        "        # If there are no conjunctions split only on punctuation.\n",
        "        if(len(heads)==0):\n",
        "            counter = 0\n",
        "            array = []\n",
        "            for word in sent:\n",
        "                if word.pos_ != 'PUNCT':\n",
        "                    array.append(word)\n",
        "                    continue\n",
        "                chunk = (' '.join([ww.text for ww in array]))\n",
        "                chunks.append( (counter, chunk) )\n",
        "                counter = counter + 1\n",
        "                array = []\n",
        "            chunk = (' '.join([ww.text for ww in array]))\n",
        "            chunks.append( (counter, chunk) )\n",
        "        else:\n",
        "            for head in heads:\n",
        "                words = [None]*100\n",
        "                counter = 0\n",
        "                for i in head.subtree:\n",
        "                    if(i in heads):\n",
        "                        if(i != head):\n",
        "                            break\n",
        "                    if(i.pos_ == 'PUNCT'):\n",
        "                        break\n",
        "                    words[counter] = i\n",
        "                    counter = counter + 1\n",
        "                    if(i.dep_ == 'cc'):\n",
        "                        break\n",
        "                res = []\n",
        "                for val in words:\n",
        "                    if val != None :\n",
        "                        res.append(val)\n",
        "                for word in res:\n",
        "                    seen.add(word)\n",
        "                chunk = (' '.join([ww.text for ww in res]))\n",
        "                chunks.append( (head.i, chunk) )\n",
        "            unseen = [ww for ww in sent if ww not in seen]\n",
        "            counter = 0\n",
        "            array = []\n",
        "            for word in unseen:\n",
        "                if word.pos_ != 'PUNCT':\n",
        "                    array.append(word)\n",
        "                    continue\n",
        "                chunk = (' '.join([ww.text for ww in array if ww.dep_ != 'cc']))\n",
        "                chunks.append( (counter, chunk) )\n",
        "                counter = counter + 1\n",
        "                array = []\n",
        "            chunk = (' '.join([ww.text for ww in array if ww.dep_ != 'cc']))\n",
        "            chunks.append( (counter, chunk) )\n",
        "    return [dict_noun]"
      ],
      "execution_count": null,
      "outputs": []
    },
    {
      "cell_type": "code",
      "metadata": {
        "id": "OrsvEEbkffC4"
      },
      "source": [
        "# Apply function to get feature-descriptors\n",
        "df[\"feature_descriptors\"] = df[\"Review\"].apply(lambda x:get_feature_descriptors(x))"
      ],
      "execution_count": null,
      "outputs": []
    },
    {
      "cell_type": "code",
      "metadata": {
        "colab": {
          "base_uri": "https://localhost:8080/",
          "height": 80
        },
        "id": "J5mcZG8FfrmK",
        "outputId": "d23ba9d5-aa7a-4218-9324-b31fc4339d8a"
      },
      "source": [
        "df.head(1)"
      ],
      "execution_count": null,
      "outputs": [
        {
          "output_type": "execute_result",
          "data": {
            "text/html": [
              "<div>\n",
              "<style scoped>\n",
              "    .dataframe tbody tr th:only-of-type {\n",
              "        vertical-align: middle;\n",
              "    }\n",
              "\n",
              "    .dataframe tbody tr th {\n",
              "        vertical-align: top;\n",
              "    }\n",
              "\n",
              "    .dataframe thead th {\n",
              "        text-align: right;\n",
              "    }\n",
              "</style>\n",
              "<table border=\"1\" class=\"dataframe\">\n",
              "  <thead>\n",
              "    <tr style=\"text-align: right;\">\n",
              "      <th></th>\n",
              "      <th>Review</th>\n",
              "      <th>Date</th>\n",
              "      <th>Stars</th>\n",
              "      <th>Restaurant</th>\n",
              "      <th>feature_descriptors</th>\n",
              "    </tr>\n",
              "  </thead>\n",
              "  <tbody>\n",
              "    <tr>\n",
              "      <th>0</th>\n",
              "      <td>There are lots of Indian restaurant at Tanjong...</td>\n",
              "      <td>2 days ago</td>\n",
              "      <td>5 stars</td>\n",
              "      <td>Gravy_Restaurant</td>\n",
              "      <td>[{'lots': ['Indian'], 'restaurant': [], 'area'...</td>\n",
              "    </tr>\n",
              "  </tbody>\n",
              "</table>\n",
              "</div>"
            ],
            "text/plain": [
              "                                              Review  ...                                feature_descriptors\n",
              "0  There are lots of Indian restaurant at Tanjong...  ...  [{'lots': ['Indian'], 'restaurant': [], 'area'...\n",
              "\n",
              "[1 rows x 5 columns]"
            ]
          },
          "metadata": {},
          "execution_count": 89
        }
      ]
    },
    {
      "cell_type": "code",
      "metadata": {
        "id": "mdkrUsdRucKp"
      },
      "source": [
        "def clause_level(text):\n",
        "  doc = en(text)\n",
        "#     deplacy.render(doc)\n",
        "  seen = set() # keep track of covered words\n",
        "  dict_noun = {} # This is for the dict of Noun - Adverb, adj, verb\n",
        "  chunks = []\n",
        "  for sent in doc.sents:\n",
        "  #calculate the dict_noun first\n",
        "\n",
        "      # for word in sent:\n",
        "              \n",
        "      #         if word.pos_ == 'NOUN':\n",
        "      #             current_noun = word.text\n",
        "      #             dict_noun[current_noun] = []\n",
        "      #         if word.pos_ == 'ADV' or word.pos_ == 'ADJ' or word.pos_ == 'VERB':\n",
        "      #             try:\n",
        "      #                 dict_noun[current_noun].append(word.text)\n",
        "      #             except:\n",
        "      #                 pass;\n",
        "                  \n",
        "\n",
        "      #See if there are conjunctions to split on. If so get the heads for the subtrees\n",
        "      heads = [cc for cc in sent if cc.dep_ == 'conj']\n",
        "#         print(heads)\n",
        "\n",
        "      # If there are no conjunctions split only on punctuation.\n",
        "      if(len(heads)==0):\n",
        "          counter = 0\n",
        "          array = []\n",
        "          for word in sent:\n",
        "              if word.pos_ != 'PUNCT':\n",
        "                  array.append(word)\n",
        "                  continue\n",
        "              chunk = (' '.join([ww.text for ww in array]))\n",
        "              chunks.append( (counter, chunk) )\n",
        "              counter = counter + 1\n",
        "              array = []\n",
        "          chunk = (' '.join([ww.text for ww in array]))\n",
        "          chunks.append( (counter, chunk) )\n",
        "      else:\n",
        "          for head in heads:\n",
        "              words = [None]*100\n",
        "              counter = 0\n",
        "              for i in head.subtree:\n",
        "                  if(i in heads):\n",
        "                      if(i != head):\n",
        "                          break\n",
        "                  if(i.pos_ == 'PUNCT'):\n",
        "                      break\n",
        "                  words[counter] = i\n",
        "                  counter = counter + 1\n",
        "                  if(i.dep_ == 'cc'):\n",
        "                      break\n",
        "              res = []\n",
        "              for val in words:\n",
        "                  if val != None :\n",
        "                      res.append(val)\n",
        "              for word in res:\n",
        "                  seen.add(word)\n",
        "              chunk = (' '.join([ww.text for ww in res]))\n",
        "              chunks.append( (head.i, chunk) )\n",
        "          unseen = [ww for ww in sent if ww not in seen]\n",
        "          counter = 0\n",
        "          array = []\n",
        "          for word in unseen:\n",
        "              if word.pos_ != 'PUNCT':\n",
        "                  array.append(word)\n",
        "                  continue\n",
        "              chunk = (' '.join([ww.text for ww in array if ww.dep_ != 'cc']))\n",
        "              chunks.append( (counter, chunk) )\n",
        "              counter = counter + 1\n",
        "              array = []\n",
        "          chunk = (' '.join([ww.text for ww in array if ww.dep_ != 'cc']))\n",
        "\n",
        "          chunks.append( (counter, chunk) )\n",
        "  chunks = sorted(chunks, key=lambda x: x[0])\n",
        "  # print(dict_noun)\n",
        "\n",
        "  retdict = dict()\n",
        "\n",
        "  for ii, chunk in chunks:\n",
        "      doc = en(chunk)\n",
        "      for i in doc.sents:\n",
        "          for cc in i:\n",
        "              if cc.pos_ == 'NOUN':\n",
        "                  # print(\"Noun :\" + cc.text)\n",
        "                  retdict[cc.text] = chunk\n",
        "  return [retdict]"
      ],
      "execution_count": null,
      "outputs": []
    },
    {
      "cell_type": "code",
      "metadata": {
        "id": "oo8fyjwmx8r2"
      },
      "source": [
        "df[\"clause_level_breakdown\"] = df[\"Review\"].apply(lambda x: clause_level(x))"
      ],
      "execution_count": null,
      "outputs": []
    },
    {
      "cell_type": "code",
      "metadata": {
        "colab": {
          "base_uri": "https://localhost:8080/",
          "height": 142
        },
        "id": "P4w_kQeM1Yxx",
        "outputId": "4af4e05d-64a7-4093-e50e-aa6ad0b9f012"
      },
      "source": [
        "df.head(3)"
      ],
      "execution_count": null,
      "outputs": [
        {
          "output_type": "execute_result",
          "data": {
            "text/html": [
              "<div>\n",
              "<style scoped>\n",
              "    .dataframe tbody tr th:only-of-type {\n",
              "        vertical-align: middle;\n",
              "    }\n",
              "\n",
              "    .dataframe tbody tr th {\n",
              "        vertical-align: top;\n",
              "    }\n",
              "\n",
              "    .dataframe thead th {\n",
              "        text-align: right;\n",
              "    }\n",
              "</style>\n",
              "<table border=\"1\" class=\"dataframe\">\n",
              "  <thead>\n",
              "    <tr style=\"text-align: right;\">\n",
              "      <th></th>\n",
              "      <th>Review</th>\n",
              "      <th>Date</th>\n",
              "      <th>Stars</th>\n",
              "      <th>Restaurant</th>\n",
              "      <th>feature_descriptors</th>\n",
              "      <th>clause_level_breakdown</th>\n",
              "    </tr>\n",
              "  </thead>\n",
              "  <tbody>\n",
              "    <tr>\n",
              "      <th>0</th>\n",
              "      <td>There are lots of Indian restaurant at Tanjong...</td>\n",
              "      <td>2 days ago</td>\n",
              "      <td>5 stars</td>\n",
              "      <td>Gravy_Restaurant</td>\n",
              "      <td>[{'lots': ['Indian'], 'restaurant': [], 'area'...</td>\n",
              "      <td>[{'lots': 'There are lots of Indian restaurant...</td>\n",
              "    </tr>\n",
              "    <tr>\n",
              "      <th>2</th>\n",
              "      <td>The dal makhni was sweet, seemed like sugar wa...</td>\n",
              "      <td>a week ago</td>\n",
              "      <td>2 stars</td>\n",
              "      <td>Gravy_Restaurant</td>\n",
              "      <td>[{'dal': [], 'makhni': ['sweet', 'seemed'], 's...</td>\n",
              "      <td>[{'dal': 'The dal makhni was sweet', 'makhni':...</td>\n",
              "    </tr>\n",
              "    <tr>\n",
              "      <th>4</th>\n",
              "      <td>We are regular customers - the food is amazing...</td>\n",
              "      <td>2 weeks ago</td>\n",
              "      <td>5 stars</td>\n",
              "      <td>Gravy_Restaurant</td>\n",
              "      <td>[{'customers': [], 'food': ['had']}]</td>\n",
              "      <td>[{'customers': 'We are regular customers', 'fo...</td>\n",
              "    </tr>\n",
              "  </tbody>\n",
              "</table>\n",
              "</div>"
            ],
            "text/plain": [
              "                                              Review  ...                             clause_level_breakdown\n",
              "0  There are lots of Indian restaurant at Tanjong...  ...  [{'lots': 'There are lots of Indian restaurant...\n",
              "2  The dal makhni was sweet, seemed like sugar wa...  ...  [{'dal': 'The dal makhni was sweet', 'makhni':...\n",
              "4  We are regular customers - the food is amazing...  ...  [{'customers': 'We are regular customers', 'fo...\n",
              "\n",
              "[3 rows x 6 columns]"
            ]
          },
          "metadata": {},
          "execution_count": 92
        }
      ]
    },
    {
      "cell_type": "markdown",
      "metadata": {
        "id": "HbuIW7PJjsvC"
      },
      "source": [
        "### Word Embeddings"
      ]
    },
    {
      "cell_type": "code",
      "metadata": {
        "id": "WA8-cUwTjxGT",
        "colab": {
          "base_uri": "https://localhost:8080/"
        },
        "outputId": "1a90284e-6f4f-4e1f-d0f4-de0f357897c2"
      },
      "source": [
        "!wget http://nlp.stanford.edu/data/glove.6B.zip --quiet\n",
        "!unzip -q glove.6B.zip"
      ],
      "execution_count": null,
      "outputs": [
        {
          "output_type": "stream",
          "name": "stdout",
          "text": [
            "replace glove.6B.50d.txt? [y]es, [n]o, [A]ll, [N]one, [r]ename: N\n"
          ]
        }
      ]
    },
    {
      "cell_type": "code",
      "metadata": {
        "colab": {
          "base_uri": "https://localhost:8080/"
        },
        "id": "p7BZmfLsjuVa",
        "outputId": "d8bf3f3e-1dcb-4996-e2f7-6fcbd76b414d"
      },
      "source": [
        "embeddings_index = {}\n",
        "with open('glove.6B.100d.txt') as f:\n",
        "    for line in f:\n",
        "        word, coefs = line.split(maxsplit=1)\n",
        "        coefs = np.fromstring(coefs, \"f\", sep=\" \")\n",
        "        embeddings_index[word] = coefs\n",
        "\n",
        "print(\"Found %s word vectors.\" % len(embeddings_index))"
      ],
      "execution_count": null,
      "outputs": [
        {
          "output_type": "stream",
          "name": "stdout",
          "text": [
            "Found 400000 word vectors.\n"
          ]
        }
      ]
    },
    {
      "cell_type": "code",
      "metadata": {
        "id": "QVep7t2Nj7S1"
      },
      "source": [
        "def add_vectors(feats):\n",
        "  feats = feats[0]\n",
        "\n",
        "  newdict = dict()\n",
        "  for key in list(feats.keys()):\n",
        "    list_of_desc = feats[key]\n",
        "    vect_list = []\n",
        "    for word in list_of_desc:\n",
        "      try:\n",
        "        vect_list.append(embeddings_index[word])\n",
        "      except:\n",
        "        pass\n",
        "    newdict[key] = vect_list\n",
        "  return [newdict]"
      ],
      "execution_count": null,
      "outputs": []
    },
    {
      "cell_type": "code",
      "metadata": {
        "id": "8O08WYWSj_wX"
      },
      "source": [
        "df[\"vector_descriptors\"] = df[\"feature_descriptors\"].apply(lambda x: add_vectors(x))"
      ],
      "execution_count": null,
      "outputs": []
    },
    {
      "cell_type": "code",
      "metadata": {
        "colab": {
          "base_uri": "https://localhost:8080/",
          "height": 80
        },
        "id": "M7254rQekHOt",
        "outputId": "bbebdb1f-fb28-42e6-a0db-42466dd6611f"
      },
      "source": [
        "df.head(1)"
      ],
      "execution_count": null,
      "outputs": [
        {
          "output_type": "execute_result",
          "data": {
            "text/html": [
              "<div>\n",
              "<style scoped>\n",
              "    .dataframe tbody tr th:only-of-type {\n",
              "        vertical-align: middle;\n",
              "    }\n",
              "\n",
              "    .dataframe tbody tr th {\n",
              "        vertical-align: top;\n",
              "    }\n",
              "\n",
              "    .dataframe thead th {\n",
              "        text-align: right;\n",
              "    }\n",
              "</style>\n",
              "<table border=\"1\" class=\"dataframe\">\n",
              "  <thead>\n",
              "    <tr style=\"text-align: right;\">\n",
              "      <th></th>\n",
              "      <th>Review</th>\n",
              "      <th>Date</th>\n",
              "      <th>Stars</th>\n",
              "      <th>Restaurant</th>\n",
              "      <th>feature_descriptors</th>\n",
              "      <th>clause_level_breakdown</th>\n",
              "      <th>vector_descriptors</th>\n",
              "    </tr>\n",
              "  </thead>\n",
              "  <tbody>\n",
              "    <tr>\n",
              "      <th>0</th>\n",
              "      <td>There are lots of Indian restaurant at Tanjong...</td>\n",
              "      <td>2 days ago</td>\n",
              "      <td>5 stars</td>\n",
              "      <td>Gravy_Restaurant</td>\n",
              "      <td>[{'lots': ['Indian'], 'restaurant': [], 'area'...</td>\n",
              "      <td>[{'lots': 'There are lots of Indian restaurant...</td>\n",
              "      <td>[{'lots': [], 'restaurant': [], 'area': [[-0.0...</td>\n",
              "    </tr>\n",
              "  </tbody>\n",
              "</table>\n",
              "</div>"
            ],
            "text/plain": [
              "                                              Review  ...                                 vector_descriptors\n",
              "0  There are lots of Indian restaurant at Tanjong...  ...  [{'lots': [], 'restaurant': [], 'area': [[-0.0...\n",
              "\n",
              "[1 rows x 7 columns]"
            ]
          },
          "metadata": {},
          "execution_count": 97
        }
      ]
    },
    {
      "cell_type": "code",
      "metadata": {
        "id": "SBjyhX-7yLGq"
      },
      "source": [
        "def add_clause_level_vectors(feats):\n",
        "  feats = feats[0]\n",
        "\n",
        "  newdict = dict()\n",
        "  for feat in feats.keys():\n",
        "    clause = feats[feat]\n",
        "    # print(clause, type(clause))\n",
        "    vect_list = []\n",
        "    for word in clause.split(' '):\n",
        "      # print(word)\n",
        "      try:\n",
        "        vect_list.append(embeddings_index[word])\n",
        "      except:\n",
        "        pass\n",
        "    newdict[feat] = vect_list\n",
        "  return [newdict]"
      ],
      "execution_count": null,
      "outputs": []
    },
    {
      "cell_type": "code",
      "metadata": {
        "id": "tYlGq60Vyv4N"
      },
      "source": [
        "# print(df[\"clause_level_breakdown\"].iloc[0])\n",
        "# add_clause_level_vectors(df[\"clause_level_breakdown\"].iloc[0])"
      ],
      "execution_count": null,
      "outputs": []
    },
    {
      "cell_type": "code",
      "metadata": {
        "id": "UhxR2Fgt1UQY"
      },
      "source": [
        "df[\"clause_vectors\"] = df[\"clause_level_breakdown\"].apply(lambda x: add_clause_level_vectors(x))"
      ],
      "execution_count": null,
      "outputs": []
    },
    {
      "cell_type": "code",
      "metadata": {
        "colab": {
          "base_uri": "https://localhost:8080/",
          "height": 97
        },
        "id": "wxICeED51bgS",
        "outputId": "6904c66d-65df-4a72-bcbb-c8c7f42e99bd"
      },
      "source": [
        "df.head(1)"
      ],
      "execution_count": null,
      "outputs": [
        {
          "output_type": "execute_result",
          "data": {
            "text/html": [
              "<div>\n",
              "<style scoped>\n",
              "    .dataframe tbody tr th:only-of-type {\n",
              "        vertical-align: middle;\n",
              "    }\n",
              "\n",
              "    .dataframe tbody tr th {\n",
              "        vertical-align: top;\n",
              "    }\n",
              "\n",
              "    .dataframe thead th {\n",
              "        text-align: right;\n",
              "    }\n",
              "</style>\n",
              "<table border=\"1\" class=\"dataframe\">\n",
              "  <thead>\n",
              "    <tr style=\"text-align: right;\">\n",
              "      <th></th>\n",
              "      <th>Review</th>\n",
              "      <th>Date</th>\n",
              "      <th>Stars</th>\n",
              "      <th>Restaurant</th>\n",
              "      <th>feature_descriptors</th>\n",
              "      <th>clause_level_breakdown</th>\n",
              "      <th>vector_descriptors</th>\n",
              "      <th>clause_vectors</th>\n",
              "    </tr>\n",
              "  </thead>\n",
              "  <tbody>\n",
              "    <tr>\n",
              "      <th>0</th>\n",
              "      <td>There are lots of Indian restaurant at Tanjong...</td>\n",
              "      <td>2 days ago</td>\n",
              "      <td>5 stars</td>\n",
              "      <td>Gravy_Restaurant</td>\n",
              "      <td>[{'lots': ['Indian'], 'restaurant': [], 'area'...</td>\n",
              "      <td>[{'lots': 'There are lots of Indian restaurant...</td>\n",
              "      <td>[{'lots': [], 'restaurant': [], 'area': [[-0.0...</td>\n",
              "      <td>[{'lots': [[-0.51533   0.83186   0.22457  -0.7...</td>\n",
              "    </tr>\n",
              "  </tbody>\n",
              "</table>\n",
              "</div>"
            ],
            "text/plain": [
              "                                              Review  ...                                     clause_vectors\n",
              "0  There are lots of Indian restaurant at Tanjong...  ...  [{'lots': [[-0.51533   0.83186   0.22457  -0.7...\n",
              "\n",
              "[1 rows x 8 columns]"
            ]
          },
          "metadata": {},
          "execution_count": 101
        }
      ]
    },
    {
      "cell_type": "markdown",
      "metadata": {
        "id": "usaHiQ7WkzD5"
      },
      "source": [
        "### Ground Truth Polarity"
      ]
    },
    {
      "cell_type": "code",
      "metadata": {
        "id": "Nruc3l6Jk1Hc"
      },
      "source": [
        "def get_word_polarity(feats):\n",
        "  feats = feats[0]\n",
        "\n",
        "  newdict = dict()\n",
        "  for i in list(feats.keys()):\n",
        "    vals = feats[i]\n",
        "    polarity_list = []\n",
        "    for val in vals:\n",
        "      # Get sentiment\n",
        "      doc = en(val)\n",
        "      polarity_list.append(doc._.polarity)\n",
        "    newdict[i] = polarity_list\n",
        "  return [newdict]"
      ],
      "execution_count": null,
      "outputs": []
    },
    {
      "cell_type": "code",
      "metadata": {
        "colab": {
          "base_uri": "https://localhost:8080/"
        },
        "id": "-5oj_W8xlnK6",
        "outputId": "ddf8957f-aba6-4e21-daa3-de76300149b3"
      },
      "source": [
        "print(df[\"feature_descriptors\"].iloc[10][0])\n",
        "print(get_word_polarity(df[\"feature_descriptors\"].iloc[10])[0])"
      ],
      "execution_count": null,
      "outputs": [
        {
          "output_type": "stream",
          "name": "stdout",
          "text": [
            "{'dish': ['friendly'], 'staff': ['really', 'appreciate', 'serving', 'yummy'], 'cottage': [], 'cheese': [], 'milk': ['flavoured', 'complimentary'], 'dessert': [], 'birthday': ['😊']}\n",
            "{'dish': [0.375], 'staff': [0.2, 0.0, 0.0, 0.0], 'cottage': [], 'cheese': [], 'milk': [0.0, 0.3], 'dessert': [], 'birthday': [0.0]}\n"
          ]
        }
      ]
    },
    {
      "cell_type": "code",
      "metadata": {
        "id": "FtAa_w7EpjY2"
      },
      "source": [
        "df[\"word_level_polarity\"] = df[\"feature_descriptors\"].apply(lambda x:get_word_polarity(x))"
      ],
      "execution_count": null,
      "outputs": []
    },
    {
      "cell_type": "code",
      "metadata": {
        "colab": {
          "base_uri": "https://localhost:8080/",
          "height": 97
        },
        "id": "T7NqOM5vpjcS",
        "outputId": "39f0ce0f-24a1-4781-e995-e2da98665c44"
      },
      "source": [
        "df.head(1)"
      ],
      "execution_count": null,
      "outputs": [
        {
          "output_type": "execute_result",
          "data": {
            "text/html": [
              "<div>\n",
              "<style scoped>\n",
              "    .dataframe tbody tr th:only-of-type {\n",
              "        vertical-align: middle;\n",
              "    }\n",
              "\n",
              "    .dataframe tbody tr th {\n",
              "        vertical-align: top;\n",
              "    }\n",
              "\n",
              "    .dataframe thead th {\n",
              "        text-align: right;\n",
              "    }\n",
              "</style>\n",
              "<table border=\"1\" class=\"dataframe\">\n",
              "  <thead>\n",
              "    <tr style=\"text-align: right;\">\n",
              "      <th></th>\n",
              "      <th>Review</th>\n",
              "      <th>Date</th>\n",
              "      <th>Stars</th>\n",
              "      <th>Restaurant</th>\n",
              "      <th>feature_descriptors</th>\n",
              "      <th>clause_level_breakdown</th>\n",
              "      <th>vector_descriptors</th>\n",
              "      <th>clause_vectors</th>\n",
              "      <th>word_level_polarity</th>\n",
              "    </tr>\n",
              "  </thead>\n",
              "  <tbody>\n",
              "    <tr>\n",
              "      <th>0</th>\n",
              "      <td>There are lots of Indian restaurant at Tanjong...</td>\n",
              "      <td>2 days ago</td>\n",
              "      <td>5 stars</td>\n",
              "      <td>Gravy_Restaurant</td>\n",
              "      <td>[{'lots': ['Indian'], 'restaurant': [], 'area'...</td>\n",
              "      <td>[{'lots': 'There are lots of Indian restaurant...</td>\n",
              "      <td>[{'lots': [], 'restaurant': [], 'area': [[-0.0...</td>\n",
              "      <td>[{'lots': [[-0.51533   0.83186   0.22457  -0.7...</td>\n",
              "      <td>[{'lots': [0.0], 'restaurant': [], 'area': [0....</td>\n",
              "    </tr>\n",
              "  </tbody>\n",
              "</table>\n",
              "</div>"
            ],
            "text/plain": [
              "                                              Review  ...                                word_level_polarity\n",
              "0  There are lots of Indian restaurant at Tanjong...  ...  [{'lots': [0.0], 'restaurant': [], 'area': [0....\n",
              "\n",
              "[1 rows x 9 columns]"
            ]
          },
          "metadata": {},
          "execution_count": 105
        }
      ]
    },
    {
      "cell_type": "code",
      "metadata": {
        "id": "C2L_IoKMpjkV"
      },
      "source": [
        "# df.to_csv(\"vector_output.csv\")"
      ],
      "execution_count": null,
      "outputs": []
    },
    {
      "cell_type": "markdown",
      "metadata": {
        "id": "fVWV4RtxjE62"
      },
      "source": [
        "### Feature Categorisation"
      ]
    },
    {
      "cell_type": "code",
      "metadata": {
        "colab": {
          "base_uri": "https://localhost:8080/"
        },
        "id": "6YT8d4Gir-ny",
        "outputId": "c72745ae-702f-415d-96cc-beb25e330030"
      },
      "source": [
        "# Use semeval2014 data:\n",
        "# Category -> words\n",
        "corpus = {\n",
        "  'food': [],\n",
        "  'service': [],\n",
        "  'price': ['price','bargain','deal','money', 'value', 'cheap', 'expensive'],\n",
        "  'ambience': [],\n",
        "}\n",
        "\n",
        "import pandas as pd\n",
        "import xml.etree.ElementTree as ET\n",
        "\n",
        "tree = ET.parse('Restaurants_2016.xml')\n",
        "root = tree.getroot()\n",
        "\n",
        "data = []\n",
        "xml_col_val= dict()\n",
        "\n",
        "for child in root:\n",
        "  for sentences in child:\n",
        "    for s in sentences:\n",
        "      xml_col_val['id'] = s.attrib.get('id')\n",
        "    for opinion in child.iter('Opinions'):\n",
        "      target = []\n",
        "      category = []\n",
        "      for o in opinion:\n",
        "        t = o.attrib['target']                 \n",
        "        c = o.attrib['category']\n",
        "        if t != \"NULL\" and \"PRICE\" not in c and \"RESTAURANT\" not in c:\n",
        "          c = c.split('#')[0].lower()\n",
        "          if c == 'drinks':\n",
        "            c = 'food'\n",
        "          elif c=='location':\n",
        "            c = 'ambience'\n",
        "          tl = t.lower().split()\n",
        "          for tt in tl:\n",
        "            if tt != 'price' and tt != 'deal':\n",
        "              target.append(tt)\n",
        "              category.append(c)\n",
        "      xml_col_val['target'] = target\n",
        "      xml_col_val['category'] = category   \n",
        "    data.append(xml_col_val)\n",
        "    xml_col_val = {}\n",
        "\n",
        "# print(data)\n",
        "data = pd.DataFrame(data).dropna()\n",
        "data = data[data.category.map(len) != 0]\n",
        "data = data.set_index(['id']).apply(pd.Series.explode).reset_index()\n",
        "print(data)\n"
      ],
      "execution_count": null,
      "outputs": [
        {
          "output_type": "stream",
          "name": "stdout",
          "text": [
            "            id    target  category\n",
            "0    1041457:6     place  ambience\n",
            "1    1041457:6     decor  ambience\n",
            "2    1041457:6      vent  ambience\n",
            "3    1053543:4   service   service\n",
            "4    1064477:4      half      food\n",
            "..         ...       ...       ...\n",
            "307     WE#1:5     pasta      food\n",
            "308    FF#6:12     staff   service\n",
            "309    FF#6:12  customer   service\n",
            "310    FF#6:12   service   service\n",
            "311   FF#10:11     staff   service\n",
            "\n",
            "[312 rows x 3 columns]\n"
          ]
        }
      ]
    },
    {
      "cell_type": "code",
      "metadata": {
        "id": "kJXeLlDutTbf"
      },
      "source": [
        "def updatecategories(c, t):\n",
        "  curr = corpus[c]\n",
        "  lt = t.split()\n",
        "  for w in lt:\n",
        "    if w not in curr:\n",
        "      curr.append(w)\n",
        "      corpus[c] = curr\n",
        "\n",
        "data.apply(lambda x: updatecategories(x['category'], x['target']), axis=1)\n",
        "# print(data)\n",
        "# Words -> category\n",
        "categories = {word: key for key, words in corpus.items() for word in words}\n",
        "# print(categories)\n",
        "\n",
        "# Embeddings for available words\n",
        "data_embeddings = {key: value for key, value in embeddings_index.items() if key in categories.keys()}\n",
        "\n",
        "# Processing the query\n",
        "def process(query):\n",
        "  qq = query.split()\n",
        "  # print(qq)\n",
        "  scores = {}\n",
        "  food = corpus['food']\n",
        "  service = corpus['service']\n",
        "  ambience = corpus['ambience']\n",
        "  price = corpus['price']\n",
        "  for q in qq:\n",
        "    if q in food:\n",
        "      return 'food'\n",
        "    elif q in price:\n",
        "      return 'price'\n",
        "    elif q in service:\n",
        "      return 'service'\n",
        "    elif q in ambience:\n",
        "      return 'ambience'\n",
        "    elif q in embeddings_index:\n",
        "      query_embed = embeddings_index[q]\n",
        "    else:\n",
        "      return 'food'\n",
        "    for word, embed in data_embeddings.items():\n",
        "      category = categories[word]\n",
        "      dist = query_embed.dot(embed)\n",
        "      dist /= len(corpus[category])\n",
        "      scores[category] = scores.get(category, 0) + dist\n",
        "      # print(max(scores, key=scores.get))\n",
        "  return max(scores, key=scores.get)"
      ],
      "execution_count": null,
      "outputs": []
    },
    {
      "cell_type": "code",
      "metadata": {
        "colab": {
          "base_uri": "https://localhost:8080/",
          "height": 35
        },
        "id": "Gl9r4hZ_vC2e",
        "outputId": "b2b8b101-8892-4798-9b69-df098f1a261d"
      },
      "source": [
        "process(\"music\")"
      ],
      "execution_count": null,
      "outputs": [
        {
          "output_type": "execute_result",
          "data": {
            "application/vnd.google.colaboratory.intrinsic+json": {
              "type": "string"
            },
            "text/plain": [
              "'price'"
            ]
          },
          "metadata": {},
          "execution_count": 109
        }
      ]
    },
    {
      "cell_type": "code",
      "metadata": {
        "id": "A-yDAf23uCPb"
      },
      "source": [
        "def put_categories(feats):\n",
        "  feats = feats[0]\n",
        "\n",
        "  retdict = dict()\n",
        "  for key in list(feats.keys()):\n",
        "    output = process(key)\n",
        "    retdict[key] = output\n",
        "  return [retdict]"
      ],
      "execution_count": null,
      "outputs": []
    },
    {
      "cell_type": "code",
      "metadata": {
        "colab": {
          "base_uri": "https://localhost:8080/"
        },
        "id": "GqkzcCDFukpZ",
        "outputId": "0b38562f-f183-4e4e-af89-0b1282287ebc"
      },
      "source": [
        "put_categories(df[\"feature_descriptors\"].iloc[1])"
      ],
      "execution_count": null,
      "outputs": [
        {
          "output_type": "execute_result",
          "data": {
            "text/plain": [
              "[{'couple': 'price',\n",
              "  'dal': 'food',\n",
              "  'experience': 'price',\n",
              "  'makhni': 'food',\n",
              "  'place': 'ambience',\n",
              "  'sugar': 'price',\n",
              "  'times': 'price'}]"
            ]
          },
          "metadata": {},
          "execution_count": 111
        }
      ]
    },
    {
      "cell_type": "code",
      "metadata": {
        "id": "mA6tze5OwLQo"
      },
      "source": [
        "df[\"categorisation\"] = df[\"feature_descriptors\"].apply(lambda x:put_categories(x))"
      ],
      "execution_count": null,
      "outputs": []
    },
    {
      "cell_type": "code",
      "metadata": {
        "colab": {
          "base_uri": "https://localhost:8080/",
          "height": 244
        },
        "id": "teD-znjtwX9V",
        "outputId": "4be6a853-b3e3-407a-ff8a-7793d0ebcb54"
      },
      "source": [
        "df.head(3)"
      ],
      "execution_count": null,
      "outputs": [
        {
          "output_type": "execute_result",
          "data": {
            "text/html": [
              "<div>\n",
              "<style scoped>\n",
              "    .dataframe tbody tr th:only-of-type {\n",
              "        vertical-align: middle;\n",
              "    }\n",
              "\n",
              "    .dataframe tbody tr th {\n",
              "        vertical-align: top;\n",
              "    }\n",
              "\n",
              "    .dataframe thead th {\n",
              "        text-align: right;\n",
              "    }\n",
              "</style>\n",
              "<table border=\"1\" class=\"dataframe\">\n",
              "  <thead>\n",
              "    <tr style=\"text-align: right;\">\n",
              "      <th></th>\n",
              "      <th>Review</th>\n",
              "      <th>Date</th>\n",
              "      <th>Stars</th>\n",
              "      <th>Restaurant</th>\n",
              "      <th>feature_descriptors</th>\n",
              "      <th>clause_level_breakdown</th>\n",
              "      <th>vector_descriptors</th>\n",
              "      <th>clause_vectors</th>\n",
              "      <th>word_level_polarity</th>\n",
              "      <th>categorisation</th>\n",
              "    </tr>\n",
              "  </thead>\n",
              "  <tbody>\n",
              "    <tr>\n",
              "      <th>0</th>\n",
              "      <td>There are lots of Indian restaurant at Tanjong...</td>\n",
              "      <td>2 days ago</td>\n",
              "      <td>5 stars</td>\n",
              "      <td>Gravy_Restaurant</td>\n",
              "      <td>[{'lots': ['Indian'], 'restaurant': [], 'area'...</td>\n",
              "      <td>[{'lots': 'There are lots of Indian restaurant...</td>\n",
              "      <td>[{'lots': [], 'restaurant': [], 'area': [[-0.0...</td>\n",
              "      <td>[{'lots': [[-0.51533   0.83186   0.22457  -0.7...</td>\n",
              "      <td>[{'lots': [0.0], 'restaurant': [], 'area': [0....</td>\n",
              "      <td>[{'lots': 'price', 'restaurant': 'ambience', '...</td>\n",
              "    </tr>\n",
              "    <tr>\n",
              "      <th>2</th>\n",
              "      <td>The dal makhni was sweet, seemed like sugar wa...</td>\n",
              "      <td>a week ago</td>\n",
              "      <td>2 stars</td>\n",
              "      <td>Gravy_Restaurant</td>\n",
              "      <td>[{'dal': [], 'makhni': ['sweet', 'seemed'], 's...</td>\n",
              "      <td>[{'dal': 'The dal makhni was sweet', 'makhni':...</td>\n",
              "      <td>[{'dal': [], 'makhni': [[ 0.10788   0.38359   ...</td>\n",
              "      <td>[{'dal': [[-0.90375   -1.43      -0.023677  -0...</td>\n",
              "      <td>[{'dal': [], 'makhni': [0.35, 0.0], 'sugar': [...</td>\n",
              "      <td>[{'dal': 'food', 'makhni': 'food', 'sugar': 'p...</td>\n",
              "    </tr>\n",
              "    <tr>\n",
              "      <th>4</th>\n",
              "      <td>We are regular customers - the food is amazing...</td>\n",
              "      <td>2 weeks ago</td>\n",
              "      <td>5 stars</td>\n",
              "      <td>Gravy_Restaurant</td>\n",
              "      <td>[{'customers': [], 'food': ['had']}]</td>\n",
              "      <td>[{'customers': 'We are regular customers', 'fo...</td>\n",
              "      <td>[{'customers': [], 'food': [[ 0.63256  -0.1271...</td>\n",
              "      <td>[{'customers': [[-0.51533   0.83186   0.22457 ...</td>\n",
              "      <td>[{'customers': [], 'food': [0.0]}]</td>\n",
              "      <td>[{'customers': 'price', 'food': 'food'}]</td>\n",
              "    </tr>\n",
              "  </tbody>\n",
              "</table>\n",
              "</div>"
            ],
            "text/plain": [
              "                                              Review  ...                                     categorisation\n",
              "0  There are lots of Indian restaurant at Tanjong...  ...  [{'lots': 'price', 'restaurant': 'ambience', '...\n",
              "2  The dal makhni was sweet, seemed like sugar wa...  ...  [{'dal': 'food', 'makhni': 'food', 'sugar': 'p...\n",
              "4  We are regular customers - the food is amazing...  ...           [{'customers': 'price', 'food': 'food'}]\n",
              "\n",
              "[3 rows x 10 columns]"
            ]
          },
          "metadata": {},
          "execution_count": 113
        }
      ]
    },
    {
      "cell_type": "code",
      "metadata": {
        "id": "T7H9J5PiwiZN"
      },
      "source": [
        "# df.to_csv(\"categorised.csv\")"
      ],
      "execution_count": null,
      "outputs": []
    },
    {
      "cell_type": "code",
      "metadata": {
        "id": "t9JG3OlQtrlA",
        "colab": {
          "base_uri": "https://localhost:8080/"
        },
        "outputId": "d25c12d0-dd4b-4a74-8e01-b61003682a2f"
      },
      "source": [
        "# with open('classifier_output.txt', 'w') as f:\n",
        "#     for n in nouns:\n",
        "#       f.write(f'{n}: {process(n)}')\n",
        "#       f.write('\\n')\n",
        "\n",
        "\n",
        "\n",
        "print(corpus['food'])\n",
        "#['half', 'sushi', 'lava', 'cake', 'dessert', 'food', 'fried', 'shrimp', 'tuna', 'of', 'gari', 'pie', 'lobster', 'teriyaki', 'rose', 'special', 'roll', 'scallion', 'pancakes', 'dumplings', 'chef', 'tartar', 'appetizer', 'wine', 'list', 'shabu-shabu', 'taxan', 'choices', 'eggs', 'benedict', 'portions', 'sandwich', 'thai', 'cuisine', 'caviar', 'crust', 'ingredients', 'premium', 'sake', 'menu', 'cold', 'dishes', 'sushimi', 'cucumber', 'turkey', 'burgers', 'japanese', 'pad', 'balsamic', 'vinegar', 'over', 'icecream', 'meal', 'se', 'ew', 'chicken', 'eats', 'bagels', 'measures', 'liquers', 'sassy', 'lassi', 'taiwanese', 'yakitori', '(bbq', 'meats)', 'pasta', 'penne', 'wines', 'selection', 'mussels', 'bbq', 'salmon', 'sea', 'bass', 'crispy', 'duck', 'pastas', 'risottos', 'sepia', 'braised', 'rabbit', 'dancing,', 'white', 'river', 'and', 'millenium', 'rolls', 'greek', 'cypriot', 'gyro', 'hot', 'dog', 'appetizers', 'modern', 'toppings', 'indian', 'chinese', 'farro', 'salad', 'mashed', 'yukon', 'potatoes', 'margherita', 'pizza', 'meat', 'sauces', 'korean', 'fusion', 'twists', 'pork', 'belly', 'tacos', 'dogs', 'croquette', 'bun', 'flank', 'steak']\n",
        "print(corpus['price'])\n",
        "#['price', 'bargain', 'deal', 'money', 'value', 'cheap', 'expensive']\n",
        "print(corpus['ambience'])\n",
        "#['place', 'decor', 'vent', 'ambience', 'setting', 'downstairs', 'lounge', 'traditional', 'french', 'decour', 'hall', 'semi-private', 'boths', 'atmosphere', 'restaurant', 'ambiance', 'unisex', 'bathroom', 'blond', 'wood', 'room', 'terrace', 'bar', 'scene', 'patio', 'rice', 'avenue', 'view', 'of', 'river', 'and', 'nyc', 'hookah', 'mirrors', 'zenkichi', 'fire']\n",
        "print(corpus['service'])\n",
        "#['service', 'wait', 'staff', 'clerks', 'management', 'wait-staff', 'delivery', 'guys', 'guy', 'survice', 'people', 'servers', 'customer']\n"
      ],
      "execution_count": null,
      "outputs": [
        {
          "output_type": "stream",
          "name": "stdout",
          "text": [
            "['half', 'sushi', 'lava', 'cake', 'dessert', 'food', 'fried', 'shrimp', 'tuna', 'of', 'gari', 'pie', 'lobster', 'teriyaki', 'rose', 'special', 'roll', 'scallion', 'pancakes', 'dumplings', 'chef', 'tartar', 'appetizer', 'wine', 'list', 'shabu-shabu', 'taxan', 'choices', 'eggs', 'benedict', 'portions', 'sandwich', 'thai', 'cuisine', 'caviar', 'crust', 'ingredients', 'premium', 'sake', 'menu', 'cold', 'dishes', 'sushimi', 'cucumber', 'turkey', 'burgers', 'japanese', 'pad', 'balsamic', 'vinegar', 'over', 'icecream', 'meal', 'se', 'ew', 'chicken', 'eats', 'bagels', 'measures', 'liquers', 'sassy', 'lassi', 'taiwanese', 'yakitori', '(bbq', 'meats)', 'pasta', 'penne', 'wines', 'selection', 'mussels', 'bbq', 'salmon', 'sea', 'bass', 'crispy', 'duck', 'pastas', 'risottos', 'sepia', 'braised', 'rabbit', 'dancing,', 'white', 'river', 'and', 'millenium', 'rolls', 'greek', 'cypriot', 'gyro', 'hot', 'dog', 'appetizers', 'modern', 'toppings', 'indian', 'chinese', 'farro', 'salad', 'mashed', 'yukon', 'potatoes', 'margherita', 'pizza', 'meat', 'sauces', 'korean', 'fusion', 'twists', 'pork', 'belly', 'tacos', 'dogs', 'croquette', 'bun', 'flank', 'steak']\n",
            "['price', 'bargain', 'deal', 'money', 'value', 'cheap', 'expensive']\n",
            "['place', 'decor', 'vent', 'ambience', 'setting', 'downstairs', 'lounge', 'traditional', 'french', 'decour', 'hall', 'semi-private', 'boths', 'atmosphere', 'restaurant', 'ambiance', 'unisex', 'bathroom', 'blond', 'wood', 'room', 'terrace', 'bar', 'scene', 'patio', 'rice', 'avenue', 'view', 'of', 'river', 'and', 'nyc', 'hookah', 'mirrors', 'zenkichi', 'fire']\n",
            "['service', 'wait', 'staff', 'clerks', 'management', 'wait-staff', 'delivery', 'guys', 'guy', 'survice', 'people', 'servers', 'customer']\n"
          ]
        }
      ]
    },
    {
      "cell_type": "markdown",
      "metadata": {
        "id": "Sb3FRoY1jAAF"
      },
      "source": [
        "### Sentiment Analysis"
      ]
    },
    {
      "cell_type": "code",
      "metadata": {
        "id": "MKg0KqynjCeL"
      },
      "source": [
        "def clause_level_polarity(feats):\n",
        "  retdict = dict()\n",
        "  feats = feats[0]\n",
        "  for feature in list(feats.keys()):\n",
        "\n",
        "    doc = en(feats[feature])\n",
        "    retdict[feature] = doc._.polarity\n",
        "    # print(doc._.polarity)\n",
        "  return [retdict]"
      ],
      "execution_count": null,
      "outputs": []
    },
    {
      "cell_type": "code",
      "metadata": {
        "colab": {
          "base_uri": "https://localhost:8080/"
        },
        "id": "-K6OCqqVi6M0",
        "outputId": "250f8db1-c547-4195-929c-98b1bc399889"
      },
      "source": [
        "clause_level_polarity(df[\"clause_level_breakdown\"].iloc[1])"
      ],
      "execution_count": null,
      "outputs": [
        {
          "output_type": "execute_result",
          "data": {
            "text/plain": [
              "[{'couple': 0.0,\n",
              "  'dal': 0.35,\n",
              "  'experience': -0.3499999999999999,\n",
              "  'makhni': 0.35,\n",
              "  'place': 0.0,\n",
              "  'sugar': 0.0,\n",
              "  'times': 0.0}]"
            ]
          },
          "metadata": {},
          "execution_count": 117
        }
      ]
    },
    {
      "cell_type": "code",
      "metadata": {
        "id": "UlWefXIQ93K9"
      },
      "source": [
        "df[\"clause_polarity\"] = df[\"clause_level_breakdown\"].apply(lambda x: clause_level_polarity(x))"
      ],
      "execution_count": null,
      "outputs": []
    },
    {
      "cell_type": "code",
      "metadata": {
        "colab": {
          "base_uri": "https://localhost:8080/",
          "height": 329
        },
        "id": "JgfDCnC3-AXC",
        "outputId": "e850baa3-368a-4aa1-98c3-23d7f562e94b"
      },
      "source": [
        "df.head(3)"
      ],
      "execution_count": null,
      "outputs": [
        {
          "output_type": "execute_result",
          "data": {
            "text/html": [
              "<div>\n",
              "<style scoped>\n",
              "    .dataframe tbody tr th:only-of-type {\n",
              "        vertical-align: middle;\n",
              "    }\n",
              "\n",
              "    .dataframe tbody tr th {\n",
              "        vertical-align: top;\n",
              "    }\n",
              "\n",
              "    .dataframe thead th {\n",
              "        text-align: right;\n",
              "    }\n",
              "</style>\n",
              "<table border=\"1\" class=\"dataframe\">\n",
              "  <thead>\n",
              "    <tr style=\"text-align: right;\">\n",
              "      <th></th>\n",
              "      <th>Review</th>\n",
              "      <th>Date</th>\n",
              "      <th>Stars</th>\n",
              "      <th>Restaurant</th>\n",
              "      <th>feature_descriptors</th>\n",
              "      <th>clause_level_breakdown</th>\n",
              "      <th>vector_descriptors</th>\n",
              "      <th>clause_vectors</th>\n",
              "      <th>word_level_polarity</th>\n",
              "      <th>categorisation</th>\n",
              "      <th>clause_polarity</th>\n",
              "    </tr>\n",
              "  </thead>\n",
              "  <tbody>\n",
              "    <tr>\n",
              "      <th>0</th>\n",
              "      <td>There are lots of Indian restaurant at Tanjong...</td>\n",
              "      <td>2 days ago</td>\n",
              "      <td>5 stars</td>\n",
              "      <td>Gravy_Restaurant</td>\n",
              "      <td>[{'lots': ['Indian'], 'restaurant': [], 'area'...</td>\n",
              "      <td>[{'lots': 'There are lots of Indian restaurant...</td>\n",
              "      <td>[{'lots': [], 'restaurant': [], 'area': [[-0.0...</td>\n",
              "      <td>[{'lots': [[-0.51533   0.83186   0.22457  -0.7...</td>\n",
              "      <td>[{'lots': [0.0], 'restaurant': [], 'area': [0....</td>\n",
              "      <td>[{'lots': 'price', 'restaurant': 'ambience', '...</td>\n",
              "      <td>[{'lots': 0.0, 'restaurant': 0.0, 'time': 0.0,...</td>\n",
              "    </tr>\n",
              "    <tr>\n",
              "      <th>2</th>\n",
              "      <td>The dal makhni was sweet, seemed like sugar wa...</td>\n",
              "      <td>a week ago</td>\n",
              "      <td>2 stars</td>\n",
              "      <td>Gravy_Restaurant</td>\n",
              "      <td>[{'dal': [], 'makhni': ['sweet', 'seemed'], 's...</td>\n",
              "      <td>[{'dal': 'The dal makhni was sweet', 'makhni':...</td>\n",
              "      <td>[{'dal': [], 'makhni': [[ 0.10788   0.38359   ...</td>\n",
              "      <td>[{'dal': [[-0.90375   -1.43      -0.023677  -0...</td>\n",
              "      <td>[{'dal': [], 'makhni': [0.35, 0.0], 'sugar': [...</td>\n",
              "      <td>[{'dal': 'food', 'makhni': 'food', 'sugar': 'p...</td>\n",
              "      <td>[{'dal': 0.35, 'makhni': 0.35, 'couple': 0.0, ...</td>\n",
              "    </tr>\n",
              "    <tr>\n",
              "      <th>4</th>\n",
              "      <td>We are regular customers - the food is amazing...</td>\n",
              "      <td>2 weeks ago</td>\n",
              "      <td>5 stars</td>\n",
              "      <td>Gravy_Restaurant</td>\n",
              "      <td>[{'customers': [], 'food': ['had']}]</td>\n",
              "      <td>[{'customers': 'We are regular customers', 'fo...</td>\n",
              "      <td>[{'customers': [], 'food': [[ 0.63256  -0.1271...</td>\n",
              "      <td>[{'customers': [[-0.51533   0.83186   0.22457 ...</td>\n",
              "      <td>[{'customers': [], 'food': [0.0]}]</td>\n",
              "      <td>[{'customers': 'price', 'food': 'food'}]</td>\n",
              "      <td>[{'customers': 0.0, 'food': 0.6000000000000001}]</td>\n",
              "    </tr>\n",
              "  </tbody>\n",
              "</table>\n",
              "</div>"
            ],
            "text/plain": [
              "                                              Review  ...                                    clause_polarity\n",
              "0  There are lots of Indian restaurant at Tanjong...  ...  [{'lots': 0.0, 'restaurant': 0.0, 'time': 0.0,...\n",
              "2  The dal makhni was sweet, seemed like sugar wa...  ...  [{'dal': 0.35, 'makhni': 0.35, 'couple': 0.0, ...\n",
              "4  We are regular customers - the food is amazing...  ...   [{'customers': 0.0, 'food': 0.6000000000000001}]\n",
              "\n",
              "[3 rows x 11 columns]"
            ]
          },
          "metadata": {},
          "execution_count": 119
        }
      ]
    },
    {
      "cell_type": "code",
      "metadata": {
        "colab": {
          "base_uri": "https://localhost:8080/"
        },
        "id": "odVEklzZ2tSz",
        "outputId": "c86d0c48-6cc1-4c23-9715-2e77f705f551"
      },
      "source": [
        "df.columns"
      ],
      "execution_count": null,
      "outputs": [
        {
          "output_type": "execute_result",
          "data": {
            "text/plain": [
              "Index(['Review', 'Date', 'Stars', 'Restaurant', 'feature_descriptors',\n",
              "       'clause_level_breakdown', 'vector_descriptors', 'clause_vectors',\n",
              "       'word_level_polarity', 'categorisation', 'clause_polarity'],\n",
              "      dtype='object')"
            ]
          },
          "metadata": {},
          "execution_count": 120
        }
      ]
    },
    {
      "cell_type": "code",
      "metadata": {
        "id": "b3dHCc192qFy"
      },
      "source": [
        "df = df[['Review', 'Date', 'Stars', 'Restaurant','feature_descriptors', 'vector_descriptors','word_level_polarity', 'clause_level_breakdown', 'clause_vectors', 'clause_polarity', 'categorisation']]"
      ],
      "execution_count": null,
      "outputs": []
    },
    {
      "cell_type": "code",
      "metadata": {
        "id": "nQRRrMNd3WaF",
        "colab": {
          "base_uri": "https://localhost:8080/",
          "height": 329
        },
        "outputId": "3a7fd1b1-a65d-485a-dcd7-edf8774a6b79"
      },
      "source": [
        "df.head(3)"
      ],
      "execution_count": null,
      "outputs": [
        {
          "output_type": "execute_result",
          "data": {
            "text/html": [
              "<div>\n",
              "<style scoped>\n",
              "    .dataframe tbody tr th:only-of-type {\n",
              "        vertical-align: middle;\n",
              "    }\n",
              "\n",
              "    .dataframe tbody tr th {\n",
              "        vertical-align: top;\n",
              "    }\n",
              "\n",
              "    .dataframe thead th {\n",
              "        text-align: right;\n",
              "    }\n",
              "</style>\n",
              "<table border=\"1\" class=\"dataframe\">\n",
              "  <thead>\n",
              "    <tr style=\"text-align: right;\">\n",
              "      <th></th>\n",
              "      <th>Review</th>\n",
              "      <th>Date</th>\n",
              "      <th>Stars</th>\n",
              "      <th>Restaurant</th>\n",
              "      <th>feature_descriptors</th>\n",
              "      <th>vector_descriptors</th>\n",
              "      <th>word_level_polarity</th>\n",
              "      <th>clause_level_breakdown</th>\n",
              "      <th>clause_vectors</th>\n",
              "      <th>clause_polarity</th>\n",
              "      <th>categorisation</th>\n",
              "    </tr>\n",
              "  </thead>\n",
              "  <tbody>\n",
              "    <tr>\n",
              "      <th>0</th>\n",
              "      <td>There are lots of Indian restaurant at Tanjong...</td>\n",
              "      <td>2 days ago</td>\n",
              "      <td>5 stars</td>\n",
              "      <td>Gravy_Restaurant</td>\n",
              "      <td>[{'lots': ['Indian'], 'restaurant': [], 'area'...</td>\n",
              "      <td>[{'lots': [], 'restaurant': [], 'area': [[-0.0...</td>\n",
              "      <td>[{'lots': [0.0], 'restaurant': [], 'area': [0....</td>\n",
              "      <td>[{'lots': 'There are lots of Indian restaurant...</td>\n",
              "      <td>[{'lots': [[-0.51533   0.83186   0.22457  -0.7...</td>\n",
              "      <td>[{'lots': 0.0, 'restaurant': 0.0, 'time': 0.0,...</td>\n",
              "      <td>[{'lots': 'price', 'restaurant': 'ambience', '...</td>\n",
              "    </tr>\n",
              "    <tr>\n",
              "      <th>2</th>\n",
              "      <td>The dal makhni was sweet, seemed like sugar wa...</td>\n",
              "      <td>a week ago</td>\n",
              "      <td>2 stars</td>\n",
              "      <td>Gravy_Restaurant</td>\n",
              "      <td>[{'dal': [], 'makhni': ['sweet', 'seemed'], 's...</td>\n",
              "      <td>[{'dal': [], 'makhni': [[ 0.10788   0.38359   ...</td>\n",
              "      <td>[{'dal': [], 'makhni': [0.35, 0.0], 'sugar': [...</td>\n",
              "      <td>[{'dal': 'The dal makhni was sweet', 'makhni':...</td>\n",
              "      <td>[{'dal': [[-0.90375   -1.43      -0.023677  -0...</td>\n",
              "      <td>[{'dal': 0.35, 'makhni': 0.35, 'couple': 0.0, ...</td>\n",
              "      <td>[{'dal': 'food', 'makhni': 'food', 'sugar': 'p...</td>\n",
              "    </tr>\n",
              "    <tr>\n",
              "      <th>4</th>\n",
              "      <td>We are regular customers - the food is amazing...</td>\n",
              "      <td>2 weeks ago</td>\n",
              "      <td>5 stars</td>\n",
              "      <td>Gravy_Restaurant</td>\n",
              "      <td>[{'customers': [], 'food': ['had']}]</td>\n",
              "      <td>[{'customers': [], 'food': [[ 0.63256  -0.1271...</td>\n",
              "      <td>[{'customers': [], 'food': [0.0]}]</td>\n",
              "      <td>[{'customers': 'We are regular customers', 'fo...</td>\n",
              "      <td>[{'customers': [[-0.51533   0.83186   0.22457 ...</td>\n",
              "      <td>[{'customers': 0.0, 'food': 0.6000000000000001}]</td>\n",
              "      <td>[{'customers': 'price', 'food': 'food'}]</td>\n",
              "    </tr>\n",
              "  </tbody>\n",
              "</table>\n",
              "</div>"
            ],
            "text/plain": [
              "                                              Review  ...                                     categorisation\n",
              "0  There are lots of Indian restaurant at Tanjong...  ...  [{'lots': 'price', 'restaurant': 'ambience', '...\n",
              "2  The dal makhni was sweet, seemed like sugar wa...  ...  [{'dal': 'food', 'makhni': 'food', 'sugar': 'p...\n",
              "4  We are regular customers - the food is amazing...  ...           [{'customers': 'price', 'food': 'food'}]\n",
              "\n",
              "[3 rows x 11 columns]"
            ]
          },
          "metadata": {},
          "execution_count": 123
        }
      ]
    },
    {
      "cell_type": "code",
      "metadata": {
        "id": "WAFUKF50Qys-"
      },
      "source": [
        "df.to_pickle(\"testing_final_processed.pkl\")"
      ],
      "execution_count": null,
      "outputs": []
    },
    {
      "cell_type": "markdown",
      "metadata": {
        "id": "yFGiZbVd_XMh"
      },
      "source": [
        "### Break dataset into train, validate and test"
      ]
    },
    {
      "cell_type": "code",
      "metadata": {
        "id": "YOFREpcI_aXC"
      },
      "source": [
        "train, validate, test = \\\n",
        "              np.split(df.sample(frac=1, random_state=42), \n",
        "                       [int(.6*len(df)), int(.8*len(df))])"
      ],
      "execution_count": null,
      "outputs": []
    },
    {
      "cell_type": "code",
      "metadata": {
        "id": "EC0zmTJY_oPu"
      },
      "source": [
        "print(len(train), len(validate), len(test))"
      ],
      "execution_count": null,
      "outputs": []
    },
    {
      "cell_type": "code",
      "metadata": {
        "id": "ZYQ85wsv_vox"
      },
      "source": [
        "train.to_pickle(\"train.pkl\")\n",
        "validate.to_pickle(\"validate.pkl\")\n",
        "test.to_pickle(\"test.pkl\")"
      ],
      "execution_count": null,
      "outputs": []
    }
  ]
}