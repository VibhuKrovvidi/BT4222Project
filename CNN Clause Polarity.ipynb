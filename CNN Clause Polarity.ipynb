{
  "nbformat": 4,
  "nbformat_minor": 0,
  "metadata": {
    "colab": {
      "name": "Copy of Copy of BT4222 Project.ipynb",
      "provenance": [],
      "collapsed_sections": [
        "Ybb5ACltVfd5",
        "JL5a9TZm2Lv0",
        "bMsq-PvX2PAj",
        "Eaf-4c8ipPcT",
        "RFvryIsdpc--"
      ]
    },
    "kernelspec": {
      "name": "python3",
      "display_name": "Python 3"
    },
    "language_info": {
      "name": "python"
    }
  },
  "cells": [
    {
      "cell_type": "code",
      "metadata": {
        "colab": {
          "base_uri": "https://localhost:8080/"
        },
        "id": "3_xJog8U4hmU",
        "outputId": "b102b591-2015-49e4-93b1-7f8f691e80e0"
      },
      "source": [
        "import nltk\n",
        "nltk.download('punkt')\n",
        "nltk.download('averaged_perceptron_tagger')\n",
        "import math\n",
        "import numpy as np\n",
        "import pandas as pd\n",
        "import glob\n",
        "import time\n",
        "\n",
        "from sklearn import linear_model, model_selection, metrics\n",
        "from sklearn.model_selection import train_test_split\n",
        "from sklearn.linear_model import LogisticRegression\n",
        "from sklearn.svm import OneClassSVM\n",
        "from sklearn import model_selection, metrics\n",
        "from scipy import stats # for statistical tests\n",
        "\n",
        "import matplotlib.pyplot as plt\n",
        "import seaborn as sns\n",
        "\n",
        "from google.colab import drive\n",
        "\n",
        "plt.style.use('seaborn')"
      ],
      "execution_count": 1,
      "outputs": [
        {
          "output_type": "stream",
          "name": "stdout",
          "text": [
            "[nltk_data] Downloading package punkt to /root/nltk_data...\n",
            "[nltk_data]   Unzipping tokenizers/punkt.zip.\n",
            "[nltk_data] Downloading package averaged_perceptron_tagger to\n",
            "[nltk_data]     /root/nltk_data...\n",
            "[nltk_data]   Unzipping taggers/averaged_perceptron_tagger.zip.\n"
          ]
        }
      ]
    },
    {
      "cell_type": "code",
      "metadata": {
        "colab": {
          "base_uri": "https://localhost:8080/"
        },
        "id": "tm4ML2Di42l9",
        "outputId": "29b7d9b8-8582-4fe7-e2d3-1386e83eecc9"
      },
      "source": [
        "# Get the dataset\n",
        "drive.mount('/content/gdrive')"
      ],
      "execution_count": 2,
      "outputs": [
        {
          "output_type": "stream",
          "name": "stdout",
          "text": [
            "Mounted at /content/gdrive\n"
          ]
        }
      ]
    },
    {
      "cell_type": "markdown",
      "metadata": {
        "id": "Ybb5ACltVfd5"
      },
      "source": [
        "#Preprocessing Data"
      ]
    },
    {
      "cell_type": "code",
      "metadata": {
        "colab": {
          "base_uri": "https://localhost:8080/",
          "height": 206
        },
        "id": "U2XvNuf4VgjM",
        "outputId": "cbd4e7ae-cbab-4d73-817b-4cf1267a4a46"
      },
      "source": [
        "train = pd.read_pickle('gdrive/My Drive/sent_train.pkl')\n",
        "train.head()"
      ],
      "execution_count": 3,
      "outputs": [
        {
          "output_type": "execute_result",
          "data": {
            "text/html": [
              "<div>\n",
              "<style scoped>\n",
              "    .dataframe tbody tr th:only-of-type {\n",
              "        vertical-align: middle;\n",
              "    }\n",
              "\n",
              "    .dataframe tbody tr th {\n",
              "        vertical-align: top;\n",
              "    }\n",
              "\n",
              "    .dataframe thead th {\n",
              "        text-align: right;\n",
              "    }\n",
              "</style>\n",
              "<table border=\"1\" class=\"dataframe\">\n",
              "  <thead>\n",
              "    <tr style=\"text-align: right;\">\n",
              "      <th></th>\n",
              "      <th>index</th>\n",
              "      <th>feature</th>\n",
              "      <th>raw_clause</th>\n",
              "      <th>clause_vector</th>\n",
              "      <th>clause_polarity</th>\n",
              "    </tr>\n",
              "  </thead>\n",
              "  <tbody>\n",
              "    <tr>\n",
              "      <th>0</th>\n",
              "      <td>154</td>\n",
              "      <td>review</td>\n",
              "      <td>Thank you for leaving a review</td>\n",
              "      <td>[[-0.49886, 0.76602, 0.89751, -0.78547, -0.685...</td>\n",
              "      <td>0.00</td>\n",
              "    </tr>\n",
              "    <tr>\n",
              "      <th>0</th>\n",
              "      <td>154</td>\n",
              "      <td>dinner</td>\n",
              "      <td>\\r\\n\\r\\n Restaurant Ibid is now re - opened fo...</td>\n",
              "      <td>[[-0.54264, 0.41476, 1.0322, -0.40244, 0.46691...</td>\n",
              "      <td>0.00</td>\n",
              "    </tr>\n",
              "    <tr>\n",
              "      <th>0</th>\n",
              "      <td>154</td>\n",
              "      <td>Mondays</td>\n",
              "      <td>\\r\\n\\r\\n Restaurant Ibid is now re - opened fo...</td>\n",
              "      <td>[[-0.54264, 0.41476, 1.0322, -0.40244, 0.46691...</td>\n",
              "      <td>0.00</td>\n",
              "    </tr>\n",
              "    <tr>\n",
              "      <th>0</th>\n",
              "      <td>154</td>\n",
              "      <td>forwards</td>\n",
              "      <td>\\r\\n\\r\\n Looking forwards to hosting you</td>\n",
              "      <td>[[0.29756, 0.70983, 0.65643, -1.3487, -0.41072...</td>\n",
              "      <td>0.00</td>\n",
              "    </tr>\n",
              "    <tr>\n",
              "      <th>0</th>\n",
              "      <td>154</td>\n",
              "      <td>reservations</td>\n",
              "      <td>reservations are highly recommended</td>\n",
              "      <td>[[-0.13411, -0.39639, 0.64715, 0.38583, -0.225...</td>\n",
              "      <td>0.16</td>\n",
              "    </tr>\n",
              "  </tbody>\n",
              "</table>\n",
              "</div>"
            ],
            "text/plain": [
              "   index  ... clause_polarity\n",
              "0    154  ...            0.00\n",
              "0    154  ...            0.00\n",
              "0    154  ...            0.00\n",
              "0    154  ...            0.00\n",
              "0    154  ...            0.16\n",
              "\n",
              "[5 rows x 5 columns]"
            ]
          },
          "metadata": {},
          "execution_count": 3
        }
      ]
    },
    {
      "cell_type": "code",
      "metadata": {
        "colab": {
          "base_uri": "https://localhost:8080/",
          "height": 206
        },
        "id": "zSULDWt1VgjN",
        "outputId": "b4ad7c05-36cf-432a-b1f5-4bbb7acf810d"
      },
      "source": [
        "test = pd.read_pickle('gdrive/My Drive/sent_test.pkl')\n",
        "test.head()"
      ],
      "execution_count": 4,
      "outputs": [
        {
          "output_type": "execute_result",
          "data": {
            "text/html": [
              "<div>\n",
              "<style scoped>\n",
              "    .dataframe tbody tr th:only-of-type {\n",
              "        vertical-align: middle;\n",
              "    }\n",
              "\n",
              "    .dataframe tbody tr th {\n",
              "        vertical-align: top;\n",
              "    }\n",
              "\n",
              "    .dataframe thead th {\n",
              "        text-align: right;\n",
              "    }\n",
              "</style>\n",
              "<table border=\"1\" class=\"dataframe\">\n",
              "  <thead>\n",
              "    <tr style=\"text-align: right;\">\n",
              "      <th></th>\n",
              "      <th>index</th>\n",
              "      <th>feature</th>\n",
              "      <th>raw_clause</th>\n",
              "      <th>clause_vector</th>\n",
              "      <th>clause_polarity</th>\n",
              "    </tr>\n",
              "  </thead>\n",
              "  <tbody>\n",
              "    <tr>\n",
              "      <th>0</th>\n",
              "      <td>176</td>\n",
              "      <td>burger</td>\n",
              "      <td>I have nt had such a delicious burger is a while</td>\n",
              "      <td>[[0.15711, 0.65606, 0.0021149, -0.65144, -0.28...</td>\n",
              "      <td>0.5</td>\n",
              "    </tr>\n",
              "    <tr>\n",
              "      <th>0</th>\n",
              "      <td>176</td>\n",
              "      <td>while</td>\n",
              "      <td>I have nt had such a delicious burger is a while</td>\n",
              "      <td>[[0.15711, 0.65606, 0.0021149, -0.65144, -0.28...</td>\n",
              "      <td>0.5</td>\n",
              "    </tr>\n",
              "    <tr>\n",
              "      <th>0</th>\n",
              "      <td>176</td>\n",
              "      <td>burgers</td>\n",
              "      <td>Great burgers at reasonable prices</td>\n",
              "      <td>[[-0.42404, 0.0074403, -0.4665, -0.42496, -0.5...</td>\n",
              "      <td>0.5</td>\n",
              "    </tr>\n",
              "    <tr>\n",
              "      <th>0</th>\n",
              "      <td>176</td>\n",
              "      <td>prices</td>\n",
              "      <td>Great burgers at reasonable prices</td>\n",
              "      <td>[[-0.42404, 0.0074403, -0.4665, -0.42496, -0.5...</td>\n",
              "      <td>0.5</td>\n",
              "    </tr>\n",
              "    <tr>\n",
              "      <th>0</th>\n",
              "      <td>176</td>\n",
              "      <td>Onion</td>\n",
              "      <td>Onion rings are crispy awesome too</td>\n",
              "      <td>[[0.65609, 0.03754, -0.14359, -0.47495, 0.8703...</td>\n",
              "      <td>1.0</td>\n",
              "    </tr>\n",
              "  </tbody>\n",
              "</table>\n",
              "</div>"
            ],
            "text/plain": [
              "   index  ... clause_polarity\n",
              "0    176  ...             0.5\n",
              "0    176  ...             0.5\n",
              "0    176  ...             0.5\n",
              "0    176  ...             0.5\n",
              "0    176  ...             1.0\n",
              "\n",
              "[5 rows x 5 columns]"
            ]
          },
          "metadata": {},
          "execution_count": 4
        }
      ]
    },
    {
      "cell_type": "code",
      "metadata": {
        "colab": {
          "base_uri": "https://localhost:8080/",
          "height": 206
        },
        "id": "fmTPEeuwVgjO",
        "outputId": "da5b868d-81d9-4058-cbe5-7c1f06289c14"
      },
      "source": [
        "val = pd.read_pickle('gdrive/My Drive/sent_validate.pkl')\n",
        "val.head()"
      ],
      "execution_count": 5,
      "outputs": [
        {
          "output_type": "execute_result",
          "data": {
            "text/html": [
              "<div>\n",
              "<style scoped>\n",
              "    .dataframe tbody tr th:only-of-type {\n",
              "        vertical-align: middle;\n",
              "    }\n",
              "\n",
              "    .dataframe tbody tr th {\n",
              "        vertical-align: top;\n",
              "    }\n",
              "\n",
              "    .dataframe thead th {\n",
              "        text-align: right;\n",
              "    }\n",
              "</style>\n",
              "<table border=\"1\" class=\"dataframe\">\n",
              "  <thead>\n",
              "    <tr style=\"text-align: right;\">\n",
              "      <th></th>\n",
              "      <th>index</th>\n",
              "      <th>feature</th>\n",
              "      <th>raw_clause</th>\n",
              "      <th>clause_vector</th>\n",
              "      <th>clause_polarity</th>\n",
              "    </tr>\n",
              "  </thead>\n",
              "  <tbody>\n",
              "    <tr>\n",
              "      <th>0</th>\n",
              "      <td>296</td>\n",
              "      <td>friends</td>\n",
              "      <td>Outdoor is kinda hot to chill with friends</td>\n",
              "      <td>[[-0.54264, 0.41476, 1.0322, -0.40244, 0.46691...</td>\n",
              "      <td>0.25</td>\n",
              "    </tr>\n",
              "    <tr>\n",
              "      <th>0</th>\n",
              "      <td>296</td>\n",
              "      <td>Customer</td>\n",
              "      <td>Customer service good</td>\n",
              "      <td>[[-0.4224, -0.13313, -0.41418, -0.23677, 0.190...</td>\n",
              "      <td>0.70</td>\n",
              "    </tr>\n",
              "    <tr>\n",
              "      <th>0</th>\n",
              "      <td>296</td>\n",
              "      <td>service</td>\n",
              "      <td>Customer service good</td>\n",
              "      <td>[[-0.4224, -0.13313, -0.41418, -0.23677, 0.190...</td>\n",
              "      <td>0.70</td>\n",
              "    </tr>\n",
              "    <tr>\n",
              "      <th>0</th>\n",
              "      <td>112</td>\n",
              "      <td>review</td>\n",
              "      <td>Thank you for leaving a review</td>\n",
              "      <td>[[-0.49886, 0.76602, 0.89751, -0.78547, -0.685...</td>\n",
              "      <td>0.00</td>\n",
              "    </tr>\n",
              "    <tr>\n",
              "      <th>0</th>\n",
              "      <td>112</td>\n",
              "      <td>dinner</td>\n",
              "      <td>\\r\\n\\r\\n Restaurant Ibid is now re - opened fo...</td>\n",
              "      <td>[[-0.54264, 0.41476, 1.0322, -0.40244, 0.46691...</td>\n",
              "      <td>0.00</td>\n",
              "    </tr>\n",
              "  </tbody>\n",
              "</table>\n",
              "</div>"
            ],
            "text/plain": [
              "   index  ... clause_polarity\n",
              "0    296  ...            0.25\n",
              "0    296  ...            0.70\n",
              "0    296  ...            0.70\n",
              "0    112  ...            0.00\n",
              "0    112  ...            0.00\n",
              "\n",
              "[5 rows x 5 columns]"
            ]
          },
          "metadata": {},
          "execution_count": 5
        }
      ]
    },
    {
      "cell_type": "code",
      "metadata": {
        "colab": {
          "base_uri": "https://localhost:8080/",
          "height": 293
        },
        "id": "cb8DOMdxo0bs",
        "outputId": "685028bc-a61f-4f06-b61d-88a421dfc510"
      },
      "source": [
        "to_pred = pd.read_pickle('gdrive/My Drive/testing_sent_df.pkl')\n",
        "to_pred.head()"
      ],
      "execution_count": 6,
      "outputs": [
        {
          "output_type": "execute_result",
          "data": {
            "text/html": [
              "<div>\n",
              "<style scoped>\n",
              "    .dataframe tbody tr th:only-of-type {\n",
              "        vertical-align: middle;\n",
              "    }\n",
              "\n",
              "    .dataframe tbody tr th {\n",
              "        vertical-align: top;\n",
              "    }\n",
              "\n",
              "    .dataframe thead th {\n",
              "        text-align: right;\n",
              "    }\n",
              "</style>\n",
              "<table border=\"1\" class=\"dataframe\">\n",
              "  <thead>\n",
              "    <tr style=\"text-align: right;\">\n",
              "      <th></th>\n",
              "      <th>restaurant</th>\n",
              "      <th>stars</th>\n",
              "      <th>date</th>\n",
              "      <th>feat_index</th>\n",
              "      <th>index</th>\n",
              "      <th>feature</th>\n",
              "      <th>category</th>\n",
              "      <th>raw_clause</th>\n",
              "      <th>clause_vector</th>\n",
              "      <th>clause_polarity</th>\n",
              "    </tr>\n",
              "  </thead>\n",
              "  <tbody>\n",
              "    <tr>\n",
              "      <th>0</th>\n",
              "      <td>Gravy_Restaurant</td>\n",
              "      <td>5 stars</td>\n",
              "      <td>2 days ago</td>\n",
              "      <td>0</td>\n",
              "      <td>There are lots of Indian restaurant at Tanjong...</td>\n",
              "      <td>lots</td>\n",
              "      <td>price</td>\n",
              "      <td>There are lots of Indian restaurant at Tanjong...</td>\n",
              "      <td>[[-0.51533, 0.83186, 0.22457, -0.73865, 0.1871...</td>\n",
              "      <td>0.0</td>\n",
              "    </tr>\n",
              "    <tr>\n",
              "      <th>0</th>\n",
              "      <td>Gravy_Restaurant</td>\n",
              "      <td>5 stars</td>\n",
              "      <td>2 days ago</td>\n",
              "      <td>1</td>\n",
              "      <td>There are lots of Indian restaurant at Tanjong...</td>\n",
              "      <td>restaurant</td>\n",
              "      <td>ambience</td>\n",
              "      <td>There are lots of Indian restaurant at Tanjong...</td>\n",
              "      <td>[[-0.51533, 0.83186, 0.22457, -0.73865, 0.1871...</td>\n",
              "      <td>0.0</td>\n",
              "    </tr>\n",
              "    <tr>\n",
              "      <th>0</th>\n",
              "      <td>Gravy_Restaurant</td>\n",
              "      <td>5 stars</td>\n",
              "      <td>2 days ago</td>\n",
              "      <td>2</td>\n",
              "      <td>There are lots of Indian restaurant at Tanjong...</td>\n",
              "      <td>time</td>\n",
              "      <td>price</td>\n",
              "      <td>Second time dining out since the dining restri...</td>\n",
              "      <td>[[-0.024221, -0.034855, 0.3571, -0.02155, -0.5...</td>\n",
              "      <td>0.0</td>\n",
              "    </tr>\n",
              "    <tr>\n",
              "      <th>0</th>\n",
              "      <td>Gravy_Restaurant</td>\n",
              "      <td>5 stars</td>\n",
              "      <td>2 days ago</td>\n",
              "      <td>3</td>\n",
              "      <td>There are lots of Indian restaurant at Tanjong...</td>\n",
              "      <td>dining</td>\n",
              "      <td>ambience</td>\n",
              "      <td>Second time dining out since the dining restri...</td>\n",
              "      <td>[[-0.024221, -0.034855, 0.3571, -0.02155, -0.5...</td>\n",
              "      <td>0.0</td>\n",
              "    </tr>\n",
              "    <tr>\n",
              "      <th>0</th>\n",
              "      <td>Gravy_Restaurant</td>\n",
              "      <td>5 stars</td>\n",
              "      <td>2 days ago</td>\n",
              "      <td>4</td>\n",
              "      <td>There are lots of Indian restaurant at Tanjong...</td>\n",
              "      <td>restrictions</td>\n",
              "      <td>price</td>\n",
              "      <td>Second time dining out since the dining restri...</td>\n",
              "      <td>[[-0.024221, -0.034855, 0.3571, -0.02155, -0.5...</td>\n",
              "      <td>0.0</td>\n",
              "    </tr>\n",
              "  </tbody>\n",
              "</table>\n",
              "</div>"
            ],
            "text/plain": [
              "         restaurant  ... clause_polarity\n",
              "0  Gravy_Restaurant  ...             0.0\n",
              "0  Gravy_Restaurant  ...             0.0\n",
              "0  Gravy_Restaurant  ...             0.0\n",
              "0  Gravy_Restaurant  ...             0.0\n",
              "0  Gravy_Restaurant  ...             0.0\n",
              "\n",
              "[5 rows x 10 columns]"
            ]
          },
          "metadata": {},
          "execution_count": 6
        }
      ]
    },
    {
      "cell_type": "code",
      "metadata": {
        "colab": {
          "base_uri": "https://localhost:8080/",
          "height": 293
        },
        "id": "sYkaqqEGoWy2",
        "outputId": "70d2fb17-b861-48b9-e464-d80c0502dae3"
      },
      "source": [
        "to_pred2 = pd.read_pickle('gdrive/My Drive/reg_sent_df.pkl')\n",
        "to_pred2.head()"
      ],
      "execution_count": 7,
      "outputs": [
        {
          "output_type": "execute_result",
          "data": {
            "text/html": [
              "<div>\n",
              "<style scoped>\n",
              "    .dataframe tbody tr th:only-of-type {\n",
              "        vertical-align: middle;\n",
              "    }\n",
              "\n",
              "    .dataframe tbody tr th {\n",
              "        vertical-align: top;\n",
              "    }\n",
              "\n",
              "    .dataframe thead th {\n",
              "        text-align: right;\n",
              "    }\n",
              "</style>\n",
              "<table border=\"1\" class=\"dataframe\">\n",
              "  <thead>\n",
              "    <tr style=\"text-align: right;\">\n",
              "      <th></th>\n",
              "      <th>restaurant</th>\n",
              "      <th>stars</th>\n",
              "      <th>date</th>\n",
              "      <th>feat_index</th>\n",
              "      <th>index</th>\n",
              "      <th>feature</th>\n",
              "      <th>category</th>\n",
              "      <th>raw_clause</th>\n",
              "      <th>clause_vector</th>\n",
              "      <th>clause_polarity</th>\n",
              "    </tr>\n",
              "  </thead>\n",
              "  <tbody>\n",
              "    <tr>\n",
              "      <th>0</th>\n",
              "      <td>Gravy_Restaurant</td>\n",
              "      <td>5 stars</td>\n",
              "      <td>4 days ago</td>\n",
              "      <td>0</td>\n",
              "      <td>There are lots of Indian restaurant at Tanjong...</td>\n",
              "      <td>lots</td>\n",
              "      <td>price</td>\n",
              "      <td>There are lots of Indian restaurant at Tanjong...</td>\n",
              "      <td>[[-0.51533, 0.83186, 0.22457, -0.73865, 0.1871...</td>\n",
              "      <td>0.0</td>\n",
              "    </tr>\n",
              "    <tr>\n",
              "      <th>0</th>\n",
              "      <td>Gravy_Restaurant</td>\n",
              "      <td>5 stars</td>\n",
              "      <td>4 days ago</td>\n",
              "      <td>1</td>\n",
              "      <td>There are lots of Indian restaurant at Tanjong...</td>\n",
              "      <td>restaurant</td>\n",
              "      <td>ambience</td>\n",
              "      <td>There are lots of Indian restaurant at Tanjong...</td>\n",
              "      <td>[[-0.51533, 0.83186, 0.22457, -0.73865, 0.1871...</td>\n",
              "      <td>0.0</td>\n",
              "    </tr>\n",
              "    <tr>\n",
              "      <th>0</th>\n",
              "      <td>Gravy_Restaurant</td>\n",
              "      <td>5 stars</td>\n",
              "      <td>4 days ago</td>\n",
              "      <td>2</td>\n",
              "      <td>There are lots of Indian restaurant at Tanjong...</td>\n",
              "      <td>time</td>\n",
              "      <td>price</td>\n",
              "      <td>Second time dining out since the dining restri...</td>\n",
              "      <td>[[-0.024221, -0.034855, 0.3571, -0.02155, -0.5...</td>\n",
              "      <td>0.0</td>\n",
              "    </tr>\n",
              "    <tr>\n",
              "      <th>0</th>\n",
              "      <td>Gravy_Restaurant</td>\n",
              "      <td>5 stars</td>\n",
              "      <td>4 days ago</td>\n",
              "      <td>3</td>\n",
              "      <td>There are lots of Indian restaurant at Tanjong...</td>\n",
              "      <td>dining</td>\n",
              "      <td>ambience</td>\n",
              "      <td>Second time dining out since the dining restri...</td>\n",
              "      <td>[[-0.024221, -0.034855, 0.3571, -0.02155, -0.5...</td>\n",
              "      <td>0.0</td>\n",
              "    </tr>\n",
              "    <tr>\n",
              "      <th>0</th>\n",
              "      <td>Gravy_Restaurant</td>\n",
              "      <td>5 stars</td>\n",
              "      <td>4 days ago</td>\n",
              "      <td>4</td>\n",
              "      <td>There are lots of Indian restaurant at Tanjong...</td>\n",
              "      <td>restrictions</td>\n",
              "      <td>price</td>\n",
              "      <td>Second time dining out since the dining restri...</td>\n",
              "      <td>[[-0.024221, -0.034855, 0.3571, -0.02155, -0.5...</td>\n",
              "      <td>0.0</td>\n",
              "    </tr>\n",
              "  </tbody>\n",
              "</table>\n",
              "</div>"
            ],
            "text/plain": [
              "         restaurant  ... clause_polarity\n",
              "0  Gravy_Restaurant  ...             0.0\n",
              "0  Gravy_Restaurant  ...             0.0\n",
              "0  Gravy_Restaurant  ...             0.0\n",
              "0  Gravy_Restaurant  ...             0.0\n",
              "0  Gravy_Restaurant  ...             0.0\n",
              "\n",
              "[5 rows x 10 columns]"
            ]
          },
          "metadata": {},
          "execution_count": 7
        }
      ]
    },
    {
      "cell_type": "code",
      "metadata": {
        "colab": {
          "base_uri": "https://localhost:8080/"
        },
        "id": "JVmPFF8jogk4",
        "outputId": "91b75724-1e94-4e23-bacc-7a031af3f97d"
      },
      "source": [
        "to_pred2.shape"
      ],
      "execution_count": 8,
      "outputs": [
        {
          "output_type": "execute_result",
          "data": {
            "text/plain": [
              "(6158, 10)"
            ]
          },
          "metadata": {},
          "execution_count": 8
        }
      ]
    },
    {
      "cell_type": "code",
      "metadata": {
        "id": "SWISlXr6cng-"
      },
      "source": [
        "number_of_most_frequent_words=10000"
      ],
      "execution_count": 20,
      "outputs": []
    },
    {
      "cell_type": "code",
      "metadata": {
        "id": "JUGC4F8Hf_wZ"
      },
      "source": [
        "X_train = train['raw_clause']\n",
        "y_train = train['clause_polarity']"
      ],
      "execution_count": 11,
      "outputs": []
    },
    {
      "cell_type": "code",
      "metadata": {
        "id": "bcPMH38Vf9yK"
      },
      "source": [
        "X_val = val['raw_clause']\n",
        "y_val = val['clause_polarity']"
      ],
      "execution_count": 12,
      "outputs": []
    },
    {
      "cell_type": "code",
      "metadata": {
        "id": "lN-Peul6gM-T"
      },
      "source": [
        "X_test = test['raw_clause']\n",
        "y_test= test['clause_polarity']"
      ],
      "execution_count": 13,
      "outputs": []
    },
    {
      "cell_type": "code",
      "metadata": {
        "id": "0bfqJBRigM-U"
      },
      "source": [
        "X_tp = to_pred['raw_clause']\n",
        "y_tp = to_pred['clause_polarity']"
      ],
      "execution_count": 14,
      "outputs": []
    },
    {
      "cell_type": "code",
      "metadata": {
        "id": "Wyf2srYVou6B"
      },
      "source": [
        "X_tp2 = to_pred2['raw_clause']\n",
        "y_tp2 = to_pred2['clause_polarity']"
      ],
      "execution_count": 15,
      "outputs": []
    },
    {
      "cell_type": "code",
      "metadata": {
        "colab": {
          "base_uri": "https://localhost:8080/"
        },
        "id": "W175W3PM0pmB",
        "outputId": "4dd2d197-e616-4e17-c183-9fa26e9f2b54"
      },
      "source": [
        "X_train"
      ],
      "execution_count": null,
      "outputs": [
        {
          "output_type": "execute_result",
          "data": {
            "text/plain": [
              "0                       Thank you for leaving a review\n",
              "0    \\r\\n\\r\\n Restaurant Ibid is now re - opened fo...\n",
              "0    \\r\\n\\r\\n Restaurant Ibid is now re - opened fo...\n",
              "0             \\r\\n\\r\\n Looking forwards to hosting you\n",
              "0                  reservations are highly recommended\n",
              "                           ...                        \n",
              "0                                   Came in vegetarian\n",
              "0                                           The sauces\n",
              "0                   came out wanting to eat more steak\n",
              "0                                          service and\n",
              "0                                                sides\n",
              "Name: raw_clause, Length: 8909, dtype: object"
            ]
          },
          "metadata": {},
          "execution_count": 18
        }
      ]
    },
    {
      "cell_type": "code",
      "metadata": {
        "id": "RPV2YzQ5zqno"
      },
      "source": [
        "X_train = train['raw_clause'].to_numpy()\n",
        "X_val = val['raw_clause'].to_numpy()\n",
        "X_test = test['raw_clause'].to_numpy()\n",
        "X_tp = to_pred['raw_clause'].to_numpy()\n",
        "X_tp2 = to_pred2['raw_clause'].to_numpy()"
      ],
      "execution_count": 16,
      "outputs": []
    },
    {
      "cell_type": "markdown",
      "metadata": {
        "id": "JL5a9TZm2Lv0"
      },
      "source": [
        "# Tokenization and Padding"
      ]
    },
    {
      "cell_type": "code",
      "metadata": {
        "id": "HmI-XseRp4B0"
      },
      "source": [
        "from keras.preprocessing.text import Tokenizer"
      ],
      "execution_count": 17,
      "outputs": []
    },
    {
      "cell_type": "code",
      "metadata": {
        "id": "CkIU6nlnxpyK"
      },
      "source": [
        "tokenizer_obj = Tokenizer()\n",
        "tokenizer_obj.fit_on_texts(X_train)"
      ],
      "execution_count": 18,
      "outputs": []
    },
    {
      "cell_type": "code",
      "metadata": {
        "id": "uuhEWIolp4Gk"
      },
      "source": [
        "X_train_tokens = tokenizer_obj.texts_to_sequences(X_train)\n",
        "X_val_tokens = tokenizer_obj.texts_to_sequences(X_val)\n",
        "X_test_tokens = tokenizer_obj.texts_to_sequences(X_test)\n",
        "X_tp_tokens = tokenizer_obj.texts_to_sequences(X_tp)\n",
        "X_tp2_tokens = tokenizer_obj.texts_to_sequences(X_tp2)"
      ],
      "execution_count": 19,
      "outputs": []
    },
    {
      "cell_type": "code",
      "metadata": {
        "id": "YpXtp5OHyJ48"
      },
      "source": [
        "max_length = max([len(s.split()) for s in X_train])"
      ],
      "execution_count": 21,
      "outputs": []
    },
    {
      "cell_type": "code",
      "metadata": {
        "id": "OZYGAe1mx7O7"
      },
      "source": [
        "vocab_size = len(tokenizer_obj.word_index) + 1"
      ],
      "execution_count": 22,
      "outputs": []
    },
    {
      "cell_type": "code",
      "metadata": {
        "id": "92AAGoXJqs7C"
      },
      "source": [
        "from keras.preprocessing.sequence import pad_sequences"
      ],
      "execution_count": 23,
      "outputs": []
    },
    {
      "cell_type": "code",
      "metadata": {
        "id": "BuuPf1JJyY7N"
      },
      "source": [
        "X_train_pad = pad_sequences(X_train_tokens, maxlen=max_length, padding='post')\n",
        "X_val_pad = pad_sequences(X_val_tokens, maxlen=max_length, padding='post')\n",
        "X_test_pad = pad_sequences(X_test_tokens, maxlen=max_length, padding='post')\n",
        "X_tp_pad = pad_sequences(X_tp_tokens, maxlen=max_length, padding='post')\n",
        "X_tp2_pad = pad_sequences(X_tp2_tokens, maxlen=max_length, padding='post')"
      ],
      "execution_count": 24,
      "outputs": []
    },
    {
      "cell_type": "markdown",
      "metadata": {
        "id": "bMsq-PvX2PAj"
      },
      "source": [
        "# CNN Model"
      ]
    },
    {
      "cell_type": "code",
      "metadata": {
        "id": "xh2LEaP54PUh"
      },
      "source": [
        "from keras.callbacks import ReduceLROnPlateau,EarlyStopping"
      ],
      "execution_count": 25,
      "outputs": []
    },
    {
      "cell_type": "code",
      "metadata": {
        "id": "0Yj9B9bguuBj"
      },
      "source": [
        "rlr = ReduceLROnPlateau(monitor=\"val_loss\", factor=0.2, patience=5, min_lr = 0.00001,verbose=1)\n",
        "early = EarlyStopping(monitor='val_loss', mode='min', patience=10, restore_best_weights=True)"
      ],
      "execution_count": 26,
      "outputs": []
    },
    {
      "cell_type": "code",
      "metadata": {
        "colab": {
          "base_uri": "https://localhost:8080/"
        },
        "id": "5e87F4QHxc3m",
        "outputId": "883d0d22-15ed-4059-95fe-13a2bec49ac4"
      },
      "source": [
        "from tensorflow.keras import Sequential\n",
        "from keras.layers import GRU,Embedding, Flatten, Conv1D, GlobalMaxPooling1D, Dropout, Dense, Input\n",
        "import tensorflow as tf\n",
        "\n",
        "EMBEDDING_DIM = 100\n",
        "model = Sequential()\n",
        "e = Embedding(vocab_size, EMBEDDING_DIM, input_length=max_length)\n",
        "model.add(e)\n",
        "model.add(Conv1D(1024, 3, padding='valid', activation='relu', strides=1))\n",
        "model.add(GlobalMaxPooling1D())\n",
        "model.add(Dropout(0.2))\n",
        "model.add(Dense(256, activation='relu'))\n",
        "model.add(Dense(1))\n",
        "model.compile(loss=\"mse\", optimizer=\"adam\", metrics=[tf.keras.metrics.MeanSquaredError()])\n",
        "\n",
        "hist = model.fit(X_train_pad, y_train, validation_data=(X_val_pad, y_val), epochs=100, batch_size=32, verbose=2, callbacks=[rlr, early])"
      ],
      "execution_count": 39,
      "outputs": [
        {
          "output_type": "stream",
          "name": "stdout",
          "text": [
            "Epoch 1/100\n",
            "279/279 - 21s - loss: 0.0402 - mean_squared_error: 0.0402 - val_loss: 0.0212 - val_mean_squared_error: 0.0212 - lr: 0.0010 - 21s/epoch - 74ms/step\n",
            "Epoch 2/100\n",
            "279/279 - 20s - loss: 0.0095 - mean_squared_error: 0.0095 - val_loss: 0.0179 - val_mean_squared_error: 0.0179 - lr: 0.0010 - 20s/epoch - 71ms/step\n",
            "Epoch 3/100\n",
            "279/279 - 20s - loss: 0.0045 - mean_squared_error: 0.0045 - val_loss: 0.0135 - val_mean_squared_error: 0.0135 - lr: 0.0010 - 20s/epoch - 71ms/step\n",
            "Epoch 4/100\n",
            "279/279 - 20s - loss: 0.0028 - mean_squared_error: 0.0028 - val_loss: 0.0142 - val_mean_squared_error: 0.0142 - lr: 0.0010 - 20s/epoch - 71ms/step\n",
            "Epoch 5/100\n",
            "279/279 - 20s - loss: 0.0024 - mean_squared_error: 0.0024 - val_loss: 0.0125 - val_mean_squared_error: 0.0125 - lr: 0.0010 - 20s/epoch - 70ms/step\n",
            "Epoch 6/100\n",
            "279/279 - 20s - loss: 0.0019 - mean_squared_error: 0.0019 - val_loss: 0.0108 - val_mean_squared_error: 0.0108 - lr: 0.0010 - 20s/epoch - 71ms/step\n",
            "Epoch 7/100\n",
            "279/279 - 20s - loss: 0.0016 - mean_squared_error: 0.0016 - val_loss: 0.0113 - val_mean_squared_error: 0.0113 - lr: 0.0010 - 20s/epoch - 71ms/step\n",
            "Epoch 8/100\n",
            "279/279 - 20s - loss: 0.0015 - mean_squared_error: 0.0015 - val_loss: 0.0106 - val_mean_squared_error: 0.0106 - lr: 0.0010 - 20s/epoch - 71ms/step\n",
            "Epoch 9/100\n",
            "279/279 - 20s - loss: 0.0015 - mean_squared_error: 0.0015 - val_loss: 0.0102 - val_mean_squared_error: 0.0102 - lr: 0.0010 - 20s/epoch - 71ms/step\n",
            "Epoch 10/100\n",
            "279/279 - 20s - loss: 0.0016 - mean_squared_error: 0.0016 - val_loss: 0.0111 - val_mean_squared_error: 0.0111 - lr: 0.0010 - 20s/epoch - 71ms/step\n",
            "Epoch 11/100\n",
            "279/279 - 20s - loss: 0.0015 - mean_squared_error: 0.0015 - val_loss: 0.0101 - val_mean_squared_error: 0.0101 - lr: 0.0010 - 20s/epoch - 71ms/step\n",
            "Epoch 12/100\n",
            "279/279 - 20s - loss: 0.0015 - mean_squared_error: 0.0015 - val_loss: 0.0102 - val_mean_squared_error: 0.0102 - lr: 0.0010 - 20s/epoch - 71ms/step\n",
            "Epoch 13/100\n",
            "279/279 - 20s - loss: 0.0012 - mean_squared_error: 0.0012 - val_loss: 0.0102 - val_mean_squared_error: 0.0102 - lr: 0.0010 - 20s/epoch - 71ms/step\n",
            "Epoch 14/100\n",
            "279/279 - 20s - loss: 0.0011 - mean_squared_error: 0.0011 - val_loss: 0.0093 - val_mean_squared_error: 0.0093 - lr: 0.0010 - 20s/epoch - 71ms/step\n",
            "Epoch 15/100\n",
            "279/279 - 20s - loss: 0.0011 - mean_squared_error: 0.0011 - val_loss: 0.0092 - val_mean_squared_error: 0.0092 - lr: 0.0010 - 20s/epoch - 71ms/step\n",
            "Epoch 16/100\n",
            "279/279 - 20s - loss: 0.0012 - mean_squared_error: 0.0012 - val_loss: 0.0096 - val_mean_squared_error: 0.0096 - lr: 0.0010 - 20s/epoch - 71ms/step\n",
            "Epoch 17/100\n",
            "279/279 - 20s - loss: 0.0011 - mean_squared_error: 0.0011 - val_loss: 0.0093 - val_mean_squared_error: 0.0093 - lr: 0.0010 - 20s/epoch - 71ms/step\n",
            "Epoch 18/100\n",
            "279/279 - 20s - loss: 9.8652e-04 - mean_squared_error: 9.8652e-04 - val_loss: 0.0092 - val_mean_squared_error: 0.0092 - lr: 0.0010 - 20s/epoch - 71ms/step\n",
            "Epoch 19/100\n",
            "279/279 - 20s - loss: 0.0010 - mean_squared_error: 0.0010 - val_loss: 0.0093 - val_mean_squared_error: 0.0093 - lr: 0.0010 - 20s/epoch - 70ms/step\n",
            "Epoch 20/100\n",
            "\n",
            "Epoch 00020: ReduceLROnPlateau reducing learning rate to 0.00020000000949949026.\n",
            "279/279 - 20s - loss: 0.0010 - mean_squared_error: 0.0010 - val_loss: 0.0093 - val_mean_squared_error: 0.0093 - lr: 0.0010 - 20s/epoch - 71ms/step\n",
            "Epoch 21/100\n",
            "279/279 - 20s - loss: 5.8881e-04 - mean_squared_error: 5.8881e-04 - val_loss: 0.0087 - val_mean_squared_error: 0.0087 - lr: 2.0000e-04 - 20s/epoch - 71ms/step\n",
            "Epoch 22/100\n",
            "279/279 - 20s - loss: 3.8119e-04 - mean_squared_error: 3.8119e-04 - val_loss: 0.0087 - val_mean_squared_error: 0.0087 - lr: 2.0000e-04 - 20s/epoch - 70ms/step\n",
            "Epoch 23/100\n",
            "279/279 - 20s - loss: 3.2496e-04 - mean_squared_error: 3.2496e-04 - val_loss: 0.0085 - val_mean_squared_error: 0.0085 - lr: 2.0000e-04 - 20s/epoch - 70ms/step\n",
            "Epoch 24/100\n",
            "279/279 - 20s - loss: 3.0153e-04 - mean_squared_error: 3.0153e-04 - val_loss: 0.0085 - val_mean_squared_error: 0.0085 - lr: 2.0000e-04 - 20s/epoch - 70ms/step\n",
            "Epoch 25/100\n",
            "279/279 - 20s - loss: 3.0026e-04 - mean_squared_error: 3.0026e-04 - val_loss: 0.0085 - val_mean_squared_error: 0.0085 - lr: 2.0000e-04 - 20s/epoch - 71ms/step\n",
            "Epoch 26/100\n",
            "279/279 - 20s - loss: 2.7435e-04 - mean_squared_error: 2.7435e-04 - val_loss: 0.0084 - val_mean_squared_error: 0.0084 - lr: 2.0000e-04 - 20s/epoch - 71ms/step\n",
            "Epoch 27/100\n",
            "279/279 - 20s - loss: 2.7919e-04 - mean_squared_error: 2.7919e-04 - val_loss: 0.0085 - val_mean_squared_error: 0.0085 - lr: 2.0000e-04 - 20s/epoch - 71ms/step\n",
            "Epoch 28/100\n",
            "\n",
            "Epoch 00028: ReduceLROnPlateau reducing learning rate to 4.0000001899898055e-05.\n",
            "279/279 - 20s - loss: 2.7739e-04 - mean_squared_error: 2.7739e-04 - val_loss: 0.0085 - val_mean_squared_error: 0.0085 - lr: 2.0000e-04 - 20s/epoch - 71ms/step\n",
            "Epoch 29/100\n",
            "279/279 - 20s - loss: 2.4478e-04 - mean_squared_error: 2.4478e-04 - val_loss: 0.0084 - val_mean_squared_error: 0.0084 - lr: 4.0000e-05 - 20s/epoch - 70ms/step\n",
            "Epoch 30/100\n",
            "279/279 - 20s - loss: 2.3471e-04 - mean_squared_error: 2.3471e-04 - val_loss: 0.0084 - val_mean_squared_error: 0.0084 - lr: 4.0000e-05 - 20s/epoch - 70ms/step\n",
            "Epoch 31/100\n",
            "279/279 - 20s - loss: 2.2797e-04 - mean_squared_error: 2.2797e-04 - val_loss: 0.0084 - val_mean_squared_error: 0.0084 - lr: 4.0000e-05 - 20s/epoch - 71ms/step\n",
            "Epoch 32/100\n",
            "279/279 - 20s - loss: 2.2656e-04 - mean_squared_error: 2.2656e-04 - val_loss: 0.0084 - val_mean_squared_error: 0.0084 - lr: 4.0000e-05 - 20s/epoch - 70ms/step\n",
            "Epoch 33/100\n",
            "\n",
            "Epoch 00033: ReduceLROnPlateau reducing learning rate to 1e-05.\n",
            "279/279 - 20s - loss: 2.1819e-04 - mean_squared_error: 2.1819e-04 - val_loss: 0.0084 - val_mean_squared_error: 0.0084 - lr: 4.0000e-05 - 20s/epoch - 70ms/step\n",
            "Epoch 34/100\n",
            "279/279 - 20s - loss: 2.2590e-04 - mean_squared_error: 2.2590e-04 - val_loss: 0.0084 - val_mean_squared_error: 0.0084 - lr: 1.0000e-05 - 20s/epoch - 70ms/step\n",
            "Epoch 35/100\n",
            "279/279 - 20s - loss: 2.1465e-04 - mean_squared_error: 2.1465e-04 - val_loss: 0.0084 - val_mean_squared_error: 0.0084 - lr: 1.0000e-05 - 20s/epoch - 70ms/step\n",
            "Epoch 36/100\n",
            "279/279 - 20s - loss: 2.1839e-04 - mean_squared_error: 2.1839e-04 - val_loss: 0.0084 - val_mean_squared_error: 0.0084 - lr: 1.0000e-05 - 20s/epoch - 70ms/step\n",
            "Epoch 37/100\n",
            "279/279 - 20s - loss: 2.1504e-04 - mean_squared_error: 2.1504e-04 - val_loss: 0.0084 - val_mean_squared_error: 0.0084 - lr: 1.0000e-05 - 20s/epoch - 70ms/step\n",
            "Epoch 38/100\n",
            "279/279 - 20s - loss: 2.1463e-04 - mean_squared_error: 2.1463e-04 - val_loss: 0.0084 - val_mean_squared_error: 0.0084 - lr: 1.0000e-05 - 20s/epoch - 70ms/step\n",
            "Epoch 39/100\n",
            "279/279 - 20s - loss: 2.1052e-04 - mean_squared_error: 2.1052e-04 - val_loss: 0.0084 - val_mean_squared_error: 0.0084 - lr: 1.0000e-05 - 20s/epoch - 70ms/step\n",
            "Epoch 40/100\n",
            "279/279 - 20s - loss: 2.1065e-04 - mean_squared_error: 2.1065e-04 - val_loss: 0.0084 - val_mean_squared_error: 0.0084 - lr: 1.0000e-05 - 20s/epoch - 70ms/step\n",
            "Epoch 41/100\n",
            "279/279 - 20s - loss: 2.0611e-04 - mean_squared_error: 2.0611e-04 - val_loss: 0.0084 - val_mean_squared_error: 0.0084 - lr: 1.0000e-05 - 20s/epoch - 70ms/step\n",
            "Epoch 42/100\n",
            "279/279 - 20s - loss: 2.1130e-04 - mean_squared_error: 2.1130e-04 - val_loss: 0.0084 - val_mean_squared_error: 0.0084 - lr: 1.0000e-05 - 20s/epoch - 71ms/step\n",
            "Epoch 43/100\n",
            "279/279 - 20s - loss: 2.0868e-04 - mean_squared_error: 2.0868e-04 - val_loss: 0.0084 - val_mean_squared_error: 0.0084 - lr: 1.0000e-05 - 20s/epoch - 70ms/step\n",
            "Epoch 44/100\n",
            "279/279 - 20s - loss: 2.0972e-04 - mean_squared_error: 2.0972e-04 - val_loss: 0.0084 - val_mean_squared_error: 0.0084 - lr: 1.0000e-05 - 20s/epoch - 70ms/step\n",
            "Epoch 45/100\n",
            "279/279 - 20s - loss: 2.0809e-04 - mean_squared_error: 2.0809e-04 - val_loss: 0.0084 - val_mean_squared_error: 0.0084 - lr: 1.0000e-05 - 20s/epoch - 70ms/step\n"
          ]
        }
      ]
    },
    {
      "cell_type": "code",
      "metadata": {
        "colab": {
          "base_uri": "https://localhost:8080/",
          "height": 735
        },
        "id": "2kEJYxL6sH9F",
        "outputId": "cb5f79aa-c701-4b42-8b3b-6dd12bc91839"
      },
      "source": [
        "import matplotlib.pyplot as plt\n",
        "plt.style.use('seaborn')\n",
        "\n",
        "plt.plot(hist.history['mean_squared_error'])\n",
        "plt.plot(hist.history['val_mean_squared_error'])\n",
        "plt.title('Model MSE')\n",
        "plt.ylabel('MSE')\n",
        "plt.xlabel('Epoch')\n",
        "plt.legend(['Train', 'Val'], loc='upper left')\n",
        "plt.show()\n",
        "\n",
        "plt.plot(hist.history['loss'])\n",
        "plt.plot(hist.history['val_loss'])\n",
        "plt.title('Model loss')\n",
        "plt.ylabel('Loss')\n",
        "plt.xlabel('Epoch')\n",
        "plt.legend(['Train', 'Val'], loc='upper left')\n",
        "plt.show()"
      ],
      "execution_count": 40,
      "outputs": [
        {
          "output_type": "display_data",
          "data": {
            "image/png": "[encoded data removed]",
            "text/plain": [
              "<Figure size 576x396 with 1 Axes>"
            ]
          },
          "metadata": {}
        },
        {
          "output_type": "display_data",
          "data": {
            "image/png": "[encoded data removed]",
            "text/plain": [
              "<Figure size 576x396 with 1 Axes>"
            ]
          },
          "metadata": {}
        }
      ]
    },
    {
      "cell_type": "code",
      "metadata": {
        "id": "XNG6vN48uuBm"
      },
      "source": [
        "pred = model.predict(X_test_pad)"
      ],
      "execution_count": 41,
      "outputs": []
    },
    {
      "cell_type": "code",
      "metadata": {
        "colab": {
          "base_uri": "https://localhost:8080/"
        },
        "id": "wy2C5lveuuBm",
        "outputId": "bdca5b99-a294-4fec-c620-a5c1bad30ad3"
      },
      "source": [
        "pred"
      ],
      "execution_count": 42,
      "outputs": [
        {
          "output_type": "execute_result",
          "data": {
            "text/plain": [
              "array([[4.9570248e-01],\n",
              "       [4.9570248e-01],\n",
              "       [4.7128826e-01],\n",
              "       ...,\n",
              "       [4.2551011e-04],\n",
              "       [4.2551011e-04],\n",
              "       [4.2551011e-04]], dtype=float32)"
            ]
          },
          "metadata": {},
          "execution_count": 42
        }
      ]
    },
    {
      "cell_type": "code",
      "metadata": {
        "colab": {
          "base_uri": "https://localhost:8080/"
        },
        "id": "cKkIXcdtuuBn",
        "outputId": "94c0819e-0ef4-4acc-8ce8-84c946291b27"
      },
      "source": [
        "from sklearn.metrics import mean_squared_error\n",
        "mean_squared_error(y_test, pred)"
      ],
      "execution_count": 43,
      "outputs": [
        {
          "output_type": "execute_result",
          "data": {
            "text/plain": [
              "0.010683452968932314"
            ]
          },
          "metadata": {},
          "execution_count": 43
        }
      ]
    },
    {
      "cell_type": "code",
      "metadata": {
        "id": "_zXvRASFuuBn"
      },
      "source": [
        "final = test['feature']"
      ],
      "execution_count": 44,
      "outputs": []
    },
    {
      "cell_type": "code",
      "metadata": {
        "colab": {
          "base_uri": "https://localhost:8080/"
        },
        "id": "BxFzm7NLuuBn",
        "outputId": "5e7e10a4-790b-49d5-cca3-3c1beb9750da"
      },
      "source": [
        "pred.flatten()"
      ],
      "execution_count": 45,
      "outputs": [
        {
          "output_type": "execute_result",
          "data": {
            "text/plain": [
              "array([4.9570248e-01, 4.9570248e-01, 4.7128826e-01, ..., 4.2551011e-04,\n",
              "       4.2551011e-04, 4.2551011e-04], dtype=float32)"
            ]
          },
          "metadata": {},
          "execution_count": 45
        }
      ]
    },
    {
      "cell_type": "code",
      "metadata": {
        "colab": {
          "base_uri": "https://localhost:8080/"
        },
        "id": "DcmedxfeuuBo",
        "outputId": "18d25e71-06dd-4aae-e919-1e1abd98eada"
      },
      "source": [
        "final.to_numpy()"
      ],
      "execution_count": 46,
      "outputs": [
        {
          "output_type": "execute_result",
          "data": {
            "text/plain": [
              "array(['burger', 'while', 'burgers', ..., 'couple', 'dozen', 'oysters'],\n",
              "      dtype=object)"
            ]
          },
          "metadata": {},
          "execution_count": 46
        }
      ]
    },
    {
      "cell_type": "code",
      "metadata": {
        "id": "Nuj15l3NuuBo"
      },
      "source": [
        "pred = pd.DataFrame(pred)\n",
        "final = pd.DataFrame(final)"
      ],
      "execution_count": 47,
      "outputs": []
    },
    {
      "cell_type": "code",
      "metadata": {
        "id": "AOEx0jcbuuBo"
      },
      "source": [
        "result4 = final"
      ],
      "execution_count": 48,
      "outputs": []
    },
    {
      "cell_type": "code",
      "metadata": {
        "id": "ib2oIRqWuuBq"
      },
      "source": [
        "result4.index = pred.index"
      ],
      "execution_count": 49,
      "outputs": []
    },
    {
      "cell_type": "code",
      "metadata": {
        "id": "LTF1hSB3uuBq"
      },
      "source": [
        "result4['pred'] = pred"
      ],
      "execution_count": 50,
      "outputs": []
    },
    {
      "cell_type": "code",
      "metadata": {
        "colab": {
          "base_uri": "https://localhost:8080/",
          "height": 424
        },
        "id": "hGsGPHHIuuBq",
        "outputId": "41e0e155-c56e-44eb-eaa3-0e567e4b9105"
      },
      "source": [
        "result4"
      ],
      "execution_count": 51,
      "outputs": [
        {
          "output_type": "execute_result",
          "data": {
            "text/html": [
              "<div>\n",
              "<style scoped>\n",
              "    .dataframe tbody tr th:only-of-type {\n",
              "        vertical-align: middle;\n",
              "    }\n",
              "\n",
              "    .dataframe tbody tr th {\n",
              "        vertical-align: top;\n",
              "    }\n",
              "\n",
              "    .dataframe thead th {\n",
              "        text-align: right;\n",
              "    }\n",
              "</style>\n",
              "<table border=\"1\" class=\"dataframe\">\n",
              "  <thead>\n",
              "    <tr style=\"text-align: right;\">\n",
              "      <th></th>\n",
              "      <th>feature</th>\n",
              "      <th>pred</th>\n",
              "    </tr>\n",
              "  </thead>\n",
              "  <tbody>\n",
              "    <tr>\n",
              "      <th>0</th>\n",
              "      <td>burger</td>\n",
              "      <td>0.495702</td>\n",
              "    </tr>\n",
              "    <tr>\n",
              "      <th>1</th>\n",
              "      <td>while</td>\n",
              "      <td>0.495702</td>\n",
              "    </tr>\n",
              "    <tr>\n",
              "      <th>2</th>\n",
              "      <td>burgers</td>\n",
              "      <td>0.471288</td>\n",
              "    </tr>\n",
              "    <tr>\n",
              "      <th>3</th>\n",
              "      <td>prices</td>\n",
              "      <td>0.471288</td>\n",
              "    </tr>\n",
              "    <tr>\n",
              "      <th>4</th>\n",
              "      <td>Onion</td>\n",
              "      <td>0.947980</td>\n",
              "    </tr>\n",
              "    <tr>\n",
              "      <th>...</th>\n",
              "      <td>...</td>\n",
              "      <td>...</td>\n",
              "    </tr>\n",
              "    <tr>\n",
              "      <th>2973</th>\n",
              "      <td>service</td>\n",
              "      <td>0.998355</td>\n",
              "    </tr>\n",
              "    <tr>\n",
              "      <th>2974</th>\n",
              "      <td>porterhouse</td>\n",
              "      <td>0.001609</td>\n",
              "    </tr>\n",
              "    <tr>\n",
              "      <th>2975</th>\n",
              "      <td>couple</td>\n",
              "      <td>0.000426</td>\n",
              "    </tr>\n",
              "    <tr>\n",
              "      <th>2976</th>\n",
              "      <td>dozen</td>\n",
              "      <td>0.000426</td>\n",
              "    </tr>\n",
              "    <tr>\n",
              "      <th>2977</th>\n",
              "      <td>oysters</td>\n",
              "      <td>0.000426</td>\n",
              "    </tr>\n",
              "  </tbody>\n",
              "</table>\n",
              "<p>2978 rows × 2 columns</p>\n",
              "</div>"
            ],
            "text/plain": [
              "          feature      pred\n",
              "0          burger  0.495702\n",
              "1           while  0.495702\n",
              "2         burgers  0.471288\n",
              "3          prices  0.471288\n",
              "4           Onion  0.947980\n",
              "...           ...       ...\n",
              "2973      service  0.998355\n",
              "2974  porterhouse  0.001609\n",
              "2975       couple  0.000426\n",
              "2976        dozen  0.000426\n",
              "2977      oysters  0.000426\n",
              "\n",
              "[2978 rows x 2 columns]"
            ]
          },
          "metadata": {},
          "execution_count": 51
        }
      ]
    },
    {
      "cell_type": "code",
      "metadata": {
        "colab": {
          "base_uri": "https://localhost:8080/"
        },
        "id": "Xn2LkWDjuuBq",
        "outputId": "aca9fa24-eae9-43c7-b645-6411f5ade90b"
      },
      "source": [
        "y_test"
      ],
      "execution_count": 52,
      "outputs": [
        {
          "output_type": "execute_result",
          "data": {
            "text/plain": [
              "0    0.5\n",
              "0    0.5\n",
              "0    0.5\n",
              "0    0.5\n",
              "0    1.0\n",
              "    ... \n",
              "0    1.0\n",
              "0    0.0\n",
              "0    0.0\n",
              "0    0.0\n",
              "0    0.0\n",
              "Name: clause_polarity, Length: 2978, dtype: float64"
            ]
          },
          "metadata": {},
          "execution_count": 52
        }
      ]
    },
    {
      "cell_type": "code",
      "metadata": {
        "colab": {
          "base_uri": "https://localhost:8080/",
          "height": 17
        },
        "id": "nhpRuN7auuBq",
        "outputId": "d9af31ba-0caa-4bf5-c4ec-230c41d0678e"
      },
      "source": [
        "from google.colab import files\n",
        "result4.to_csv('preds4222.csv', index=False) \n",
        "files.download('preds4222.csv')"
      ],
      "execution_count": null,
      "outputs": [
        {
          "output_type": "display_data",
          "data": {
            "application/javascript": [
              "\n",
              "    async function download(id, filename, size) {\n",
              "      if (!google.colab.kernel.accessAllowed) {\n",
              "        return;\n",
              "      }\n",
              "      const div = document.createElement('div');\n",
              "      const label = document.createElement('label');\n",
              "      label.textContent = `Downloading \"${filename}\": `;\n",
              "      div.appendChild(label);\n",
              "      const progress = document.createElement('progress');\n",
              "      progress.max = size;\n",
              "      div.appendChild(progress);\n",
              "      document.body.appendChild(div);\n",
              "\n",
              "      const buffers = [];\n",
              "      let downloaded = 0;\n",
              "\n",
              "      const channel = await google.colab.kernel.comms.open(id);\n",
              "      // Send a message to notify the kernel that we're ready.\n",
              "      channel.send({})\n",
              "\n",
              "      for await (const message of channel.messages) {\n",
              "        // Send a message to notify the kernel that we're ready.\n",
              "        channel.send({})\n",
              "        if (message.buffers) {\n",
              "          for (const buffer of message.buffers) {\n",
              "            buffers.push(buffer);\n",
              "            downloaded += buffer.byteLength;\n",
              "            progress.value = downloaded;\n",
              "          }\n",
              "        }\n",
              "      }\n",
              "      const blob = new Blob(buffers, {type: 'application/binary'});\n",
              "      const a = document.createElement('a');\n",
              "      a.href = window.URL.createObjectURL(blob);\n",
              "      a.download = filename;\n",
              "      div.appendChild(a);\n",
              "      a.click();\n",
              "      div.remove();\n",
              "    }\n",
              "  "
            ],
            "text/plain": [
              "<IPython.core.display.Javascript object>"
            ]
          },
          "metadata": {}
        },
        {
          "output_type": "display_data",
          "data": {
            "application/javascript": [
              "download(\"download_fad7df5b-7516-4d9a-baa0-116d69d61a16\", \"preds4222.csv\", 55102)"
            ],
            "text/plain": [
              "<IPython.core.display.Javascript object>"
            ]
          },
          "metadata": {}
        }
      ]
    },
    {
      "cell_type": "code",
      "metadata": {
        "colab": {
          "base_uri": "https://localhost:8080/",
          "height": 17
        },
        "id": "dDj4TDumuuBr",
        "outputId": "716ba26d-e344-4d22-e63e-713178322e06"
      },
      "source": [
        "from google.colab import files\n",
        "y_test.to_csv('ytest.csv', index=False) \n",
        "files.download('ytest.csv')"
      ],
      "execution_count": null,
      "outputs": [
        {
          "output_type": "display_data",
          "data": {
            "application/javascript": [
              "\n",
              "    async function download(id, filename, size) {\n",
              "      if (!google.colab.kernel.accessAllowed) {\n",
              "        return;\n",
              "      }\n",
              "      const div = document.createElement('div');\n",
              "      const label = document.createElement('label');\n",
              "      label.textContent = `Downloading \"${filename}\": `;\n",
              "      div.appendChild(label);\n",
              "      const progress = document.createElement('progress');\n",
              "      progress.max = size;\n",
              "      div.appendChild(progress);\n",
              "      document.body.appendChild(div);\n",
              "\n",
              "      const buffers = [];\n",
              "      let downloaded = 0;\n",
              "\n",
              "      const channel = await google.colab.kernel.comms.open(id);\n",
              "      // Send a message to notify the kernel that we're ready.\n",
              "      channel.send({})\n",
              "\n",
              "      for await (const message of channel.messages) {\n",
              "        // Send a message to notify the kernel that we're ready.\n",
              "        channel.send({})\n",
              "        if (message.buffers) {\n",
              "          for (const buffer of message.buffers) {\n",
              "            buffers.push(buffer);\n",
              "            downloaded += buffer.byteLength;\n",
              "            progress.value = downloaded;\n",
              "          }\n",
              "        }\n",
              "      }\n",
              "      const blob = new Blob(buffers, {type: 'application/binary'});\n",
              "      const a = document.createElement('a');\n",
              "      a.href = window.URL.createObjectURL(blob);\n",
              "      a.download = filename;\n",
              "      div.appendChild(a);\n",
              "      a.click();\n",
              "      div.remove();\n",
              "    }\n",
              "  "
            ],
            "text/plain": [
              "<IPython.core.display.Javascript object>"
            ]
          },
          "metadata": {}
        },
        {
          "output_type": "display_data",
          "data": {
            "application/javascript": [
              "download(\"download_82d42326-ddc8-44c2-ad31-30bab7fa6347\", \"ytest.csv\", 19620)"
            ],
            "text/plain": [
              "<IPython.core.display.Javascript object>"
            ]
          },
          "metadata": {}
        }
      ]
    },
    {
      "cell_type": "markdown",
      "metadata": {
        "id": "Eaf-4c8ipPcT"
      },
      "source": [
        "# Predicting New Dataset 1"
      ]
    },
    {
      "cell_type": "code",
      "metadata": {
        "id": "MeaaENCNuuBr"
      },
      "source": [
        "pred = model.predict(X_tp_pad)"
      ],
      "execution_count": 55,
      "outputs": []
    },
    {
      "cell_type": "code",
      "metadata": {
        "colab": {
          "base_uri": "https://localhost:8080/"
        },
        "id": "jpfeTjpHuuBt",
        "outputId": "3e220efe-a453-4c58-ddfe-75b9825456f5"
      },
      "source": [
        "pred"
      ],
      "execution_count": 56,
      "outputs": [
        {
          "output_type": "execute_result",
          "data": {
            "text/plain": [
              "array([[-7.672012e-04],\n",
              "       [-7.672012e-04],\n",
              "       [ 2.247259e-03],\n",
              "       ...,\n",
              "       [ 2.873303e-01],\n",
              "       [ 2.873303e-01],\n",
              "       [ 7.921478e-01]], dtype=float32)"
            ]
          },
          "metadata": {},
          "execution_count": 56
        }
      ]
    },
    {
      "cell_type": "code",
      "metadata": {
        "colab": {
          "base_uri": "https://localhost:8080/"
        },
        "id": "ZMSID7UYuuBt",
        "outputId": "560aaf10-84aa-4fb7-9f50-0c7364a63ef3"
      },
      "source": [
        "from sklearn.metrics import mean_squared_error\n",
        "mean_squared_error(y_tp, pred)"
      ],
      "execution_count": 57,
      "outputs": [
        {
          "output_type": "execute_result",
          "data": {
            "text/plain": [
              "0.009696514583749821"
            ]
          },
          "metadata": {},
          "execution_count": 57
        }
      ]
    },
    {
      "cell_type": "code",
      "metadata": {
        "id": "R_no2xPOuuBt"
      },
      "source": [
        "final = to_pred['feature']"
      ],
      "execution_count": null,
      "outputs": []
    },
    {
      "cell_type": "code",
      "metadata": {
        "colab": {
          "base_uri": "https://localhost:8080/"
        },
        "id": "i3Hi0jEZuuBt",
        "outputId": "94188793-57b5-46d4-e35e-ddb85c28732a"
      },
      "source": [
        "pred.flatten()"
      ],
      "execution_count": null,
      "outputs": [
        {
          "output_type": "execute_result",
          "data": {
            "text/plain": [
              "array([-0.00453277, -0.00453277, -0.00480882, ...,  0.24750957,\n",
              "        0.24750957,  0.7817584 ], dtype=float32)"
            ]
          },
          "metadata": {},
          "execution_count": 101
        }
      ]
    },
    {
      "cell_type": "code",
      "metadata": {
        "colab": {
          "base_uri": "https://localhost:8080/"
        },
        "id": "sZOdaz5suuBt",
        "outputId": "e63d798f-4d31-4b52-a721-0f58d4357668"
      },
      "source": [
        "final.to_numpy()"
      ],
      "execution_count": null,
      "outputs": [
        {
          "output_type": "execute_result",
          "data": {
            "text/plain": [
              "array(['lots', 'restaurant', 'time', ..., 'tables', 'restaurant', 'menu'],\n",
              "      dtype=object)"
            ]
          },
          "metadata": {},
          "execution_count": 102
        }
      ]
    },
    {
      "cell_type": "code",
      "metadata": {
        "id": "bERct6--uuBu"
      },
      "source": [
        "pred = pd.DataFrame(pred)\n",
        "final = pd.DataFrame(final)"
      ],
      "execution_count": null,
      "outputs": []
    },
    {
      "cell_type": "code",
      "metadata": {
        "id": "L8jguoEzuuBu"
      },
      "source": [
        "result_new = final"
      ],
      "execution_count": null,
      "outputs": []
    },
    {
      "cell_type": "code",
      "metadata": {
        "id": "kypHe8WHuuBu"
      },
      "source": [
        "result_new.index = pred.index"
      ],
      "execution_count": null,
      "outputs": []
    },
    {
      "cell_type": "code",
      "metadata": {
        "id": "lVsB7aGHuuBu"
      },
      "source": [
        "result_new['pred'] = pred"
      ],
      "execution_count": null,
      "outputs": []
    },
    {
      "cell_type": "code",
      "metadata": {
        "colab": {
          "base_uri": "https://localhost:8080/",
          "height": 424
        },
        "id": "9sz56Wf8uuBu",
        "outputId": "3914eca0-c1dc-4076-84e5-5beea370c7ed"
      },
      "source": [
        "result_new"
      ],
      "execution_count": null,
      "outputs": [
        {
          "output_type": "execute_result",
          "data": {
            "text/html": [
              "<div>\n",
              "<style scoped>\n",
              "    .dataframe tbody tr th:only-of-type {\n",
              "        vertical-align: middle;\n",
              "    }\n",
              "\n",
              "    .dataframe tbody tr th {\n",
              "        vertical-align: top;\n",
              "    }\n",
              "\n",
              "    .dataframe thead th {\n",
              "        text-align: right;\n",
              "    }\n",
              "</style>\n",
              "<table border=\"1\" class=\"dataframe\">\n",
              "  <thead>\n",
              "    <tr style=\"text-align: right;\">\n",
              "      <th></th>\n",
              "      <th>feature</th>\n",
              "      <th>pred</th>\n",
              "    </tr>\n",
              "  </thead>\n",
              "  <tbody>\n",
              "    <tr>\n",
              "      <th>0</th>\n",
              "      <td>lots</td>\n",
              "      <td>-0.004533</td>\n",
              "    </tr>\n",
              "    <tr>\n",
              "      <th>1</th>\n",
              "      <td>restaurant</td>\n",
              "      <td>-0.004533</td>\n",
              "    </tr>\n",
              "    <tr>\n",
              "      <th>2</th>\n",
              "      <td>time</td>\n",
              "      <td>-0.004809</td>\n",
              "    </tr>\n",
              "    <tr>\n",
              "      <th>3</th>\n",
              "      <td>dining</td>\n",
              "      <td>-0.004809</td>\n",
              "    </tr>\n",
              "    <tr>\n",
              "      <th>4</th>\n",
              "      <td>restrictions</td>\n",
              "      <td>-0.004809</td>\n",
              "    </tr>\n",
              "    <tr>\n",
              "      <th>...</th>\n",
              "      <td>...</td>\n",
              "      <td>...</td>\n",
              "    </tr>\n",
              "    <tr>\n",
              "      <th>4225</th>\n",
              "      <td>food</td>\n",
              "      <td>0.784040</td>\n",
              "    </tr>\n",
              "    <tr>\n",
              "      <th>4226</th>\n",
              "      <td>hospitality</td>\n",
              "      <td>0.247510</td>\n",
              "    </tr>\n",
              "    <tr>\n",
              "      <th>4227</th>\n",
              "      <td>tables</td>\n",
              "      <td>0.247510</td>\n",
              "    </tr>\n",
              "    <tr>\n",
              "      <th>4228</th>\n",
              "      <td>restaurant</td>\n",
              "      <td>0.247510</td>\n",
              "    </tr>\n",
              "    <tr>\n",
              "      <th>4229</th>\n",
              "      <td>menu</td>\n",
              "      <td>0.781758</td>\n",
              "    </tr>\n",
              "  </tbody>\n",
              "</table>\n",
              "<p>4230 rows × 2 columns</p>\n",
              "</div>"
            ],
            "text/plain": [
              "           feature      pred\n",
              "0             lots -0.004533\n",
              "1       restaurant -0.004533\n",
              "2             time -0.004809\n",
              "3           dining -0.004809\n",
              "4     restrictions -0.004809\n",
              "...            ...       ...\n",
              "4225          food  0.784040\n",
              "4226   hospitality  0.247510\n",
              "4227        tables  0.247510\n",
              "4228    restaurant  0.247510\n",
              "4229          menu  0.781758\n",
              "\n",
              "[4230 rows x 2 columns]"
            ]
          },
          "metadata": {},
          "execution_count": 107
        }
      ]
    },
    {
      "cell_type": "code",
      "metadata": {
        "colab": {
          "base_uri": "https://localhost:8080/"
        },
        "id": "5fnikyNkuuBu",
        "outputId": "7fbc9243-d5b5-452f-be8c-b88762cc3ecc"
      },
      "source": [
        "y_tp"
      ],
      "execution_count": null,
      "outputs": [
        {
          "output_type": "execute_result",
          "data": {
            "text/plain": [
              "0    0.000000\n",
              "0    0.000000\n",
              "0    0.000000\n",
              "0    0.000000\n",
              "0    0.000000\n",
              "       ...   \n",
              "0    0.400000\n",
              "0    0.333333\n",
              "0    0.333333\n",
              "0    0.333333\n",
              "0    0.400000\n",
              "Name: clause_polarity, Length: 4230, dtype: float64"
            ]
          },
          "metadata": {},
          "execution_count": 108
        }
      ]
    },
    {
      "cell_type": "code",
      "metadata": {
        "colab": {
          "base_uri": "https://localhost:8080/",
          "height": 597
        },
        "id": "nX_e7DBF0WMO",
        "outputId": "afcac9bf-ff55-4d98-91fa-4a9ed57db4c3"
      },
      "source": [
        "to_pred"
      ],
      "execution_count": null,
      "outputs": [
        {
          "output_type": "execute_result",
          "data": {
            "text/html": [
              "<div>\n",
              "<style scoped>\n",
              "    .dataframe tbody tr th:only-of-type {\n",
              "        vertical-align: middle;\n",
              "    }\n",
              "\n",
              "    .dataframe tbody tr th {\n",
              "        vertical-align: top;\n",
              "    }\n",
              "\n",
              "    .dataframe thead th {\n",
              "        text-align: right;\n",
              "    }\n",
              "</style>\n",
              "<table border=\"1\" class=\"dataframe\">\n",
              "  <thead>\n",
              "    <tr style=\"text-align: right;\">\n",
              "      <th></th>\n",
              "      <th>restaurant</th>\n",
              "      <th>stars</th>\n",
              "      <th>date</th>\n",
              "      <th>feat_index</th>\n",
              "      <th>index</th>\n",
              "      <th>feature</th>\n",
              "      <th>category</th>\n",
              "      <th>raw_clause</th>\n",
              "      <th>clause_vector</th>\n",
              "      <th>clause_polarity</th>\n",
              "    </tr>\n",
              "  </thead>\n",
              "  <tbody>\n",
              "    <tr>\n",
              "      <th>0</th>\n",
              "      <td>Gravy_Restaurant</td>\n",
              "      <td>5 stars</td>\n",
              "      <td>2 days ago</td>\n",
              "      <td>0</td>\n",
              "      <td>There are lots of Indian restaurant at Tanjong...</td>\n",
              "      <td>lots</td>\n",
              "      <td>price</td>\n",
              "      <td>There are lots of Indian restaurant at Tanjong...</td>\n",
              "      <td>[[-0.51533, 0.83186, 0.22457, -0.73865, 0.1871...</td>\n",
              "      <td>0.000000</td>\n",
              "    </tr>\n",
              "    <tr>\n",
              "      <th>0</th>\n",
              "      <td>Gravy_Restaurant</td>\n",
              "      <td>5 stars</td>\n",
              "      <td>2 days ago</td>\n",
              "      <td>1</td>\n",
              "      <td>There are lots of Indian restaurant at Tanjong...</td>\n",
              "      <td>restaurant</td>\n",
              "      <td>ambience</td>\n",
              "      <td>There are lots of Indian restaurant at Tanjong...</td>\n",
              "      <td>[[-0.51533, 0.83186, 0.22457, -0.73865, 0.1871...</td>\n",
              "      <td>0.000000</td>\n",
              "    </tr>\n",
              "    <tr>\n",
              "      <th>0</th>\n",
              "      <td>Gravy_Restaurant</td>\n",
              "      <td>5 stars</td>\n",
              "      <td>2 days ago</td>\n",
              "      <td>2</td>\n",
              "      <td>There are lots of Indian restaurant at Tanjong...</td>\n",
              "      <td>time</td>\n",
              "      <td>price</td>\n",
              "      <td>Second time dining out since the dining restri...</td>\n",
              "      <td>[[-0.024221, -0.034855, 0.3571, -0.02155, -0.5...</td>\n",
              "      <td>0.000000</td>\n",
              "    </tr>\n",
              "    <tr>\n",
              "      <th>0</th>\n",
              "      <td>Gravy_Restaurant</td>\n",
              "      <td>5 stars</td>\n",
              "      <td>2 days ago</td>\n",
              "      <td>3</td>\n",
              "      <td>There are lots of Indian restaurant at Tanjong...</td>\n",
              "      <td>dining</td>\n",
              "      <td>ambience</td>\n",
              "      <td>Second time dining out since the dining restri...</td>\n",
              "      <td>[[-0.024221, -0.034855, 0.3571, -0.02155, -0.5...</td>\n",
              "      <td>0.000000</td>\n",
              "    </tr>\n",
              "    <tr>\n",
              "      <th>0</th>\n",
              "      <td>Gravy_Restaurant</td>\n",
              "      <td>5 stars</td>\n",
              "      <td>2 days ago</td>\n",
              "      <td>4</td>\n",
              "      <td>There are lots of Indian restaurant at Tanjong...</td>\n",
              "      <td>restrictions</td>\n",
              "      <td>price</td>\n",
              "      <td>Second time dining out since the dining restri...</td>\n",
              "      <td>[[-0.024221, -0.034855, 0.3571, -0.02155, -0.5...</td>\n",
              "      <td>0.000000</td>\n",
              "    </tr>\n",
              "    <tr>\n",
              "      <th>...</th>\n",
              "      <td>...</td>\n",
              "      <td>...</td>\n",
              "      <td>...</td>\n",
              "      <td>...</td>\n",
              "      <td>...</td>\n",
              "      <td>...</td>\n",
              "      <td>...</td>\n",
              "      <td>...</td>\n",
              "      <td>...</td>\n",
              "      <td>...</td>\n",
              "    </tr>\n",
              "    <tr>\n",
              "      <th>0</th>\n",
              "      <td>Comida_Mexicana</td>\n",
              "      <td>1 star</td>\n",
              "      <td>4 years ago</td>\n",
              "      <td>0</td>\n",
              "      <td>Great Mexican food! Great hospitality within t...</td>\n",
              "      <td>food</td>\n",
              "      <td>food</td>\n",
              "      <td>Great Mexican food</td>\n",
              "      <td>[[-0.16486, 0.91997, 0.22737, -0.49031, -0.001...</td>\n",
              "      <td>0.400000</td>\n",
              "    </tr>\n",
              "    <tr>\n",
              "      <th>0</th>\n",
              "      <td>Comida_Mexicana</td>\n",
              "      <td>1 star</td>\n",
              "      <td>4 years ago</td>\n",
              "      <td>1</td>\n",
              "      <td>Great Mexican food! Great hospitality within t...</td>\n",
              "      <td>hospitality</td>\n",
              "      <td>price</td>\n",
              "      <td>Great hospitality within the few tables availa...</td>\n",
              "      <td>[[0.23471, 0.097874, 0.049255, 0.42204, -0.253...</td>\n",
              "      <td>0.333333</td>\n",
              "    </tr>\n",
              "    <tr>\n",
              "      <th>0</th>\n",
              "      <td>Comida_Mexicana</td>\n",
              "      <td>1 star</td>\n",
              "      <td>4 years ago</td>\n",
              "      <td>2</td>\n",
              "      <td>Great Mexican food! Great hospitality within t...</td>\n",
              "      <td>tables</td>\n",
              "      <td>ambience</td>\n",
              "      <td>Great hospitality within the few tables availa...</td>\n",
              "      <td>[[0.23471, 0.097874, 0.049255, 0.42204, -0.253...</td>\n",
              "      <td>0.333333</td>\n",
              "    </tr>\n",
              "    <tr>\n",
              "      <th>0</th>\n",
              "      <td>Comida_Mexicana</td>\n",
              "      <td>1 star</td>\n",
              "      <td>4 years ago</td>\n",
              "      <td>3</td>\n",
              "      <td>Great Mexican food! Great hospitality within t...</td>\n",
              "      <td>restaurant</td>\n",
              "      <td>ambience</td>\n",
              "      <td>Great hospitality within the few tables availa...</td>\n",
              "      <td>[[0.23471, 0.097874, 0.049255, 0.42204, -0.253...</td>\n",
              "      <td>0.333333</td>\n",
              "    </tr>\n",
              "    <tr>\n",
              "      <th>0</th>\n",
              "      <td>Comida_Mexicana</td>\n",
              "      <td>2 stars</td>\n",
              "      <td>4 years ago</td>\n",
              "      <td>0</td>\n",
              "      <td>Great Mexican menu</td>\n",
              "      <td>menu</td>\n",
              "      <td>food</td>\n",
              "      <td>Great Mexican menu</td>\n",
              "      <td>[[-0.65068, 0.20939, 0.36707, 0.01845, 0.36554...</td>\n",
              "      <td>0.400000</td>\n",
              "    </tr>\n",
              "  </tbody>\n",
              "</table>\n",
              "<p>4230 rows × 10 columns</p>\n",
              "</div>"
            ],
            "text/plain": [
              "          restaurant  ... clause_polarity\n",
              "0   Gravy_Restaurant  ...        0.000000\n",
              "0   Gravy_Restaurant  ...        0.000000\n",
              "0   Gravy_Restaurant  ...        0.000000\n",
              "0   Gravy_Restaurant  ...        0.000000\n",
              "0   Gravy_Restaurant  ...        0.000000\n",
              "..               ...  ...             ...\n",
              "0    Comida_Mexicana  ...        0.400000\n",
              "0    Comida_Mexicana  ...        0.333333\n",
              "0    Comida_Mexicana  ...        0.333333\n",
              "0    Comida_Mexicana  ...        0.333333\n",
              "0    Comida_Mexicana  ...        0.400000\n",
              "\n",
              "[4230 rows x 10 columns]"
            ]
          },
          "metadata": {},
          "execution_count": 112
        }
      ]
    },
    {
      "cell_type": "code",
      "metadata": {
        "id": "MzCJx4ns0aTi"
      },
      "source": [
        "place = to_pred['restaurant']\n",
        "category = to_pred['category']"
      ],
      "execution_count": null,
      "outputs": []
    },
    {
      "cell_type": "code",
      "metadata": {
        "id": "eI4Z12860qz2"
      },
      "source": [
        "place = pd.DataFrame(place)"
      ],
      "execution_count": null,
      "outputs": []
    },
    {
      "cell_type": "code",
      "metadata": {
        "id": "7muRg-G609Gj"
      },
      "source": [
        "place.index = pred.index"
      ],
      "execution_count": null,
      "outputs": []
    },
    {
      "cell_type": "code",
      "metadata": {
        "id": "n-rPbRye0mvl"
      },
      "source": [
        "result_new['place'] = place"
      ],
      "execution_count": null,
      "outputs": []
    },
    {
      "cell_type": "code",
      "metadata": {
        "id": "JUYUE15d1Dey"
      },
      "source": [
        "category = pd.DataFrame(category)\n",
        "category.index = pred.index\n",
        "result_new['category'] = category"
      ],
      "execution_count": null,
      "outputs": []
    },
    {
      "cell_type": "code",
      "metadata": {
        "colab": {
          "base_uri": "https://localhost:8080/",
          "height": 424
        },
        "id": "pGxXr5L_1Dh2",
        "outputId": "03d8846a-b166-48c5-cbf2-f317d370faf6"
      },
      "source": [
        "result_new"
      ],
      "execution_count": null,
      "outputs": [
        {
          "output_type": "execute_result",
          "data": {
            "text/html": [
              "<div>\n",
              "<style scoped>\n",
              "    .dataframe tbody tr th:only-of-type {\n",
              "        vertical-align: middle;\n",
              "    }\n",
              "\n",
              "    .dataframe tbody tr th {\n",
              "        vertical-align: top;\n",
              "    }\n",
              "\n",
              "    .dataframe thead th {\n",
              "        text-align: right;\n",
              "    }\n",
              "</style>\n",
              "<table border=\"1\" class=\"dataframe\">\n",
              "  <thead>\n",
              "    <tr style=\"text-align: right;\">\n",
              "      <th></th>\n",
              "      <th>feature</th>\n",
              "      <th>pred</th>\n",
              "      <th>place</th>\n",
              "      <th>category</th>\n",
              "    </tr>\n",
              "  </thead>\n",
              "  <tbody>\n",
              "    <tr>\n",
              "      <th>0</th>\n",
              "      <td>lots</td>\n",
              "      <td>-0.004533</td>\n",
              "      <td>Gravy_Restaurant</td>\n",
              "      <td>price</td>\n",
              "    </tr>\n",
              "    <tr>\n",
              "      <th>1</th>\n",
              "      <td>restaurant</td>\n",
              "      <td>-0.004533</td>\n",
              "      <td>Gravy_Restaurant</td>\n",
              "      <td>ambience</td>\n",
              "    </tr>\n",
              "    <tr>\n",
              "      <th>2</th>\n",
              "      <td>time</td>\n",
              "      <td>-0.004809</td>\n",
              "      <td>Gravy_Restaurant</td>\n",
              "      <td>price</td>\n",
              "    </tr>\n",
              "    <tr>\n",
              "      <th>3</th>\n",
              "      <td>dining</td>\n",
              "      <td>-0.004809</td>\n",
              "      <td>Gravy_Restaurant</td>\n",
              "      <td>ambience</td>\n",
              "    </tr>\n",
              "    <tr>\n",
              "      <th>4</th>\n",
              "      <td>restrictions</td>\n",
              "      <td>-0.004809</td>\n",
              "      <td>Gravy_Restaurant</td>\n",
              "      <td>price</td>\n",
              "    </tr>\n",
              "    <tr>\n",
              "      <th>...</th>\n",
              "      <td>...</td>\n",
              "      <td>...</td>\n",
              "      <td>...</td>\n",
              "      <td>...</td>\n",
              "    </tr>\n",
              "    <tr>\n",
              "      <th>4225</th>\n",
              "      <td>food</td>\n",
              "      <td>0.784040</td>\n",
              "      <td>Comida_Mexicana</td>\n",
              "      <td>food</td>\n",
              "    </tr>\n",
              "    <tr>\n",
              "      <th>4226</th>\n",
              "      <td>hospitality</td>\n",
              "      <td>0.247510</td>\n",
              "      <td>Comida_Mexicana</td>\n",
              "      <td>price</td>\n",
              "    </tr>\n",
              "    <tr>\n",
              "      <th>4227</th>\n",
              "      <td>tables</td>\n",
              "      <td>0.247510</td>\n",
              "      <td>Comida_Mexicana</td>\n",
              "      <td>ambience</td>\n",
              "    </tr>\n",
              "    <tr>\n",
              "      <th>4228</th>\n",
              "      <td>restaurant</td>\n",
              "      <td>0.247510</td>\n",
              "      <td>Comida_Mexicana</td>\n",
              "      <td>ambience</td>\n",
              "    </tr>\n",
              "    <tr>\n",
              "      <th>4229</th>\n",
              "      <td>menu</td>\n",
              "      <td>0.781758</td>\n",
              "      <td>Comida_Mexicana</td>\n",
              "      <td>food</td>\n",
              "    </tr>\n",
              "  </tbody>\n",
              "</table>\n",
              "<p>4230 rows × 4 columns</p>\n",
              "</div>"
            ],
            "text/plain": [
              "           feature      pred             place  category\n",
              "0             lots -0.004533  Gravy_Restaurant     price\n",
              "1       restaurant -0.004533  Gravy_Restaurant  ambience\n",
              "2             time -0.004809  Gravy_Restaurant     price\n",
              "3           dining -0.004809  Gravy_Restaurant  ambience\n",
              "4     restrictions -0.004809  Gravy_Restaurant     price\n",
              "...            ...       ...               ...       ...\n",
              "4225          food  0.784040   Comida_Mexicana      food\n",
              "4226   hospitality  0.247510   Comida_Mexicana     price\n",
              "4227        tables  0.247510   Comida_Mexicana  ambience\n",
              "4228    restaurant  0.247510   Comida_Mexicana  ambience\n",
              "4229          menu  0.781758   Comida_Mexicana      food\n",
              "\n",
              "[4230 rows x 4 columns]"
            ]
          },
          "metadata": {},
          "execution_count": 127
        }
      ]
    },
    {
      "cell_type": "code",
      "metadata": {
        "colab": {
          "base_uri": "https://localhost:8080/",
          "height": 17
        },
        "id": "KmCU9xeeuuBu",
        "outputId": "c1c495c7-0c8f-4644-c4eb-55bac505f4d6"
      },
      "source": [
        "from google.colab import files\n",
        "result_new.to_csv('preds4222_newtest2.csv', index=False) \n",
        "files.download('preds4222_newtest2.csv')"
      ],
      "execution_count": null,
      "outputs": [
        {
          "output_type": "display_data",
          "data": {
            "application/javascript": [
              "\n",
              "    async function download(id, filename, size) {\n",
              "      if (!google.colab.kernel.accessAllowed) {\n",
              "        return;\n",
              "      }\n",
              "      const div = document.createElement('div');\n",
              "      const label = document.createElement('label');\n",
              "      label.textContent = `Downloading \"${filename}\": `;\n",
              "      div.appendChild(label);\n",
              "      const progress = document.createElement('progress');\n",
              "      progress.max = size;\n",
              "      div.appendChild(progress);\n",
              "      document.body.appendChild(div);\n",
              "\n",
              "      const buffers = [];\n",
              "      let downloaded = 0;\n",
              "\n",
              "      const channel = await google.colab.kernel.comms.open(id);\n",
              "      // Send a message to notify the kernel that we're ready.\n",
              "      channel.send({})\n",
              "\n",
              "      for await (const message of channel.messages) {\n",
              "        // Send a message to notify the kernel that we're ready.\n",
              "        channel.send({})\n",
              "        if (message.buffers) {\n",
              "          for (const buffer of message.buffers) {\n",
              "            buffers.push(buffer);\n",
              "            downloaded += buffer.byteLength;\n",
              "            progress.value = downloaded;\n",
              "          }\n",
              "        }\n",
              "      }\n",
              "      const blob = new Blob(buffers, {type: 'application/binary'});\n",
              "      const a = document.createElement('a');\n",
              "      a.href = window.URL.createObjectURL(blob);\n",
              "      a.download = filename;\n",
              "      div.appendChild(a);\n",
              "      a.click();\n",
              "      div.remove();\n",
              "    }\n",
              "  "
            ],
            "text/plain": [
              "<IPython.core.display.Javascript object>"
            ]
          },
          "metadata": {}
        },
        {
          "output_type": "display_data",
          "data": {
            "application/javascript": [
              "download(\"download_d6bed1ac-9a12-4d33-a8f0-f53381a8d53c\", \"preds4222_newtest2.csv\", 161265)"
            ],
            "text/plain": [
              "<IPython.core.display.Javascript object>"
            ]
          },
          "metadata": {}
        }
      ]
    },
    {
      "cell_type": "code",
      "metadata": {
        "colab": {
          "base_uri": "https://localhost:8080/",
          "height": 17
        },
        "id": "VuXAVndeuuBu",
        "outputId": "3218fd02-7631-41f4-f5a9-a654b33fb32a"
      },
      "source": [
        "from google.colab import files\n",
        "y_tp.to_csv('ynew.csv', index=False) \n",
        "files.download('ynew.csv')"
      ],
      "execution_count": null,
      "outputs": [
        {
          "output_type": "display_data",
          "data": {
            "application/javascript": [
              "\n",
              "    async function download(id, filename, size) {\n",
              "      if (!google.colab.kernel.accessAllowed) {\n",
              "        return;\n",
              "      }\n",
              "      const div = document.createElement('div');\n",
              "      const label = document.createElement('label');\n",
              "      label.textContent = `Downloading \"${filename}\": `;\n",
              "      div.appendChild(label);\n",
              "      const progress = document.createElement('progress');\n",
              "      progress.max = size;\n",
              "      div.appendChild(progress);\n",
              "      document.body.appendChild(div);\n",
              "\n",
              "      const buffers = [];\n",
              "      let downloaded = 0;\n",
              "\n",
              "      const channel = await google.colab.kernel.comms.open(id);\n",
              "      // Send a message to notify the kernel that we're ready.\n",
              "      channel.send({})\n",
              "\n",
              "      for await (const message of channel.messages) {\n",
              "        // Send a message to notify the kernel that we're ready.\n",
              "        channel.send({})\n",
              "        if (message.buffers) {\n",
              "          for (const buffer of message.buffers) {\n",
              "            buffers.push(buffer);\n",
              "            downloaded += buffer.byteLength;\n",
              "            progress.value = downloaded;\n",
              "          }\n",
              "        }\n",
              "      }\n",
              "      const blob = new Blob(buffers, {type: 'application/binary'});\n",
              "      const a = document.createElement('a');\n",
              "      a.href = window.URL.createObjectURL(blob);\n",
              "      a.download = filename;\n",
              "      div.appendChild(a);\n",
              "      a.click();\n",
              "      div.remove();\n",
              "    }\n",
              "  "
            ],
            "text/plain": [
              "<IPython.core.display.Javascript object>"
            ]
          },
          "metadata": {}
        },
        {
          "output_type": "display_data",
          "data": {
            "application/javascript": [
              "download(\"download_58085edf-8218-484c-93ac-d528b96f0574\", \"ynew.csv\", 27963)"
            ],
            "text/plain": [
              "<IPython.core.display.Javascript object>"
            ]
          },
          "metadata": {}
        }
      ]
    },
    {
      "cell_type": "markdown",
      "metadata": {
        "id": "RFvryIsdpc--"
      },
      "source": [
        "# Predicting New Dataset 2"
      ]
    },
    {
      "cell_type": "code",
      "metadata": {
        "id": "icCAFwskpc_A"
      },
      "source": [
        "pred = model.predict(X_tp2_pad)"
      ],
      "execution_count": 59,
      "outputs": []
    },
    {
      "cell_type": "code",
      "metadata": {
        "colab": {
          "base_uri": "https://localhost:8080/"
        },
        "id": "CjtFNwfZpc_C",
        "outputId": "197106bd-a1cf-41e3-d515-6e1f031784f9"
      },
      "source": [
        "pred"
      ],
      "execution_count": 60,
      "outputs": [
        {
          "output_type": "execute_result",
          "data": {
            "text/plain": [
              "array([[-0.0007672 ],\n",
              "       [-0.0007672 ],\n",
              "       [ 0.00224726],\n",
              "       ...,\n",
              "       [-0.12606025],\n",
              "       [-0.12606025],\n",
              "       [-0.02285392]], dtype=float32)"
            ]
          },
          "metadata": {},
          "execution_count": 60
        }
      ]
    },
    {
      "cell_type": "code",
      "metadata": {
        "colab": {
          "base_uri": "https://localhost:8080/"
        },
        "id": "2nFcwoRhpc_D",
        "outputId": "776d0c0f-61a2-48ab-c320-98d2adb57732"
      },
      "source": [
        "from sklearn.metrics import mean_squared_error\n",
        "mean_squared_error(y_tp2, pred)"
      ],
      "execution_count": 61,
      "outputs": [
        {
          "output_type": "execute_result",
          "data": {
            "text/plain": [
              "0.013386552201145197"
            ]
          },
          "metadata": {},
          "execution_count": 61
        }
      ]
    },
    {
      "cell_type": "code",
      "metadata": {
        "id": "OCRWOr2upc_F"
      },
      "source": [
        "final = to_pred2['feature']"
      ],
      "execution_count": 62,
      "outputs": []
    },
    {
      "cell_type": "code",
      "metadata": {
        "colab": {
          "base_uri": "https://localhost:8080/"
        },
        "id": "g64DPOu8pc_G",
        "outputId": "ca05e713-7efa-45b6-a2a1-5f992451e721"
      },
      "source": [
        "pred.flatten()"
      ],
      "execution_count": 63,
      "outputs": [
        {
          "output_type": "execute_result",
          "data": {
            "text/plain": [
              "array([-0.0007672 , -0.0007672 ,  0.00224726, ..., -0.12606025,\n",
              "       -0.12606025, -0.02285392], dtype=float32)"
            ]
          },
          "metadata": {},
          "execution_count": 63
        }
      ]
    },
    {
      "cell_type": "code",
      "metadata": {
        "colab": {
          "base_uri": "https://localhost:8080/"
        },
        "id": "Nidvyl4Ppc_H",
        "outputId": "be90b68d-dd0e-4451-c1f3-005151f80273"
      },
      "source": [
        "final.to_numpy()"
      ],
      "execution_count": 64,
      "outputs": [
        {
          "output_type": "execute_result",
          "data": {
            "text/plain": [
              "array(['lots', 'restaurant', 'time', ..., 'signboard', 'bit', 'entrance'],\n",
              "      dtype=object)"
            ]
          },
          "metadata": {},
          "execution_count": 64
        }
      ]
    },
    {
      "cell_type": "code",
      "metadata": {
        "id": "4Tq7lPbVpc_H"
      },
      "source": [
        "pred = pd.DataFrame(pred)\n",
        "final = pd.DataFrame(final)"
      ],
      "execution_count": 65,
      "outputs": []
    },
    {
      "cell_type": "code",
      "metadata": {
        "id": "jHJVNDhipc_I"
      },
      "source": [
        "result_new = final"
      ],
      "execution_count": 66,
      "outputs": []
    },
    {
      "cell_type": "code",
      "metadata": {
        "id": "uyI_t_Zipc_J"
      },
      "source": [
        "result_new.index = pred.index"
      ],
      "execution_count": 67,
      "outputs": []
    },
    {
      "cell_type": "code",
      "metadata": {
        "id": "dQCWSEjSpc_J"
      },
      "source": [
        "result_new['pred'] = pred"
      ],
      "execution_count": 68,
      "outputs": []
    },
    {
      "cell_type": "code",
      "metadata": {
        "colab": {
          "base_uri": "https://localhost:8080/",
          "height": 424
        },
        "id": "VfolnnnOpc_K",
        "outputId": "0037e23b-a9e8-4860-82e5-627a8a7eb9ea"
      },
      "source": [
        "result_new"
      ],
      "execution_count": 69,
      "outputs": [
        {
          "output_type": "execute_result",
          "data": {
            "text/html": [
              "<div>\n",
              "<style scoped>\n",
              "    .dataframe tbody tr th:only-of-type {\n",
              "        vertical-align: middle;\n",
              "    }\n",
              "\n",
              "    .dataframe tbody tr th {\n",
              "        vertical-align: top;\n",
              "    }\n",
              "\n",
              "    .dataframe thead th {\n",
              "        text-align: right;\n",
              "    }\n",
              "</style>\n",
              "<table border=\"1\" class=\"dataframe\">\n",
              "  <thead>\n",
              "    <tr style=\"text-align: right;\">\n",
              "      <th></th>\n",
              "      <th>feature</th>\n",
              "      <th>pred</th>\n",
              "    </tr>\n",
              "  </thead>\n",
              "  <tbody>\n",
              "    <tr>\n",
              "      <th>0</th>\n",
              "      <td>lots</td>\n",
              "      <td>-0.000767</td>\n",
              "    </tr>\n",
              "    <tr>\n",
              "      <th>1</th>\n",
              "      <td>restaurant</td>\n",
              "      <td>-0.000767</td>\n",
              "    </tr>\n",
              "    <tr>\n",
              "      <th>2</th>\n",
              "      <td>time</td>\n",
              "      <td>0.002247</td>\n",
              "    </tr>\n",
              "    <tr>\n",
              "      <th>3</th>\n",
              "      <td>dining</td>\n",
              "      <td>0.002247</td>\n",
              "    </tr>\n",
              "    <tr>\n",
              "      <th>4</th>\n",
              "      <td>restrictions</td>\n",
              "      <td>0.002247</td>\n",
              "    </tr>\n",
              "    <tr>\n",
              "      <th>...</th>\n",
              "      <td>...</td>\n",
              "      <td>...</td>\n",
              "    </tr>\n",
              "    <tr>\n",
              "      <th>6153</th>\n",
              "      <td>month</td>\n",
              "      <td>0.447087</td>\n",
              "    </tr>\n",
              "    <tr>\n",
              "      <th>6154</th>\n",
              "      <td>restaurant</td>\n",
              "      <td>0.000315</td>\n",
              "    </tr>\n",
              "    <tr>\n",
              "      <th>6155</th>\n",
              "      <td>signboard</td>\n",
              "      <td>-0.126060</td>\n",
              "    </tr>\n",
              "    <tr>\n",
              "      <th>6156</th>\n",
              "      <td>bit</td>\n",
              "      <td>-0.126060</td>\n",
              "    </tr>\n",
              "    <tr>\n",
              "      <th>6157</th>\n",
              "      <td>entrance</td>\n",
              "      <td>-0.022854</td>\n",
              "    </tr>\n",
              "  </tbody>\n",
              "</table>\n",
              "<p>6158 rows × 2 columns</p>\n",
              "</div>"
            ],
            "text/plain": [
              "           feature      pred\n",
              "0             lots -0.000767\n",
              "1       restaurant -0.000767\n",
              "2             time  0.002247\n",
              "3           dining  0.002247\n",
              "4     restrictions  0.002247\n",
              "...            ...       ...\n",
              "6153         month  0.447087\n",
              "6154    restaurant  0.000315\n",
              "6155     signboard -0.126060\n",
              "6156           bit -0.126060\n",
              "6157      entrance -0.022854\n",
              "\n",
              "[6158 rows x 2 columns]"
            ]
          },
          "metadata": {},
          "execution_count": 69
        }
      ]
    },
    {
      "cell_type": "code",
      "metadata": {
        "id": "svD1q1N2pc_M"
      },
      "source": [
        "place = to_pred2['restaurant']\n",
        "category = to_pred2['category']"
      ],
      "execution_count": 70,
      "outputs": []
    },
    {
      "cell_type": "code",
      "metadata": {
        "id": "ks-Pfbm5pc_M"
      },
      "source": [
        "place = pd.DataFrame(place)"
      ],
      "execution_count": 71,
      "outputs": []
    },
    {
      "cell_type": "code",
      "metadata": {
        "id": "uJnnSa84pc_N"
      },
      "source": [
        "place.index = pred.index"
      ],
      "execution_count": 72,
      "outputs": []
    },
    {
      "cell_type": "code",
      "metadata": {
        "id": "kkBAlNWmpc_N"
      },
      "source": [
        "result_new['place'] = place"
      ],
      "execution_count": 73,
      "outputs": []
    },
    {
      "cell_type": "code",
      "metadata": {
        "id": "H2r-wrxTpc_O"
      },
      "source": [
        "category = pd.DataFrame(category)\n",
        "category.index = pred.index\n",
        "result_new['category'] = category"
      ],
      "execution_count": 74,
      "outputs": []
    },
    {
      "cell_type": "code",
      "metadata": {
        "colab": {
          "base_uri": "https://localhost:8080/",
          "height": 424
        },
        "id": "78JF2XXppc_O",
        "outputId": "4cd14c90-9d90-4414-94d3-c64eb0d56b66"
      },
      "source": [
        "result_new"
      ],
      "execution_count": 75,
      "outputs": [
        {
          "output_type": "execute_result",
          "data": {
            "text/html": [
              "<div>\n",
              "<style scoped>\n",
              "    .dataframe tbody tr th:only-of-type {\n",
              "        vertical-align: middle;\n",
              "    }\n",
              "\n",
              "    .dataframe tbody tr th {\n",
              "        vertical-align: top;\n",
              "    }\n",
              "\n",
              "    .dataframe thead th {\n",
              "        text-align: right;\n",
              "    }\n",
              "</style>\n",
              "<table border=\"1\" class=\"dataframe\">\n",
              "  <thead>\n",
              "    <tr style=\"text-align: right;\">\n",
              "      <th></th>\n",
              "      <th>feature</th>\n",
              "      <th>pred</th>\n",
              "      <th>place</th>\n",
              "      <th>category</th>\n",
              "    </tr>\n",
              "  </thead>\n",
              "  <tbody>\n",
              "    <tr>\n",
              "      <th>0</th>\n",
              "      <td>lots</td>\n",
              "      <td>-0.000767</td>\n",
              "      <td>Gravy_Restaurant</td>\n",
              "      <td>price</td>\n",
              "    </tr>\n",
              "    <tr>\n",
              "      <th>1</th>\n",
              "      <td>restaurant</td>\n",
              "      <td>-0.000767</td>\n",
              "      <td>Gravy_Restaurant</td>\n",
              "      <td>ambience</td>\n",
              "    </tr>\n",
              "    <tr>\n",
              "      <th>2</th>\n",
              "      <td>time</td>\n",
              "      <td>0.002247</td>\n",
              "      <td>Gravy_Restaurant</td>\n",
              "      <td>price</td>\n",
              "    </tr>\n",
              "    <tr>\n",
              "      <th>3</th>\n",
              "      <td>dining</td>\n",
              "      <td>0.002247</td>\n",
              "      <td>Gravy_Restaurant</td>\n",
              "      <td>ambience</td>\n",
              "    </tr>\n",
              "    <tr>\n",
              "      <th>4</th>\n",
              "      <td>restrictions</td>\n",
              "      <td>0.002247</td>\n",
              "      <td>Gravy_Restaurant</td>\n",
              "      <td>price</td>\n",
              "    </tr>\n",
              "    <tr>\n",
              "      <th>...</th>\n",
              "      <td>...</td>\n",
              "      <td>...</td>\n",
              "      <td>...</td>\n",
              "      <td>...</td>\n",
              "    </tr>\n",
              "    <tr>\n",
              "      <th>6153</th>\n",
              "      <td>month</td>\n",
              "      <td>0.447087</td>\n",
              "      <td>roots</td>\n",
              "      <td>price</td>\n",
              "    </tr>\n",
              "    <tr>\n",
              "      <th>6154</th>\n",
              "      <td>restaurant</td>\n",
              "      <td>0.000315</td>\n",
              "      <td>roots</td>\n",
              "      <td>ambience</td>\n",
              "    </tr>\n",
              "    <tr>\n",
              "      <th>6155</th>\n",
              "      <td>signboard</td>\n",
              "      <td>-0.126060</td>\n",
              "      <td>roots</td>\n",
              "      <td>ambience</td>\n",
              "    </tr>\n",
              "    <tr>\n",
              "      <th>6156</th>\n",
              "      <td>bit</td>\n",
              "      <td>-0.126060</td>\n",
              "      <td>roots</td>\n",
              "      <td>price</td>\n",
              "    </tr>\n",
              "    <tr>\n",
              "      <th>6157</th>\n",
              "      <td>entrance</td>\n",
              "      <td>-0.022854</td>\n",
              "      <td>roots</td>\n",
              "      <td>ambience</td>\n",
              "    </tr>\n",
              "  </tbody>\n",
              "</table>\n",
              "<p>6158 rows × 4 columns</p>\n",
              "</div>"
            ],
            "text/plain": [
              "           feature      pred             place  category\n",
              "0             lots -0.000767  Gravy_Restaurant     price\n",
              "1       restaurant -0.000767  Gravy_Restaurant  ambience\n",
              "2             time  0.002247  Gravy_Restaurant     price\n",
              "3           dining  0.002247  Gravy_Restaurant  ambience\n",
              "4     restrictions  0.002247  Gravy_Restaurant     price\n",
              "...            ...       ...               ...       ...\n",
              "6153         month  0.447087             roots     price\n",
              "6154    restaurant  0.000315             roots  ambience\n",
              "6155     signboard -0.126060             roots  ambience\n",
              "6156           bit -0.126060             roots     price\n",
              "6157      entrance -0.022854             roots  ambience\n",
              "\n",
              "[6158 rows x 4 columns]"
            ]
          },
          "metadata": {},
          "execution_count": 75
        }
      ]
    },
    {
      "cell_type": "code",
      "metadata": {
        "colab": {
          "base_uri": "https://localhost:8080/",
          "height": 17
        },
        "id": "iIwnWU5Jpc_P",
        "outputId": "66bae927-5adb-43f8-ad35-a5232a1c7b96"
      },
      "source": [
        "from google.colab import files\n",
        "result_new.to_csv('preds4222_newtest3.csv', index=False) \n",
        "files.download('preds4222_newtest3.csv')"
      ],
      "execution_count": 76,
      "outputs": [
        {
          "output_type": "display_data",
          "data": {
            "application/javascript": [
              "\n",
              "    async function download(id, filename, size) {\n",
              "      if (!google.colab.kernel.accessAllowed) {\n",
              "        return;\n",
              "      }\n",
              "      const div = document.createElement('div');\n",
              "      const label = document.createElement('label');\n",
              "      label.textContent = `Downloading \"${filename}\": `;\n",
              "      div.appendChild(label);\n",
              "      const progress = document.createElement('progress');\n",
              "      progress.max = size;\n",
              "      div.appendChild(progress);\n",
              "      document.body.appendChild(div);\n",
              "\n",
              "      const buffers = [];\n",
              "      let downloaded = 0;\n",
              "\n",
              "      const channel = await google.colab.kernel.comms.open(id);\n",
              "      // Send a message to notify the kernel that we're ready.\n",
              "      channel.send({})\n",
              "\n",
              "      for await (const message of channel.messages) {\n",
              "        // Send a message to notify the kernel that we're ready.\n",
              "        channel.send({})\n",
              "        if (message.buffers) {\n",
              "          for (const buffer of message.buffers) {\n",
              "            buffers.push(buffer);\n",
              "            downloaded += buffer.byteLength;\n",
              "            progress.value = downloaded;\n",
              "          }\n",
              "        }\n",
              "      }\n",
              "      const blob = new Blob(buffers, {type: 'application/binary'});\n",
              "      const a = document.createElement('a');\n",
              "      a.href = window.URL.createObjectURL(blob);\n",
              "      a.download = filename;\n",
              "      div.appendChild(a);\n",
              "      a.click();\n",
              "      div.remove();\n",
              "    }\n",
              "  "
            ],
            "text/plain": [
              "<IPython.core.display.Javascript object>"
            ]
          },
          "metadata": {}
        },
        {
          "output_type": "display_data",
          "data": {
            "application/javascript": [
              "download(\"download_7d492a31-c819-41c8-9265-727c5af3a21a\", \"preds4222_newtest3.csv\", 213936)"
            ],
            "text/plain": [
              "<IPython.core.display.Javascript object>"
            ]
          },
          "metadata": {}
        }
      ]
    },
    {
      "cell_type": "code",
      "metadata": {
        "colab": {
          "base_uri": "https://localhost:8080/",
          "height": 17
        },
        "id": "--5OF3mipc_P",
        "outputId": "3de7fdbb-5899-49cd-f734-c2b431078b7a"
      },
      "source": [
        "from google.colab import files\n",
        "y_tp2.to_csv('ynew3.csv', index=False) \n",
        "files.download('ynew3.csv')"
      ],
      "execution_count": 77,
      "outputs": [
        {
          "output_type": "display_data",
          "data": {
            "application/javascript": [
              "\n",
              "    async function download(id, filename, size) {\n",
              "      if (!google.colab.kernel.accessAllowed) {\n",
              "        return;\n",
              "      }\n",
              "      const div = document.createElement('div');\n",
              "      const label = document.createElement('label');\n",
              "      label.textContent = `Downloading \"${filename}\": `;\n",
              "      div.appendChild(label);\n",
              "      const progress = document.createElement('progress');\n",
              "      progress.max = size;\n",
              "      div.appendChild(progress);\n",
              "      document.body.appendChild(div);\n",
              "\n",
              "      const buffers = [];\n",
              "      let downloaded = 0;\n",
              "\n",
              "      const channel = await google.colab.kernel.comms.open(id);\n",
              "      // Send a message to notify the kernel that we're ready.\n",
              "      channel.send({})\n",
              "\n",
              "      for await (const message of channel.messages) {\n",
              "        // Send a message to notify the kernel that we're ready.\n",
              "        channel.send({})\n",
              "        if (message.buffers) {\n",
              "          for (const buffer of message.buffers) {\n",
              "            buffers.push(buffer);\n",
              "            downloaded += buffer.byteLength;\n",
              "            progress.value = downloaded;\n",
              "          }\n",
              "        }\n",
              "      }\n",
              "      const blob = new Blob(buffers, {type: 'application/binary'});\n",
              "      const a = document.createElement('a');\n",
              "      a.href = window.URL.createObjectURL(blob);\n",
              "      a.download = filename;\n",
              "      div.appendChild(a);\n",
              "      a.click();\n",
              "      div.remove();\n",
              "    }\n",
              "  "
            ],
            "text/plain": [
              "<IPython.core.display.Javascript object>"
            ]
          },
          "metadata": {}
        },
        {
          "output_type": "display_data",
          "data": {
            "application/javascript": [
              "download(\"download_9e5ec223-1017-4a6c-9ed5-07c6951fea8e\", \"ynew3.csv\", 40550)"
            ],
            "text/plain": [
              "<IPython.core.display.Javascript object>"
            ]
          },
          "metadata": {}
        }
      ]
    }
  ]
}